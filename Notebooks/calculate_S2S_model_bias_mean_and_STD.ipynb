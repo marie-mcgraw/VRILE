{
 "cells": [
  {
   "cell_type": "markdown",
   "metadata": {},
   "source": [
    "<code>calculate_S2S_model_bias_mean_and_STD.ipynb</code>.  This notebook calculates bias (model - obs) in sea ice extent for each S2S model as a function of forecast month and region. This notebook considers both bias in mean SIE and in standard deviation of SIE. "
   ]
  },
  {
   "cell_type": "code",
   "execution_count": 1,
   "metadata": {},
   "outputs": [],
   "source": [
    "import xarray as xr\n",
    "import numpy as np\n",
    "import pandas as pd\n",
    "import os\n",
    "import matplotlib.pyplot as plt\n",
    "from S2S_sea_ice_preprocess import load_model, create_aggregate_regions, create_model_climatology\n",
    "from S2S_sea_ice_preprocess import create_obs_climatology "
   ]
  },
  {
   "cell_type": "markdown",
   "metadata": {},
   "source": [
    "## Overview"
   ]
  },
  {
   "cell_type": "markdown",
   "metadata": {},
   "source": [
    "<li>1) Load model netCDF files, combine with CTRL, and use common reforecast period. <br>\n",
    "if NCEP, use entire period </li>\n",
    "<li> 2) Add aggregate regions </li>\n",
    "<li> 3) Create climatology--model: calculate date of year for valid date, lead time in weeks.<br>\n",
    "<li> 4) Create observed climatology based on desired observational data set (static, using only common reforecast period) </li>\n",
    "<li> 5) Calculate bias at desired lead period (0 - <code>max_lead</code>) for each region, in each model, as a function of forecast month  \n",
    "    $$SIE_{bias} = \\overline{SIE_{model}(m,date)} - SIE_{obs}(m,date),$$\n",
    "    where the overline indicates averaging from lead days 0 - <code>max_lead</code>"
   ]
  },
  {
   "cell_type": "markdown",
   "metadata": {},
   "source": [
    "### Inputs"
   ]
  },
  {
   "cell_type": "code",
   "execution_count": 2,
   "metadata": {},
   "outputs": [],
   "source": [
    "model_names_ALL = ['ecmwf','ncep','ukmo','metreofr']\n",
    "obs_name = 'NSIDC_0051'\n",
    "COMMON_RF = True # we want to compare the reforecasts to obs over the same 15 year period\n",
    "MAX_LEAD = 1 #max lead in days"
   ]
  },
  {
   "cell_type": "markdown",
   "metadata": {},
   "source": [
    "Load data for all models at once"
   ]
  },
  {
   "cell_type": "code",
   "execution_count": 3,
   "metadata": {},
   "outputs": [
    {
     "name": "stdout",
     "output_type": "stream",
     "text": [
      "loading  ecmwf\n",
      "loading files from  /home/disk/sipn/nicway/data/model/ecmwf/reforecast/sipn_nc_agg_commonland/\n",
      "<xarray.Dataset>\n",
      "Dimensions:       (ensemble: 10, fore_time: 46, init_time: 2080, nregions: 15)\n",
      "Coordinates:\n",
      "    region_names  (nregions) object dask.array<chunksize=(15,), meta=np.ndarray>\n",
      "  * nregions      (nregions) int64 99 2 3 4 5 6 7 8 9 10 11 12 13 14 15\n",
      "  * fore_time     (fore_time) timedelta64[ns] 0 days 1 days ... 44 days 45 days\n",
      "  * ensemble      (ensemble) int32 0 1 2 3 4 5 6 7 8 9\n",
      "  * init_time     (init_time) datetime64[ns] 1998-08-06 ... 2018-08-01\n",
      "Data variables:\n",
      "    Extent        (ensemble, init_time, fore_time, nregions) float64 dask.array<chunksize=(10, 1, 46, 15), meta=np.ndarray>\n",
      "loaded  ecmwf\n",
      "combined regions\n"
     ]
    },
    {
     "name": "stderr",
     "output_type": "stream",
     "text": [
      "/home/disk/sipn/mcmcgraw/anaconda3/envs/sea_ice_variability_S2S/lib/python3.7/site-packages/dask/array/numpy_compat.py:40: RuntimeWarning: invalid value encountered in true_divide\n",
      "  x = np.divide(x1, x2, out)\n"
     ]
    },
    {
     "name": "stdout",
     "output_type": "stream",
     "text": [
      "loading  ncep\n",
      "loading files from  /home/disk/sipn/nicway/data/model/ncep/reforecast/sipn_nc_agg_commonland/\n",
      "<xarray.Dataset>\n",
      "Dimensions:       (ensemble: 3, fore_time: 43, init_time: 4523, nregions: 15)\n",
      "Coordinates:\n",
      "    region_names  (nregions) object dask.array<chunksize=(15,), meta=np.ndarray>\n",
      "  * nregions      (nregions) int64 99 2 3 4 5 6 7 8 9 10 11 12 13 14 15\n",
      "  * fore_time     (fore_time) timedelta64[ns] 1 days 2 days ... 42 days 43 days\n",
      "  * ensemble      (ensemble) int32 0 1 2\n",
      "  * init_time     (init_time) datetime64[ns] 1999-01-01 ... 2010-12-31\n",
      "Data variables:\n",
      "    Extent        (ensemble, init_time, fore_time, nregions) float64 dask.array<chunksize=(3, 16, 43, 15), meta=np.ndarray>\n",
      "loaded  ncep\n",
      "combined regions\n"
     ]
    },
    {
     "name": "stderr",
     "output_type": "stream",
     "text": [
      "/home/disk/sipn/mcmcgraw/anaconda3/envs/sea_ice_variability_S2S/lib/python3.7/site-packages/dask/array/numpy_compat.py:40: RuntimeWarning: invalid value encountered in true_divide\n",
      "  x = np.divide(x1, x2, out)\n"
     ]
    },
    {
     "name": "stdout",
     "output_type": "stream",
     "text": [
      "loading  ukmo\n",
      "loading files from  /home/disk/sipn/nicway/data/model/ukmo/reforecast/sipn_nc_agg_commonland/\n",
      "<xarray.Dataset>\n",
      "Dimensions:       (ensemble: 6, fore_time: 60, init_time: 1008, nregions: 15)\n",
      "Coordinates:\n",
      "    region_names  (nregions) object dask.array<chunksize=(15,), meta=np.ndarray>\n",
      "  * nregions      (nregions) int64 99 2 3 4 5 6 7 8 9 10 11 12 13 14 15\n",
      "  * fore_time     (fore_time) timedelta64[ns] 0 days 1 days ... 58 days 59 days\n",
      "  * ensemble      (ensemble) int32 0 1 2 3 4 5\n",
      "  * init_time     (init_time) datetime64[ns] 1995-01-01 ... 2015-12-25\n",
      "Data variables:\n",
      "    Extent        (ensemble, init_time, fore_time, nregions) float64 dask.array<chunksize=(6, 1, 60, 15), meta=np.ndarray>\n",
      "loaded  ukmo\n",
      "combined regions\n",
      "loading  metreofr\n",
      "loading files from  /home/disk/sipn/nicway/data/model/metreofr/reforecast/sipn_nc_agg_commonland/\n",
      "<xarray.Dataset>\n",
      "Dimensions:       (ensemble: 9, fore_time: 47, init_time: 834, nregions: 15)\n",
      "Coordinates:\n",
      "    region_names  (nregions) object dask.array<chunksize=(15,), meta=np.ndarray>\n",
      "  * nregions      (nregions) int64 99 2 3 4 5 6 7 8 9 10 11 12 13 14 15\n",
      "  * fore_time     (fore_time) timedelta64[ns] 0 days 1 days ... 45 days 46 days\n",
      "  * ensemble      (ensemble) int32 0 1 2 3 4 5 6 7 8\n",
      "  * init_time     (init_time) datetime64[ns] 1999-01-07 ... 2014-12-25\n",
      "Data variables:\n",
      "    Extent        (ensemble, init_time, fore_time, nregions) float64 dask.array<chunksize=(9, 1, 47, 15), meta=np.ndarray>\n",
      "loaded  metreofr\n",
      "combined regions\n"
     ]
    }
   ],
   "source": [
    "SIE_df_ALL = pd.DataFrame()\n",
    "SIE_df_weekly_ALL = pd.DataFrame()\n",
    "for model_name in model_names_ALL:\n",
    "    print('loading ',model_name)\n",
    "    # Load\n",
    "    SIE = load_model(model_name)\n",
    "    print('loaded ',model_name)\n",
    "    # Create aggregate regions\n",
    "    SIE = create_aggregate_regions(SIE)\n",
    "    print('combined regions')\n",
    "    # Take ensemble mean and get lead time in days\n",
    "    SIE_ens_mean = SIE.mean(dim='ensemble')\n",
    "    regions = SIE.region_names\n",
    "    lead_days = SIE.fore_time.dt.days\n",
    "    # Convert to dataframe, rename some columns, and get the date of the forecast by adding the fore_time to init_date\n",
    "    SIE_df = SIE_ens_mean.to_dataframe().reset_index()\n",
    "    SIE_df['valid date'] = SIE_df['init_time'] + SIE_df['fore_time']\n",
    "    SIE_df = SIE_df.rename(columns={'region_names':'region',\n",
    "                               'fore_time':'lead time (days)',\n",
    "                               'init_time':'init date',\n",
    "                               'Extent':'SIE'})\n",
    "    SIE_df = create_model_climatology(SIE_df,7)\n",
    "    SIE_df['model name'] = model_name\n",
    "    \n",
    "# Create climatology\n",
    "    SIE_df_ALL = SIE_df_ALL.append(SIE_df)\n",
    "    #SIE_df_weekly_ALL = SIE_df_weekly_ALL.append(SIE_df_weekly)"
   ]
  },
  {
   "cell_type": "markdown",
   "metadata": {},
   "source": [
    "Load obs"
   ]
  },
  {
   "cell_type": "code",
   "execution_count": 4,
   "metadata": {
    "scrolled": true
   },
   "outputs": [
    {
     "name": "stdout",
     "output_type": "stream",
     "text": [
      "opening  <xarray.Dataset>\n",
      "Dimensions:       (nregions: 15, time: 11261)\n",
      "Coordinates:\n",
      "    region_names  (nregions) object dask.array<chunksize=(15,), meta=np.ndarray>\n",
      "  * nregions      (nregions) int64 99 2 3 4 5 6 7 8 9 10 11 12 13 14 15\n",
      "  * time          (time) datetime64[ns] 1989-01-01 1989-01-02 ... 2019-10-31\n",
      "Data variables:\n",
      "    Extent        (time, nregions) float64 dask.array<chunksize=(365, 15), meta=np.ndarray>\n",
      "obs loaded\n"
     ]
    }
   ],
   "source": [
    "if obs_name == 'NSIDC_0079':\n",
    "    obs_type = 'sipn_nc_yearly_agg_commonland'\n",
    "else:\n",
    "    obs_type = 'sipn_nc_yearly_agg'\n",
    "filepath = '/home/disk/sipn/nicway/data/obs/{model_name}/{model_type}/'.format(model_name=obs_name,\n",
    "                                                                              model_type=obs_type)\n",
    "obs_filenames = xr.open_mfdataset(filepath+'/*.nc',combine='by_coords')\n",
    "print('opening ',obs_filenames)\n",
    "obs_SIE = obs_filenames.Extent\n",
    "obs_regions = obs_filenames.nregions\n",
    "obs_region_names = obs_filenames['region_names'].values\n",
    "# Drop region names and re-add as a non-dask.array object.  This is stupid but oh well\n",
    "obs_SIE = obs_SIE.drop('region_names')\n",
    "obs_SIE[\"region_names\"] = (\"nregions\",obs_region_names)\n",
    "print('obs loaded')"
   ]
  },
  {
   "cell_type": "markdown",
   "metadata": {},
   "source": [
    "Add aggregate regions to obs and convert obs to Pandas dataframe"
   ]
  },
  {
   "cell_type": "code",
   "execution_count": 5,
   "metadata": {},
   "outputs": [],
   "source": [
    "obs_SIE = create_aggregate_regions(obs_SIE)\n",
    "obs_SIE = obs_SIE.to_dataframe().reset_index()\n",
    "obs_SIE = obs_SIE.rename(columns={'Extent':'SIE','region_names':'region','time':'valid date'})"
   ]
  },
  {
   "cell_type": "markdown",
   "metadata": {},
   "source": [
    "Calculate our observed climatology using either the full period or the common reforecast period only"
   ]
  },
  {
   "cell_type": "code",
   "execution_count": 6,
   "metadata": {},
   "outputs": [
    {
     "name": "stdout",
     "output_type": "stream",
     "text": [
      "common reforecast\n",
      "observed climatology created\n"
     ]
    }
   ],
   "source": [
    "if COMMON_RF == True:\n",
    "    obs_SIE = obs_SIE[pd.to_datetime(obs_SIE['valid date']).dt.year.isin(np.arange(1999,2015))]\n",
    "    obs_SIE = create_obs_climatology(obs_SIE)\n",
    "    time_str = 'COMMON_RF'\n",
    "    print('common reforecast')\n",
    "else:\n",
    "    time_str = 'FULL_PERIOD'\n",
    "    obs_SIE = create_obs_climatology(obs_SIE)\n",
    "    print('full period')\n",
    "print('observed climatology created')"
   ]
  },
  {
   "cell_type": "code",
   "execution_count": 7,
   "metadata": {},
   "outputs": [],
   "source": [
    "obs_SIE['model name'] = obs_name"
   ]
  },
  {
   "cell_type": "markdown",
   "metadata": {},
   "source": [
    "Group by model name, region, lead time (for model output only), and the forecast valid date, and subtract the observed SIE from the model prediction of SIE.  Do it in raw bias and also in percent"
   ]
  },
  {
   "cell_type": "code",
   "execution_count": 8,
   "metadata": {},
   "outputs": [
    {
     "name": "stderr",
     "output_type": "stream",
     "text": [
      "/home/disk/sipn/mcmcgraw/anaconda3/envs/sea_ice_variability_S2S/lib/python3.7/site-packages/ipykernel_launcher.py:1: FutureWarning: Indexing with multiple keys (implicitly converted to a tuple of keys) will be deprecated, use a list instead.\n",
      "  \"\"\"Entry point for launching an IPython kernel.\n",
      "/home/disk/sipn/mcmcgraw/anaconda3/envs/sea_ice_variability_S2S/lib/python3.7/site-packages/ipykernel_launcher.py:2: FutureWarning: Indexing with multiple keys (implicitly converted to a tuple of keys) will be deprecated, use a list instead.\n",
      "  \n"
     ]
    }
   ],
   "source": [
    "SIE_model_gb = SIE_df_ALL.groupby(['region','valid date','model name','lead time (days)'])['SIE','SIE clim','SIE anom'].mean()\n",
    "SIE_obs_gb = obs_SIE.groupby(['region','valid date'])['SIE','SIE clim','SIE anom'].mean()\n",
    "SIE_err = SIE_model_gb[['SIE','SIE clim','SIE anom']] - SIE_obs_gb[['SIE','SIE clim','SIE anom']]\n",
    "SIE_err_pct = SIE_err[['SIE','SIE clim','SIE anom']].divide(SIE_obs_gb[['SIE','SIE clim','SIE anom']])"
   ]
  },
  {
   "cell_type": "markdown",
   "metadata": {},
   "source": [
    "Same, but get modeled and observed standard deviation ($\\sigma$) of SIE."
   ]
  },
  {
   "cell_type": "code",
   "execution_count": 9,
   "metadata": {},
   "outputs": [
    {
     "ename": "KeyError",
     "evalue": "'valid date month'",
     "output_type": "error",
     "traceback": [
      "\u001b[0;31m---------------------------------------------------------------------------\u001b[0m",
      "\u001b[0;31mKeyError\u001b[0m                                  Traceback (most recent call last)",
      "\u001b[0;32m<ipython-input-9-8ff6cc4b178c>\u001b[0m in \u001b[0;36m<module>\u001b[0;34m\u001b[0m\n\u001b[0;32m----> 1\u001b[0;31m \u001b[0mSIE_model_gb_sd\u001b[0m \u001b[0;34m=\u001b[0m \u001b[0mSIE_df_ALL\u001b[0m\u001b[0;34m.\u001b[0m\u001b[0mgroupby\u001b[0m\u001b[0;34m(\u001b[0m\u001b[0;34m[\u001b[0m\u001b[0;34m'region'\u001b[0m\u001b[0;34m,\u001b[0m\u001b[0;34m'valid date month'\u001b[0m\u001b[0;34m,\u001b[0m\u001b[0;34m'model name'\u001b[0m\u001b[0;34m,\u001b[0m\u001b[0;34m'lead time (days)'\u001b[0m\u001b[0;34m]\u001b[0m\u001b[0;34m)\u001b[0m\u001b[0;34m[\u001b[0m\u001b[0;34m'SIE'\u001b[0m\u001b[0;34m,\u001b[0m\u001b[0;34m'SIE clim'\u001b[0m\u001b[0;34m,\u001b[0m\u001b[0;34m'SIE anom'\u001b[0m\u001b[0;34m]\u001b[0m\u001b[0;34m.\u001b[0m\u001b[0mstd\u001b[0m\u001b[0;34m(\u001b[0m\u001b[0;34m)\u001b[0m\u001b[0;34m\u001b[0m\u001b[0;34m\u001b[0m\u001b[0m\n\u001b[0m\u001b[1;32m      2\u001b[0m \u001b[0mSIE_obs_gb_sd\u001b[0m \u001b[0;34m=\u001b[0m \u001b[0mobs_SIE\u001b[0m\u001b[0;34m.\u001b[0m\u001b[0mgroupby\u001b[0m\u001b[0;34m(\u001b[0m\u001b[0;34m[\u001b[0m\u001b[0;34m'region'\u001b[0m\u001b[0;34m,\u001b[0m\u001b[0;34m'valid date month'\u001b[0m\u001b[0;34m]\u001b[0m\u001b[0;34m)\u001b[0m\u001b[0;34m[\u001b[0m\u001b[0;34m'SIE'\u001b[0m\u001b[0;34m,\u001b[0m\u001b[0;34m'SIE clim'\u001b[0m\u001b[0;34m,\u001b[0m\u001b[0;34m'SIE anom'\u001b[0m\u001b[0;34m]\u001b[0m\u001b[0;34m.\u001b[0m\u001b[0mstd\u001b[0m\u001b[0;34m(\u001b[0m\u001b[0;34m)\u001b[0m\u001b[0;34m\u001b[0m\u001b[0;34m\u001b[0m\u001b[0m\n\u001b[1;32m      3\u001b[0m \u001b[0mSIE_err_sd\u001b[0m \u001b[0;34m=\u001b[0m \u001b[0mSIE_model_gb_sd\u001b[0m\u001b[0;34m[\u001b[0m\u001b[0;34m[\u001b[0m\u001b[0;34m'SIE'\u001b[0m\u001b[0;34m,\u001b[0m\u001b[0;34m'SIE clim'\u001b[0m\u001b[0;34m,\u001b[0m\u001b[0;34m'SIE anom'\u001b[0m\u001b[0;34m]\u001b[0m\u001b[0;34m]\u001b[0m \u001b[0;34m-\u001b[0m \u001b[0mSIE_obs_gb_sd\u001b[0m\u001b[0;34m[\u001b[0m\u001b[0;34m[\u001b[0m\u001b[0;34m'SIE'\u001b[0m\u001b[0;34m,\u001b[0m\u001b[0;34m'SIE clim'\u001b[0m\u001b[0;34m,\u001b[0m\u001b[0;34m'SIE anom'\u001b[0m\u001b[0;34m]\u001b[0m\u001b[0;34m]\u001b[0m\u001b[0;34m\u001b[0m\u001b[0;34m\u001b[0m\u001b[0m\n\u001b[1;32m      4\u001b[0m \u001b[0mSIE_err_pct_sd\u001b[0m \u001b[0;34m=\u001b[0m \u001b[0mSIE_err_sd\u001b[0m\u001b[0;34m[\u001b[0m\u001b[0;34m[\u001b[0m\u001b[0;34m'SIE'\u001b[0m\u001b[0;34m,\u001b[0m\u001b[0;34m'SIE clim'\u001b[0m\u001b[0;34m,\u001b[0m\u001b[0;34m'SIE anom'\u001b[0m\u001b[0;34m]\u001b[0m\u001b[0;34m]\u001b[0m\u001b[0;34m.\u001b[0m\u001b[0mdivide\u001b[0m\u001b[0;34m(\u001b[0m\u001b[0mSIE_obs_gb_sd\u001b[0m\u001b[0;34m[\u001b[0m\u001b[0;34m[\u001b[0m\u001b[0;34m'SIE'\u001b[0m\u001b[0;34m,\u001b[0m\u001b[0;34m'SIE clim'\u001b[0m\u001b[0;34m,\u001b[0m\u001b[0;34m'SIE anom'\u001b[0m\u001b[0;34m]\u001b[0m\u001b[0;34m]\u001b[0m\u001b[0;34m)\u001b[0m\u001b[0;34m\u001b[0m\u001b[0;34m\u001b[0m\u001b[0m\n",
      "\u001b[0;32m~/anaconda3/envs/sea_ice_variability_S2S/lib/python3.7/site-packages/pandas/core/frame.py\u001b[0m in \u001b[0;36mgroupby\u001b[0;34m(self, by, axis, level, as_index, sort, group_keys, squeeze, observed)\u001b[0m\n\u001b[1;32m   5808\u001b[0m             \u001b[0mgroup_keys\u001b[0m\u001b[0;34m=\u001b[0m\u001b[0mgroup_keys\u001b[0m\u001b[0;34m,\u001b[0m\u001b[0;34m\u001b[0m\u001b[0;34m\u001b[0m\u001b[0m\n\u001b[1;32m   5809\u001b[0m             \u001b[0msqueeze\u001b[0m\u001b[0;34m=\u001b[0m\u001b[0msqueeze\u001b[0m\u001b[0;34m,\u001b[0m\u001b[0;34m\u001b[0m\u001b[0;34m\u001b[0m\u001b[0m\n\u001b[0;32m-> 5810\u001b[0;31m             \u001b[0mobserved\u001b[0m\u001b[0;34m=\u001b[0m\u001b[0mobserved\u001b[0m\u001b[0;34m,\u001b[0m\u001b[0;34m\u001b[0m\u001b[0;34m\u001b[0m\u001b[0m\n\u001b[0m\u001b[1;32m   5811\u001b[0m         )\n\u001b[1;32m   5812\u001b[0m \u001b[0;34m\u001b[0m\u001b[0m\n",
      "\u001b[0;32m~/anaconda3/envs/sea_ice_variability_S2S/lib/python3.7/site-packages/pandas/core/groupby/groupby.py\u001b[0m in \u001b[0;36m__init__\u001b[0;34m(self, obj, keys, axis, level, grouper, exclusions, selection, as_index, sort, group_keys, squeeze, observed, mutated)\u001b[0m\n\u001b[1;32m    407\u001b[0m                 \u001b[0msort\u001b[0m\u001b[0;34m=\u001b[0m\u001b[0msort\u001b[0m\u001b[0;34m,\u001b[0m\u001b[0;34m\u001b[0m\u001b[0;34m\u001b[0m\u001b[0m\n\u001b[1;32m    408\u001b[0m                 \u001b[0mobserved\u001b[0m\u001b[0;34m=\u001b[0m\u001b[0mobserved\u001b[0m\u001b[0;34m,\u001b[0m\u001b[0;34m\u001b[0m\u001b[0;34m\u001b[0m\u001b[0m\n\u001b[0;32m--> 409\u001b[0;31m                 \u001b[0mmutated\u001b[0m\u001b[0;34m=\u001b[0m\u001b[0mself\u001b[0m\u001b[0;34m.\u001b[0m\u001b[0mmutated\u001b[0m\u001b[0;34m,\u001b[0m\u001b[0;34m\u001b[0m\u001b[0;34m\u001b[0m\u001b[0m\n\u001b[0m\u001b[1;32m    410\u001b[0m             )\n\u001b[1;32m    411\u001b[0m \u001b[0;34m\u001b[0m\u001b[0m\n",
      "\u001b[0;32m~/anaconda3/envs/sea_ice_variability_S2S/lib/python3.7/site-packages/pandas/core/groupby/grouper.py\u001b[0m in \u001b[0;36mget_grouper\u001b[0;34m(obj, key, axis, level, sort, observed, mutated, validate)\u001b[0m\n\u001b[1;32m    596\u001b[0m                 \u001b[0min_axis\u001b[0m\u001b[0;34m,\u001b[0m \u001b[0mname\u001b[0m\u001b[0;34m,\u001b[0m \u001b[0mlevel\u001b[0m\u001b[0;34m,\u001b[0m \u001b[0mgpr\u001b[0m \u001b[0;34m=\u001b[0m \u001b[0;32mFalse\u001b[0m\u001b[0;34m,\u001b[0m \u001b[0;32mNone\u001b[0m\u001b[0;34m,\u001b[0m \u001b[0mgpr\u001b[0m\u001b[0;34m,\u001b[0m \u001b[0;32mNone\u001b[0m\u001b[0;34m\u001b[0m\u001b[0;34m\u001b[0m\u001b[0m\n\u001b[1;32m    597\u001b[0m             \u001b[0;32melse\u001b[0m\u001b[0;34m:\u001b[0m\u001b[0;34m\u001b[0m\u001b[0;34m\u001b[0m\u001b[0m\n\u001b[0;32m--> 598\u001b[0;31m                 \u001b[0;32mraise\u001b[0m \u001b[0mKeyError\u001b[0m\u001b[0;34m(\u001b[0m\u001b[0mgpr\u001b[0m\u001b[0;34m)\u001b[0m\u001b[0;34m\u001b[0m\u001b[0;34m\u001b[0m\u001b[0m\n\u001b[0m\u001b[1;32m    599\u001b[0m         \u001b[0;32melif\u001b[0m \u001b[0misinstance\u001b[0m\u001b[0;34m(\u001b[0m\u001b[0mgpr\u001b[0m\u001b[0;34m,\u001b[0m \u001b[0mGrouper\u001b[0m\u001b[0;34m)\u001b[0m \u001b[0;32mand\u001b[0m \u001b[0mgpr\u001b[0m\u001b[0;34m.\u001b[0m\u001b[0mkey\u001b[0m \u001b[0;32mis\u001b[0m \u001b[0;32mnot\u001b[0m \u001b[0;32mNone\u001b[0m\u001b[0;34m:\u001b[0m\u001b[0;34m\u001b[0m\u001b[0;34m\u001b[0m\u001b[0m\n\u001b[1;32m    600\u001b[0m             \u001b[0;31m# Add key to exclusions\u001b[0m\u001b[0;34m\u001b[0m\u001b[0;34m\u001b[0m\u001b[0;34m\u001b[0m\u001b[0m\n",
      "\u001b[0;31mKeyError\u001b[0m: 'valid date month'"
     ]
    }
   ],
   "source": [
    "SIE_model_gb_sd = SIE_df_ALL.groupby(['region','valid date month','model name','lead time (days)'])['SIE','SIE clim','SIE anom'].std()\n",
    "SIE_obs_gb_sd = obs_SIE.groupby(['region','valid date month'])['SIE','SIE clim','SIE anom'].std()\n",
    "SIE_err_sd = SIE_model_gb_sd[['SIE','SIE clim','SIE anom']] - SIE_obs_gb_sd[['SIE','SIE clim','SIE anom']]\n",
    "SIE_err_pct_sd = SIE_err_sd[['SIE','SIE clim','SIE anom']].divide(SIE_obs_gb_sd[['SIE','SIE clim','SIE anom']])"
   ]
  },
  {
   "cell_type": "markdown",
   "metadata": {},
   "source": [
    "Multiply percent by 100"
   ]
  },
  {
   "cell_type": "code",
   "execution_count": null,
   "metadata": {},
   "outputs": [],
   "source": [
    "SIE_err_pct = SIE_err_pct*100\n",
    "SIE_err[['SIE pct','SIE clim pct','SIE anom pct']] = SIE_err_pct\n",
    "#\n",
    "SIE_err_pct_sd = SIE_err_pct_sd*100\n",
    "SIE_err_sd[['SIE pct','SIE clim pct','SIE anom pct']] = SIE_err_pct_sd"
   ]
  },
  {
   "cell_type": "code",
   "execution_count": null,
   "metadata": {},
   "outputs": [],
   "source": [
    "SIE_err_rs = SIE_err.reset_index()\n",
    "SIE_err_rs['valid month'] = pd.to_datetime(SIE_err_rs['valid date']).dt.month\n",
    "#\n",
    "SIE_err_rs_sd = SIE_err_sd.reset_index()\n",
    "SIE_err_rs_sd['valid month'] = pd.to_datetime(SIE_err_rs_sd['valid date']).dt.month"
   ]
  },
  {
   "cell_type": "markdown",
   "metadata": {},
   "source": [
    "Save errors"
   ]
  },
  {
   "cell_type": "code",
   "execution_count": null,
   "metadata": {},
   "outputs": [],
   "source": [
    "fname_save = '../../data/RAW_ERRORS_all_S2S_models_OBS_{obs_name}_{time_str}.csv'.format(obs_name=obs_name,time_str=time_str)\n",
    "SIE_err_rs.to_csv(fname_save)\n",
    "print(fname_save)\n",
    "#\n",
    "fname_save_STD = '../../data/RAW_ERRORS_STD_all_S2S_models_OBS_{obs_name}_{time_str}.csv'.format(obs_name=obs_name,time_str=time_str)\n",
    "SIE_err_rs_sd.to_csv(fname_save_STD)"
   ]
  },
  {
   "cell_type": "code",
   "execution_count": null,
   "metadata": {},
   "outputs": [],
   "source": [
    "import seaborn as sns\n",
    "reg_sel_all = ['panArctic','Central Arctic','East Siberian-Beaufort-Chukchi Sea','Kara-Laptev Sea','Barents Sea',\n",
    "               'East Greenland Sea','Bering']\n",
    "SIE_err_lead_reg = SIE_err_trim[SIE_err_trim['region'].isin(reg_sel_all)]\n",
    "SIE_err_lead_reg = SIE_err_lead_reg.set_index(['region'])"
   ]
  },
  {
   "cell_type": "markdown",
   "metadata": {},
   "source": [
    "Plots"
   ]
  },
  {
   "cell_type": "code",
   "execution_count": null,
   "metadata": {},
   "outputs": [],
   "source": [
    "no_rows = 4\n",
    "no_cols = 2\n",
    "TO_PLOT = 'SIE sd'\n",
    "TO_PLOT_str = 'SIE_sd'\n",
    "mon_labels = ['J','F','M','A','M','J','J','A','S','O','N','D']\n",
    "letters = ['a)','b)','c)','d)','e)','f)','g)']\n",
    "fig1,ax = plt.subplots(no_rows,no_cols,figsize=(12,10))#,sharex=True,sharey=True)\n",
    "for imod in np.arange(0,len(reg_sel_all)):\n",
    "#imod=0\n",
    "    region_sel = reg_sel_all[imod]\n",
    "    #region_sel = 'panArctic'\n",
    "    plt_test = SIE_err_lead_reg.loc[region_sel]\n",
    "    piv_plt = pd.pivot_table(data=plt_test,index='model name',columns='valid date month',values=TO_PLOT,aggfunc=np.mean)\n",
    "    #\n",
    "    ax_sel = ax.flat[imod]\n",
    "    #cbar_ax = fig.add_axes([.965,.3,.03,.4])\n",
    "    if (TO_PLOT == 'SIE pct') | (TO_PLOT == 'SIE clim pct'):\n",
    "        if region_sel == 'panArctic':\n",
    "            [vmin,vmax] = [-15,5]\n",
    "        elif region_sel == 'Barents Sea':\n",
    "            [vmin,vmax] = [-40,40]\n",
    "        else:\n",
    "            [vmin,vmax] = [-25,25]\n",
    "    elif (TO_PLOT == 'SIE') | (TO_PLOT == 'SIE clim'):\n",
    "        if region_sel == 'panArctic':\n",
    "            [vmin,vmax] = [-1.5,0.5]\n",
    "        #elif region_sel == 'Barents Sea':\n",
    "         #   [vmin,vmax] = [-0.6,0.60]\n",
    "        else:\n",
    "            [vmin,vmax] = [-0.5,0.5]\n",
    "    \n",
    "    elif (TO_PLOT == 'SIE sd'):\n",
    "        if region_sel == 'panArctic':\n",
    "            [vmin,vmax] = [-0.25,0.25]\n",
    "        else:\n",
    "            [vmin,vmax] = [-0.1,0.1]\n",
    "    else:\n",
    "        [vmin,vmax] = [-0.25,0.25]\n",
    "    sns.heatmap(piv_plt,cmap = 'PuOr',ax=ax_sel,linewidth=0.2,linecolor='xkcd:slate grey',\n",
    "                vmin=vmin,vmax=vmax,center=0)\n",
    "    ax_sel.set_yticklabels(piv_plt.index,rotation=0,fontsize=14)\n",
    "    ax_sel.set_xticklabels(mon_labels,fontsize=14,rotation=0)\n",
    "    ax_sel.set_ylabel(None)\n",
    "    ax_sel.set_xlabel(None)\n",
    "    ax_sel.set_title('{lett} {region}'.format(lett=letters[imod],region=region_sel),fontsize=15)\n",
    "    if (TO_PLOT == 'SIE') | (TO_PLOT == 'SIE clim'):\n",
    "        ax_sel.collections[0].colorbar.set_label('10$^6$ km$^2$',rotation=0,fontsize=13,y=-0.04,labelpad=-20)\n",
    "    elif (TO_PLOT == 'SIE pct') | (TO_PLOT == 'SIE clim pct'):\n",
    "        ax_sel.collections[0].colorbar.set_label('%',rotation=0,fontsize=13,y=-0.04,labelpad=-20)\n",
    "    #\n",
    "    fig1.subplots_adjust(left=0.125, bottom=0.1, right=0.9, top=0.9, wspace=0.3, hspace=0.4)\n",
    "    if (TO_PLOT == 'SIE') | (TO_PLOT == 'SIE pct'):\n",
    "        fig1.suptitle('Bias in SIE, Lead Days {min_lead}-{max_lead}'.format(min_lead=min_lead,max_lead=max_lead),fontsize=18)\n",
    "    elif (TO_PLOT == 'SIE clim') | (TO_PLOT == 'SIE clim pct'):\n",
    "        fig1.suptitle('Bias in Climatological Sea Ice Extent, Lead Days {min_lead}-{max_lead}'.format(min_lead=min_lead,max_lead=max_lead),fontsize=18)\n",
    "    elif (TO_PLOT == 'SIE sd'):\n",
    "        #\n",
    "        fig1.suptitle('Bias in $\\sigma_{{SIE}}$, Lead Days {min_lead}-{max_lead}'.format(min_lead=min_lead,max_lead=max_lead),fontsize=18)\n",
    "    elif (TO_PLOT == 'SIE anom') | (TO_PLOT == 'SIE anom pct'):\n",
    "        fig1.suptitle('Bias in Anomalous Sea Ice Extent, Lead Days {min_lead}-{max_lead}'.format(min_lead=min_lead,max_lead=max_lead),fontsize=18)\n",
    "    \n",
    "fig1.delaxes(ax=ax.flat[7])\n",
    "#fname_save = '../FIGURES/Bias_v_month_{TO_PLOT_str}_{MIN_LEAD}-{MAX_LEAD}_LEAD_DAYS_OBS_{obs_name}.pdf'.format(TO_PLOT_str=TO_PLOT_str,\n",
    "#                                                                            MIN_LEAD=min_lead,MAX_LEAD=max_lead,obs_name=obs_name)\n",
    "#fig1.savefig(fname_save,format='pdf',bbox_inches='tight')"
   ]
  }
 ],
 "metadata": {
  "kernelspec": {
   "display_name": "sea_ice_variability_S2S",
   "language": "python",
   "name": "sea_ice_variability_s2s"
  },
  "language_info": {
   "codemirror_mode": {
    "name": "ipython",
    "version": 3
   },
   "file_extension": ".py",
   "mimetype": "text/x-python",
   "name": "python",
   "nbconvert_exporter": "python",
   "pygments_lexer": "ipython3",
   "version": "3.7.3"
  }
 },
 "nbformat": 4,
 "nbformat_minor": 2
}
