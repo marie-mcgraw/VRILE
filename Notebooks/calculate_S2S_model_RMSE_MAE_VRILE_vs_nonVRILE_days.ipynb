{
 "cells": [
  {
   "cell_type": "markdown",
   "metadata": {},
   "source": [
    "<code>calculate_RMSE_MAE_S2S_models_VRILE_days_vs_NONVRILE_days.ipynb</code>.  This notebook outputs RMSE and MAE for S2S model forecasts of sea ice extent and anomalous sea ice extent.  Model forecasts are separated into VRILE and non-VRILE days. "
   ]
  },
  {
   "cell_type": "markdown",
   "metadata": {},
   "source": [
    "### Load packages"
   ]
  },
  {
   "cell_type": "code",
   "execution_count": 1,
   "metadata": {},
   "outputs": [],
   "source": [
    "import numpy as np\n",
    "import xarray as xr\n",
    "import pandas as pd\n",
    "import os\n",
    "import matplotlib.pyplot as plt\n",
    "import seaborn as sns\n",
    "from sklearn import metrics\n",
    "from sklearn.metrics import mean_squared_error\n",
    "from sklearn.linear_model import LinearRegression\n",
    "from sklearn.model_selection import train_test_split, cross_val_score, LeaveOneOut"
   ]
  },
  {
   "cell_type": "markdown",
   "metadata": {},
   "source": [
    "### Overview\n",
    "Okay. Overview of our cross-validated, significance-tested VRILE error. \n",
    "* Load model netCDF files, combine with CTRL, and use common reforecast period.  Use data that has been regridded to the common land mask. \n",
    "    *  if NCEP, use entire period \n",
    "* Add aggregate regions \n",
    "* Create climatology--model: calculate date of year for valid date, lead time in weeks.\n",
    "    *  Group by region, lead time, and valid date of year \n",
    "    *  Average climatology based on day of year and lead time in weeks--use <code>transform</code> to create <code>SIE_clim</code>.\n",
    "    *  Subtract <code>SIE_clim</code> from <code>SIE</code>\n",
    "* Create observed climatology based on common reforecast period (1999-2014)\n",
    "* Set up LeaveOneOut cross-validation: We remove each year (1999-2014) from the observations.  Then we:\n",
    "    * Calculate VRILEs excluding each year\n",
    "    * Identify forecasts that correspond to VRILE days and separate S2S model data into VRILE days and non-VRILE days\n",
    "    * Calculate errors: as a function of region, valid date, and lead time. \n",
    "    * Assess significance:\n",
    "        * H0: RMSE for non-VRILE days = RMSE for VRILE days \n",
    "        * Calculate p-value: $p_0 = \\frac{(RMSE_{VRILE} - RMSE_{NOVRILE})}{\\sqrt{\\frac{S_{VRILE}^2}{N_{VRILE}} + \\frac{S_{NOVRILE}^2}{N_{NOVRILE}}}}$\n",
    "        * Save p-values, standard deviations as a function of lead time, region, and year left out. \n",
    "        * When $|p| > |p_{crit}|$ ($p_{crit} = \\pm 1.96$), we can say that the model's ability to predict sea ice on VRILE days is significantly different from the model's ability to predict sea ice on non-VRILE days in that region for that lead time while leaving out that year\n",
    "  \n",
    "* How many years must be significantly different for us to say our samples are overall different? Use a binomial test\n",
    "    * $\\sum_{i}^{N} {N \\choose i}p^i(1 - p)^{N - i}$\n",
    "    * N: total number of samples (15, one for each year between 1999-2014)\n",
    "    * p: 0.5 (assume we have equal probability of rejecting or not-rejecting null hypothesis)\n",
    "    * we need to find i: i = 13 for rejecting hypothesis at 95% confidence"
   ]
  },
  {
   "cell_type": "code",
   "execution_count": 2,
   "metadata": {},
   "outputs": [],
   "source": [
    "from S2S_sea_ice_preprocess import load_model, create_aggregate_regions, create_model_climatology, create_obs_climatology\n",
    "from S2S_sea_ice_VRILEs import get_VRILE_days\n",
    "from S2S_sea_ice_metrics import calculate_errors, get_pvalues"
   ]
  },
  {
   "cell_type": "markdown",
   "metadata": {},
   "source": [
    "<b>inputs:</b><br>\n",
    "<li>  <code>model name</code>: (ecmwf,ukmo,ncep,metreofr) </li>\n",
    "<li>  <code>seas_str</code>: [string for season; ALL if we want to do full year]</li>\n",
    "<li>  <code>seas_sel</code>: [months of season; empty if we want to do full year] </li>\n",
    "<li>  <code>vrile_thresh</code>: [threshhold at which VRILE is estimated </li>\n",
    "<li>  <code>thresh_str</code>: [string for VRILE threshhold] </li>\n",
    "<li>  <code>obs_name</code>: (NSIDC_0079, NSIDC_0051, OSISAF) [observational product we are using as our \"truth\"]</li>\n",
    "<li>  <code>COMMON_RF</code>: boolean; indicates whether or not we want to use common reforecast period (1999-2014) or all available years (<code>True</code> is default)</li>\n",
    "<li>  <code>nday_change</code>: $n$-day change in SIE for VRILE calculation (default is 5)</li>\n",
    "<li>  <code>lead_weeks</code>: boolean; indicates whether or not we want our RMSE results to be as a function of lead days or lead weeks (default is <code>True</code>) </li>"
   ]
  },
  {
   "cell_type": "markdown",
   "metadata": {},
   "source": [
    "### Set inputs"
   ]
  },
  {
   "cell_type": "code",
   "execution_count": 3,
   "metadata": {},
   "outputs": [],
   "source": [
    "model_name = 'ncep'\n",
    "seas_str = 'DJF'\n",
    "seas_sel = [1,2,12]\n",
    "obs_name = 'NSIDC_0079'\n",
    "COMMON_RF = True\n",
    "vrile_thresh = 0.05\n",
    "thresh_str = '05'\n",
    "nday_change = 5\n",
    "lead_weeks = True\n",
    "#\n",
    "drop_last = True"
   ]
  },
  {
   "cell_type": "markdown",
   "metadata": {},
   "source": [
    "Load model output for <code>model_name</code>"
   ]
  },
  {
   "cell_type": "code",
   "execution_count": 4,
   "metadata": {},
   "outputs": [
    {
     "name": "stdout",
     "output_type": "stream",
     "text": [
      "loading files from  /home/disk/sipn/nicway/data/model/ncep/reforecast/sipn_nc_agg_commonland/\n",
      "<xarray.Dataset>\n",
      "Dimensions:       (ensemble: 3, fore_time: 43, init_time: 4523, nregions: 15)\n",
      "Coordinates:\n",
      "    region_names  (nregions) object dask.array<chunksize=(15,), meta=np.ndarray>\n",
      "  * nregions      (nregions) int64 99 2 3 4 5 6 7 8 9 10 11 12 13 14 15\n",
      "  * ensemble      (ensemble) int32 0 1 2\n",
      "  * fore_time     (fore_time) timedelta64[ns] 1 days 2 days ... 42 days 43 days\n",
      "  * init_time     (init_time) datetime64[ns] 1999-01-01 ... 2010-12-31\n",
      "Data variables:\n",
      "    Extent        (ensemble, init_time, fore_time, nregions) float64 dask.array<chunksize=(3, 16, 43, 15), meta=np.ndarray>\n",
      "loaded  ncep\n"
     ]
    }
   ],
   "source": [
    "SIE = load_model(model_name)\n",
    "print('loaded ',model_name)"
   ]
  },
  {
   "cell_type": "markdown",
   "metadata": {},
   "source": [
    "Create custom aggregate regions"
   ]
  },
  {
   "cell_type": "code",
   "execution_count": 5,
   "metadata": {
    "scrolled": true
   },
   "outputs": [
    {
     "name": "stdout",
     "output_type": "stream",
     "text": [
      "combined regions\n"
     ]
    }
   ],
   "source": [
    "SIE = create_aggregate_regions(SIE)\n",
    "print('combined regions')\n",
    "# Drop CTRL for METEOFR\n",
    "if model_name == 'metreofr':\n",
    "    SIEx = SIE.sel(ensemble=slice(0,8))"
   ]
  },
  {
   "cell_type": "markdown",
   "metadata": {},
   "source": [
    "Take the ensemble mean and get lead time in days"
   ]
  },
  {
   "cell_type": "code",
   "execution_count": 6,
   "metadata": {},
   "outputs": [],
   "source": [
    "if model_name == 'metreofr':\n",
    "    SIE_ens_mean = SIEx.mean(dim='ensemble')\n",
    "else:\n",
    "    SIE_ens_mean = SIE.mean(dim='ensemble')\n",
    "regions = SIE.region_names\n",
    "lead_days = SIE.fore_time.dt.days"
   ]
  },
  {
   "cell_type": "markdown",
   "metadata": {},
   "source": [
    "Convert to DataFrame"
   ]
  },
  {
   "cell_type": "code",
   "execution_count": 7,
   "metadata": {
    "scrolled": true
   },
   "outputs": [
    {
     "name": "stderr",
     "output_type": "stream",
     "text": [
      "/home/disk/sipn/mcmcgraw/anaconda3/envs/sea_ice_variability_S2S/lib/python3.7/site-packages/dask/array/numpy_compat.py:40: RuntimeWarning: invalid value encountered in true_divide\n",
      "  x = np.divide(x1, x2, out)\n"
     ]
    }
   ],
   "source": [
    "SIE_df = SIE_ens_mean.to_dataframe().reset_index()"
   ]
  },
  {
   "cell_type": "markdown",
   "metadata": {},
   "source": [
    "Calculate the date for forecasts by adding the <code>fore_time</code> to <code>init_time</code>. Rename some columns."
   ]
  },
  {
   "cell_type": "code",
   "execution_count": 8,
   "metadata": {},
   "outputs": [],
   "source": [
    "SIE_df['valid date'] = SIE_df['init_time'] + SIE_df['fore_time']\n",
    "SIE_df = SIE_df.rename(columns={'region_names':'region',\n",
    "                           'fore_time':'lead time (days)',\n",
    "                           'init_time':'init date',\n",
    "                           'Extent':'SIE'})"
   ]
  },
  {
   "cell_type": "markdown",
   "metadata": {},
   "source": [
    "Create lead-dependent climatology for model output.  Decide how long we want weeks to be for weekly climatology (default is 7 days)"
   ]
  },
  {
   "cell_type": "code",
   "execution_count": 9,
   "metadata": {
    "scrolled": true
   },
   "outputs": [
    {
     "name": "stdout",
     "output_type": "stream",
     "text": [
      "model climatology created\n"
     ]
    }
   ],
   "source": [
    "week_length = 7\n",
    "SIE_df = create_model_climatology(SIE_df,7)\n",
    "print('model climatology created')"
   ]
  },
  {
   "cell_type": "markdown",
   "metadata": {},
   "source": [
    "Load observations.  <code>NSIDC_0079</code> is NASA Bootstrap, <code>NSIDC_0051</code> is NASA team (NOTE we only have Bootstrap on the common land mask)"
   ]
  },
  {
   "cell_type": "code",
   "execution_count": 10,
   "metadata": {},
   "outputs": [
    {
     "name": "stdout",
     "output_type": "stream",
     "text": [
      "loading obs from  /home/disk/sipn/nicway/data/obs/NSIDC_0079/sipn_nc_yearly_agg_commonland/\n",
      "opening  <xarray.Dataset>\n",
      "Dimensions:       (nregions: 15, time: 11627)\n",
      "Coordinates:\n",
      "    region_names  (nregions) object dask.array<chunksize=(15,), meta=np.ndarray>\n",
      "  * nregions      (nregions) int64 99 2 3 4 5 6 7 8 9 10 11 12 13 14 15\n",
      "  * time          (time) datetime64[ns] 1989-01-01 1989-01-02 ... 2020-10-31\n",
      "Data variables:\n",
      "    Extent        (time, nregions) float64 dask.array<chunksize=(365, 15), meta=np.ndarray>\n",
      "obs loaded\n"
     ]
    },
    {
     "name": "stderr",
     "output_type": "stream",
     "text": [
      "/home/disk/sipn/mcmcgraw/anaconda3/envs/sea_ice_variability_S2S/lib/python3.7/site-packages/ipykernel_launcher.py:10: FutureWarning: In xarray version 0.15 the default behaviour of `open_mfdataset`\n",
      "will change. To retain the existing behavior, pass\n",
      "combine='nested'. To use future default behavior, pass\n",
      "combine='by_coords'. See\n",
      "http://xarray.pydata.org/en/stable/combining.html#combining-multi\n",
      "\n",
      "  # Remove the CWD from sys.path while we load stuff.\n",
      "/home/disk/sipn/mcmcgraw/anaconda3/envs/sea_ice_variability_S2S/lib/python3.7/site-packages/xarray/backends/api.py:941: FutureWarning: Also `open_mfdataset` will no longer accept a `concat_dim` argument.\n",
      "To get equivalent behaviour from now on please use the new\n",
      "`combine_nested` function instead (or the `combine='nested'` option to\n",
      "`open_mfdataset`).The datasets supplied have global dimension coordinates. You may want\n",
      "to use the new `combine_by_coords` function (or the\n",
      "`combine='by_coords'` option to `open_mfdataset`) to order the datasets\n",
      "before concatenation. Alternatively, to continue concatenating based\n",
      "on the order the datasets are supplied in future, please use the new\n",
      "`combine_nested` function (or the `combine='nested'` option to\n",
      "open_mfdataset).\n",
      "  from_openmfds=True,\n"
     ]
    }
   ],
   "source": [
    "if obs_name == 'NSIDC_0079':\n",
    "    obs_type = 'sipn_nc_yearly_agg_commonland'\n",
    "elif obs_name == 'NSIDC_0051':\n",
    "    obs_type = 'sipn_nc_yearly_agg'\n",
    "elif obs_name == 'OSISAF':\n",
    "    print('come back later')\n",
    "filepath = '/home/disk/sipn/nicway/data/obs/{model_name}/{model_type}/'.format(model_name=obs_name,\n",
    "                                                                              model_type=obs_type)\n",
    "print('loading obs from ',filepath)\n",
    "obs_filenames = xr.open_mfdataset(filepath+'/*.nc',concat_dim='time')\n",
    "print('opening ',obs_filenames)\n",
    "obs_SIE = obs_filenames.Extent\n",
    "obs_regions = obs_filenames.nregions\n",
    "obs_region_names = obs_filenames['region_names'].values\n",
    "# Drop region names and re-add as a non-dask.array object.  This is stupid but oh well\n",
    "obs_SIE = obs_SIE.drop('region_names')\n",
    "obs_SIE[\"region_names\"] = (\"nregions\",obs_region_names)\n",
    "print('obs loaded')"
   ]
  },
  {
   "cell_type": "markdown",
   "metadata": {},
   "source": [
    "Add aggregate regions to obs and convert obs to Pandas dataframe"
   ]
  },
  {
   "cell_type": "code",
   "execution_count": 11,
   "metadata": {},
   "outputs": [],
   "source": [
    "obs_SIE = create_aggregate_regions(obs_SIE)\n",
    "obs_SIE = obs_SIE.to_dataframe().reset_index()\n",
    "obs_SIE = obs_SIE.rename(columns={'Extent':'SIE','region_names':'region','time':'valid date'})\n",
    "if obs_name == 'OSISAF':\n",
    "    obs_SIE['valid date'] = pd.to_datetime(obs_SIE['valid date']).dt.date"
   ]
  },
  {
   "cell_type": "markdown",
   "metadata": {},
   "source": [
    "Cool. Calculate our observed climatology using static climatology. Use only common reforecast years (1999-2014, inclusive) unless <code>COMMON_RF = False</code>"
   ]
  },
  {
   "cell_type": "code",
   "execution_count": 12,
   "metadata": {},
   "outputs": [
    {
     "name": "stdout",
     "output_type": "stream",
     "text": [
      "common reforecast\n",
      "observed climatology created\n"
     ]
    }
   ],
   "source": [
    "if COMMON_RF == True:\n",
    "    obs_SIE = obs_SIE[pd.to_datetime(obs_SIE['valid date']).dt.year.isin(np.arange(1999,2015))]\n",
    "    obs_SIE = create_obs_climatology(obs_SIE)\n",
    "    time_str = 'COMMON_RF'\n",
    "    print('common reforecast')\n",
    "else:\n",
    "    time_str = 'FULL_PERIOD'\n",
    "    obs_SIE = create_obs_climatology(obs_SIE)\n",
    "    print('full period')\n",
    "print('observed climatology created')\n",
    "obs_SIE['valid year'] = pd.to_datetime(obs_SIE['valid date']).dt.year\n"
   ]
  },
  {
   "cell_type": "markdown",
   "metadata": {},
   "source": [
    "Sanity check time: pick a date, and plot $n$ day model forecasts for that date as well as the next $n$ days of obs ($n$ = length of model forecasts (btw 45 and 60).  Generally speaking, model and obs should have some difference right at the beginning (initialization errors), error may decrease a bit in the first few days of the forecast period, and then at the end of the period it will increase again. "
   ]
  },
  {
   "cell_type": "code",
   "execution_count": 13,
   "metadata": {
    "scrolled": false
   },
   "outputs": [
    {
     "data": {
      "text/plain": [
       "<matplotlib.axes._axes.Axes at 0x7f1decc07cc0>"
      ]
     },
     "execution_count": 13,
     "metadata": {},
     "output_type": "execute_result"
    },
    {
     "data": {
      "image/png": "[encoded data removed]",
      "text/plain": [
       "<Figure size 432x288 with 1 Axes>"
      ]
     },
     "metadata": {
      "needs_background": "light"
     },
     "output_type": "display_data"
    }
   ],
   "source": [
    "if model_name == 'metreofr':\n",
    "    date_sel = pd.to_datetime('08-30-2007')\n",
    "elif model_name == 'ecmwf':\n",
    "    date_sel = pd.to_datetime('09-03-2007')\n",
    "else:\n",
    "    date_sel = pd.to_datetime('09-01-2007')\n",
    "reg_sel = 'Central Arctic'\n",
    "SIE_date_sel = SIE_df.where((SIE_df['init date'] == date_sel) & (SIE_df['region']==reg_sel)).dropna(how='all')\n",
    "fig1 = plt.figure(1)\n",
    "ax1 = fig1.add_axes([0,0,1,1])\n",
    "SIE_date_sel.plot(x='valid date',y='SIE anom',ax=ax1,linewidth=3,label='MODEL ({model_name})'.format(model_name=model_name))\n",
    "obs_sel = obs_SIE[obs_SIE['valid date'].isin(pd.date_range(start=date_sel,end=date_sel+SIE_df['lead time (days)'].max()))]\n",
    "obs_sel = obs_sel.where(obs_sel['region']==reg_sel).dropna(how='all')\n",
    "obs_sel.plot(x='valid date',y='SIE anom',ax=ax1,color='r',linewidth=3,label='OBS ({obs_name})'.format(obs_name=obs_name))"
   ]
  },
  {
   "cell_type": "code",
   "execution_count": 14,
   "metadata": {},
   "outputs": [],
   "source": [
    "import warnings;\n",
    "warnings.filterwarnings('ignore'); # so the warnings don't drive me insane"
   ]
  },
  {
   "cell_type": "markdown",
   "metadata": {},
   "source": [
    "### Calculate Forecast Error on VRILE Days and non-VRILE Days using LeaveOneOut Cross-Validation\n",
    "Now, we begin the LeaveOneOut process as our cross-validation.  Since we have only 15 years in our common reforecast period, we'll use a LeaveOneOut, as our training dataset is relatively small (since VRILEs are only 5% of the data). \n",
    "\n",
    "NOTE: Though <code>sklearn</code> has a <code>LeaveOneOut</code> functionality, it doesn't play well with <code>groupby</code> and some of the other functions we use, so we will just do the LOO cross-validation by hand, at least for now.  "
   ]
  },
  {
   "cell_type": "markdown",
   "metadata": {},
   "source": [
    "#### Initialize empty dataframes"
   ]
  },
  {
   "cell_type": "markdown",
   "metadata": {},
   "source": [
    "Drop St John, Sea of Okhotsk"
   ]
  },
  {
   "cell_type": "code",
   "execution_count": 15,
   "metadata": {},
   "outputs": [],
   "source": [
    "if seas_str == 'JAS':\n",
    "    regions_drop = ['Sea of Okhotsk','St John','Bering']\n",
    "elif seas_str == 'JJA':\n",
    "    regions_drop = ['Sea of Okhotsk','St John']\n",
    "else:\n",
    "    regions_drop = ['St John']\n",
    "obs_SIE = obs_SIE[~obs_SIE['region'].isin(regions_drop)]\n",
    "SIE_df = SIE_df[~SIE_df['region'].isin(regions_drop)]"
   ]
  },
  {
   "cell_type": "code",
   "execution_count": 16,
   "metadata": {},
   "outputs": [],
   "source": [
    "SIE_errors_ALL = pd.DataFrame()\n",
    "SIE_anom_errors_ALL = pd.DataFrame()\n",
    "SIE_errors_NO_ALL = pd.DataFrame()\n",
    "SIE_anom_errors_NO_ALL = pd.DataFrame()\n",
    "#\n",
    "SIE_reg = SIE_df.set_index(['region'])\n",
    "regions_list = SIE_df['region'].unique().tolist()\n",
    "#\n",
    "pvalues_SIE = pd.DataFrame()\n",
    "pvalues_SIE_anom = pd.DataFrame()"
   ]
  },
  {
   "cell_type": "code",
   "execution_count": 17,
   "metadata": {
    "scrolled": false
   },
   "outputs": [],
   "source": [
    "week_length = 7\n",
    "if (model_name != 'ukmo') & (drop_last == True):\n",
    "    max_fore = SIE_reg['lead time (days)'].max()\n",
    "    SIE_reg = SIE_reg.where(SIE_reg['lead time (days)'] < max_fore).dropna(how='all')\n",
    "#SIE_reg.groupby(['region','lead time (days)'])['SIE'].mean().xs('East Siberian-Beaufort-Chukchi Sea')#.plot()"
   ]
  },
  {
   "cell_type": "markdown",
   "metadata": {},
   "source": [
    "#### Calculation time--omit one year from the data set, separate data into VRILE and non-VRILE days, and calculate forecast error. Repeat. \n",
    "(Note, this current implementation uses too many loops; feel free to upgrade)"
   ]
  },
  {
   "cell_type": "code",
   "execution_count": 18,
   "metadata": {
    "scrolled": false
   },
   "outputs": [
    {
     "name": "stdout",
     "output_type": "stream",
     "text": [
      "leaving out  1999\n",
      "VRILE days calculated\n",
      "errors calculated\n",
      "leaving out  2000\n",
      "VRILE days calculated\n",
      "errors calculated\n",
      "leaving out  2001\n",
      "VRILE days calculated\n",
      "errors calculated\n",
      "leaving out  2002\n",
      "VRILE days calculated\n",
      "errors calculated\n",
      "leaving out  2003\n",
      "VRILE days calculated\n",
      "errors calculated\n",
      "leaving out  2004\n",
      "VRILE days calculated\n",
      "errors calculated\n",
      "leaving out  2005\n",
      "VRILE days calculated\n",
      "errors calculated\n",
      "leaving out  2006\n",
      "VRILE days calculated\n",
      "errors calculated\n",
      "leaving out  2007\n",
      "VRILE days calculated\n",
      "errors calculated\n",
      "leaving out  2008\n",
      "VRILE days calculated\n",
      "errors calculated\n",
      "leaving out  2009\n",
      "VRILE days calculated\n",
      "errors calculated\n",
      "leaving out  2010\n",
      "VRILE days calculated\n",
      "errors calculated\n",
      "leaving out  2011\n",
      "VRILE days calculated\n",
      "errors calculated\n",
      "leaving out  2012\n",
      "VRILE days calculated\n",
      "errors calculated\n",
      "leaving out  2013\n",
      "VRILE days calculated\n",
      "errors calculated\n",
      "leaving out  2014\n",
      "VRILE days calculated\n",
      "errors calculated\n"
     ]
    }
   ],
   "source": [
    "yrs = obs_SIE['valid year'].unique().tolist()\n",
    "for iyr in yrs:\n",
    "    #iyr = 1999\n",
    "    # Remove iyr from obs\n",
    "    obs_SIE_sel = obs_SIE[~obs_SIE['valid year'].isin([iyr])]\n",
    "    print('leaving out ',iyr)\n",
    "    # Estimate observed VRILE days (without iyr)\n",
    "    obs_SIE_VRILE_onlyx, obs_SIE_anom_VRILE_onlyx, obs_SIE_NO_VRILEx, obs_SIE_anom_NO_VRILEx = get_VRILE_days(obs_SIE_sel,vrile_thresh,nday_change,seas_sel)\n",
    "    print('VRILE days calculated')\n",
    "    obs_SIE_VRILE_only = obs_SIE_VRILE_onlyx.set_index(['region'])\n",
    "    obs_SIE_anom_VRILE_only = obs_SIE_anom_VRILE_onlyx.set_index(['region'])\n",
    "    #\n",
    "    obs_SIE_NO_VRILE = obs_SIE_NO_VRILEx.set_index(['region'])\n",
    "    obs_SIE_anom_NO_VRILE = obs_SIE_anom_NO_VRILEx.set_index(['region'])\n",
    "    # Now, we want to compare model forecasts on VRILE days to model forecasts on non-VRILE days\n",
    "    SIE_no_VRILES = pd.DataFrame()\n",
    "    SIE_anom_no_VRILES = pd.DataFrame()\n",
    "    #\n",
    "    SIE_VRILES = pd.DataFrame()\n",
    "    SIE_anom_VRILES = pd.DataFrame()\n",
    "    # Get SIE forecasts on VRILE and non-VRILE days for each region.  Loop through regions. \n",
    "    for i_region in regions_list:\n",
    "        # Skip St John because it's crazy\n",
    "        if i_region == 'St John':\n",
    "            continue\n",
    "        SIE_ivrile = SIE_reg.loc[i_region][pd.to_datetime(SIE_reg.loc[i_region]['valid date']).isin(pd.to_datetime(obs_SIE_VRILE_only.loc[i_region]['valid date']))]\n",
    "        SIE_VRILES = SIE_VRILES.append(SIE_ivrile)\n",
    "        #\n",
    "        SIE_anom_ivrile = SIE_reg.loc[i_region][pd.to_datetime(SIE_reg.loc[i_region]['valid date']).isin(pd.to_datetime(obs_SIE_anom_VRILE_only.loc[i_region]['valid date']))]\n",
    "        SIE_anom_VRILES = SIE_anom_VRILES.append(SIE_anom_ivrile)\n",
    "        #\n",
    "        if (obs_SIE_NO_VRILE.loc[i_region].shape[0] == 16):\n",
    "            continue\n",
    "        SIE_no_ivrile = SIE_reg.loc[i_region][pd.to_datetime(SIE_reg.loc[i_region]['valid date']).isin(pd.to_datetime(obs_SIE_NO_VRILE.loc[i_region]['valid date']))]\n",
    "        SIE_no_VRILES = SIE_no_VRILES.append(SIE_no_ivrile)\n",
    "        #\n",
    "        SIE_anom_no_ivrile = SIE_reg.loc[i_region][pd.to_datetime(SIE_reg.loc[i_region]['valid date']).isin(pd.to_datetime(obs_SIE_anom_NO_VRILE.loc[i_region]['valid date']))]\n",
    "        SIE_anom_no_VRILES = SIE_anom_no_VRILES.append(SIE_anom_no_ivrile)\n",
    "    # Now, we get lead time in weeks because ultimately we're going to plot as a function of week \n",
    "    SIE_anom_VRILES['lead time (weeks)'] = np.floor(SIE_anom_VRILES['lead time (days)'].dt.days/week_length)\n",
    "    SIE_VRILES['lead time (weeks)'] = np.floor(SIE_VRILES['lead time (days)'].dt.days/week_length)\n",
    "    SIE_anom_no_VRILES['lead time (weeks)'] = np.floor(SIE_anom_no_VRILES['lead time (days)'].dt.days/week_length)\n",
    "    SIE_no_VRILES['lead time (weeks)'] = np.floor(SIE_no_VRILES['lead time (days)'].dt.days/week_length)\n",
    "    # Calculate RMSE and MAE for sea ice forecasts\n",
    "    if lead_weeks == True:\n",
    "        clim_freq_str = 'WEEKLY'\n",
    "        SIE_VRILES['lead days'] = SIE_VRILES['lead time (weeks)']\n",
    "        SIE_anom_VRILES['lead days'] = SIE_anom_VRILES['lead time (weeks)']\n",
    "        SIE_raw_err,SIE_errors = calculate_errors(SIE_VRILES,obs_SIE_VRILE_only)\n",
    "        SIE_anom_raw_err,SIE_anom_errors = calculate_errors(SIE_anom_VRILES,obs_SIE_anom_VRILE_only)\n",
    "        ## NO VRILES\n",
    "        SIE_no_VRILES['lead days'] = SIE_no_VRILES['lead time (weeks)']\n",
    "        SIE_anom_no_VRILES['lead days'] = SIE_anom_no_VRILES['lead time (weeks)']\n",
    "        SIE_raw_err_NO,SIE_errors_NO = calculate_errors(SIE_no_VRILES,obs_SIE_NO_VRILE)\n",
    "        SIE_anom_raw_err_NO,SIE_anom_errors_NO = calculate_errors(SIE_anom_no_VRILES,obs_SIE_anom_NO_VRILE)\n",
    "    else:\n",
    "        clim_freq_str = 'DAILY'\n",
    "        SIE_VRILES['lead days'] = SIE_VRILES['lead time (days)'].dt.days\n",
    "        SIE_anom_VRILES['lead days'] = SIE_anom_VRILES['lead time (days)'].dt.days\n",
    "        SIE_raw_err,SIE_errors = calculate_errors(SIE_VRILES,obs_SIE_VRILE_only)\n",
    "        SIE_anom_raw_err,SIE_anom_errors = calculate_errors(SIE_anom_VRILES,obs_SIE_anom_VRILE_only)\n",
    "        ## NO VRILES\n",
    "        SIE_no_VRILES['lead days'] = SIE_no_VRILES['lead time (days)'].dt.days\n",
    "        SIE_anom_no_VRILES['lead days'] = SIE_anom_no_VRILES['lead time (days)'].dt.days\n",
    "        SIE_raw_err_NO,SIE_errors_NO = calculate_errors(SIE_no_VRILES,obs_SIE_NO_VRILE)\n",
    "        SIE_anom_raw_err_NO,SIE_anom_errors_NO = calculate_errors(SIE_anom_no_VRILES,obs_SIE_anom_NO_VRILE)\n",
    "    print('errors calculated')\n",
    "\n",
    "    # Get p-values\n",
    "    sd_VRILE,sd_noVRILE,p_value,N_vrile,N_novrile = get_pvalues(SIE_VRILES,SIE_no_VRILES,SIE_errors,SIE_errors_NO)\n",
    "    sd_VRILE_anom,sd_noVRILE_anom,p_value_anom,N_vrile_anom,N_novrile_anom = get_pvalues(SIE_anom_VRILES,\n",
    "                                                            SIE_anom_no_VRILES,SIE_anom_errors,SIE_anom_errors_NO)\n",
    "\n",
    "    # Add information to dataframes\n",
    "    SIE_errors['year out'] = iyr\n",
    "    SIE_errors['SIE sdev'] = sd_VRILE\n",
    "    SIE_errors['sample size'] = N_vrile\n",
    "    SIE_errors['p-value'] = p_value\n",
    "    SIE_errors_NO['year out'] = iyr\n",
    "    SIE_errors_NO['SIE sdev'] = sd_noVRILE\n",
    "    SIE_errors_NO['sample size'] = N_novrile\n",
    "    SIE_errors_NO['p-value'] = p_value\n",
    "    #\n",
    "    SIE_anom_errors['year out'] = iyr\n",
    "    SIE_anom_errors['SIE sdev'] = sd_VRILE_anom\n",
    "    SIE_anom_errors['sample size'] = N_vrile_anom\n",
    "    SIE_anom_errors['p-value'] = p_value_anom\n",
    "    SIE_anom_errors_NO['year out'] = iyr\n",
    "    SIE_anom_errors_NO['SIE sdev'] = sd_noVRILE_anom\n",
    "    SIE_anom_errors_NO['sample size'] = N_novrile_anom\n",
    "    SIE_anom_errors_NO['p-value'] = p_value_anom\n",
    "    # Append each CV slice to full data set\n",
    "    SIE_errors_ALL = SIE_errors_ALL.append(SIE_errors)\n",
    "    SIE_anom_errors_ALL = SIE_anom_errors_ALL.append(SIE_anom_errors)\n",
    "    SIE_errors_NO_ALL = SIE_errors_NO_ALL.append(SIE_errors_NO)\n",
    "    SIE_anom_errors_NO_ALL = SIE_anom_errors_NO_ALL.append(SIE_anom_errors_NO)"
   ]
  },
  {
   "cell_type": "markdown",
   "metadata": {},
   "source": [
    "Some more sanity check plots. Make sure our basic RMSEs look right (should be generally increasing with lead time for non-VRILE days; VRILE days might look more wonky.  We'll do an individual fold first, then all folds together. "
   ]
  },
  {
   "cell_type": "code",
   "execution_count": 19,
   "metadata": {
    "scrolled": false
   },
   "outputs": [
    {
     "data": {
      "image/png": "[encoded data removed]",
      "text/plain": [
       "<Figure size 864x576 with 2 Axes>"
      ]
     },
     "metadata": {
      "needs_background": "light"
     },
     "output_type": "display_data"
    }
   ],
   "source": [
    "fig2,(ax2a,ax2b) = plt.subplots(1,2,figsize=(12,8))\n",
    "reg_sel = 'Central Arctic'\n",
    "SIE_errors_NO.xs(reg_sel).reset_index().plot.scatter(x='lead days',y='SIE RMSE',label='no VRILE',ax=ax2a)\n",
    "SIE_errors.xs(reg_sel).reset_index().plot.scatter(x='lead days',y='SIE RMSE',color='r',label='VRILE',ax=ax2a)\n",
    "ax2a.set_title('leaving out {iyr}'.format(iyr=iyr))\n",
    "ax2a.set_xlabel('lead weeks')\n",
    "ax2a.set_ylabel('RMSE (10$^6$ km$^2$)')\n",
    "ax2a.set_ylim([0,1.75])\n",
    "#\n",
    "SIE_errors_ALL.xs(reg_sel).reset_index().plot.scatter(x='lead days',y=['SIE RMSE'],linewidth=2,linestyle='--',\n",
    "                                    ax=ax2b,color='r',label='VRILES')\n",
    "SIE_errors_NO_ALL.xs(reg_sel).reset_index().plot.scatter(x='lead days',y=['SIE RMSE'],linewidth=2,\n",
    "                                            linestyle=':',ax=ax2b,label='NO VRILES')\n",
    "ax2b.set_title('ALL FOLDS')\n",
    "ax2b.set_xlabel('lead weeks')\n",
    "ax2b.set_ylim([0,1.75])\n",
    "fig2.suptitle('RMSE on VRILE and nonVRILE Days, {region}, {model_name}, {seas_str}'.format(region=reg_sel,\n",
    "                                                                               model_name=model_name,seas_str=seas_str),fontsize=22)\n",
    "figpath_save = '/home/disk/sipn/mcmcgraw/McGraw_etal_2020/code/make_it_nice/COMMON_LAND_MASK/figures/diagnostics/'\n",
    "fpath_save_fig2 = figpath_save+'SIE_RMSE_all_slices_{reg_sel}_{model_name}_VRILES_{seas_str}.png'.format(reg_sel=reg_sel,model_name=model_name,\n",
    "                                                                                                        seas_str=seas_str)\n",
    "fig2.savefig(fpath_save_fig2,format='png',dpi=350,bbox_inches='tight')"
   ]
  },
  {
   "cell_type": "markdown",
   "metadata": {},
   "source": [
    "Same figure but for anomalous SIE"
   ]
  },
  {
   "cell_type": "code",
   "execution_count": 20,
   "metadata": {
    "scrolled": false
   },
   "outputs": [
    {
     "data": {
      "image/png": "[encoded data removed]",
      "text/plain": [
       "<Figure size 864x576 with 2 Axes>"
      ]
     },
     "metadata": {
      "needs_background": "light"
     },
     "output_type": "display_data"
    }
   ],
   "source": [
    "fig3,(ax3a,ax3b) = plt.subplots(1,2,figsize=(12,8))\n",
    "SIE_errors_NO.xs(reg_sel).reset_index().plot.scatter(x='lead days',y='SIE anom RMSE',label='no VRILE',ax=ax3a)\n",
    "SIE_errors.xs(reg_sel).reset_index().plot.scatter(x='lead days',y='SIE anom RMSE',color='r',label='VRILE',ax=ax3a)\n",
    "ax3a.set_title('leaving out {iyr}'.format(iyr=iyr))\n",
    "ax3a.set_xlabel('lead weeks')\n",
    "ax3a.set_ylabel('RMSE (10$^6$ km$^2$)')\n",
    "ax3a.set_ylim([0,0.75])\n",
    "#\n",
    "SIE_errors_ALL.xs(reg_sel).reset_index().plot.scatter(x='lead days',y=['SIE anom RMSE'],linewidth=2,linestyle='--',\n",
    "                                    ax=ax3b,color='r',label='VRILES')\n",
    "SIE_errors_NO_ALL.xs(reg_sel).reset_index().plot.scatter(x='lead days',y=['SIE anom RMSE'],linewidth=2,\n",
    "                                            linestyle=':',ax=ax3b,label='NO VRILES')\n",
    "ax3b.set_title('ALL FOLDS')\n",
    "ax3b.set_xlabel('lead weeks')\n",
    "ax3b.set_ylim([0,0.75])\n",
    "fig3.suptitle('RMSE on VRILE and nonVRILE Days, anomalous SIE, {region}, {model_name}, {seas_str}'.format(region=reg_sel,\n",
    "                                                                               model_name=model_name,seas_str=seas_str),fontsize=22)\n",
    "fpath_save_fig3 = figpath_save+'SIE_anom_RMSE_all_slices_{reg_sel}_{model_name}_{seas_str}.png'.format(reg_sel=reg_sel,\n",
    "                                                                            model_name=model_name,seas_str=seas_str)\n",
    "fig3.savefig(fpath_save_fig3,format='png',dpi=350,bbox_inches='tight')"
   ]
  },
  {
   "cell_type": "code",
   "execution_count": 21,
   "metadata": {},
   "outputs": [
    {
     "data": {
      "text/plain": [
       "region     lead days\n",
       "Atlantic   0.0           61.774666\n",
       "           1.0           92.443543\n",
       "           2.0           88.902490\n",
       "           3.0           97.953582\n",
       "           4.0          111.330184\n",
       "                           ...    \n",
       "panArctic  2.0           85.195196\n",
       "           3.0           82.493192\n",
       "           4.0           61.561607\n",
       "           5.0           69.908688\n",
       "           6.0           81.102069\n",
       "Name: p-value, Length: 2128, dtype: float64"
      ]
     },
     "execution_count": 21,
     "metadata": {},
     "output_type": "execute_result"
    }
   ],
   "source": [
    "xx = SIE_errors_ALL.xs('Central Arctic').reset_index().groupby(['lead days']).mean()\n",
    "yy = SIE_errors_NO.xs('Central Arctic').reset_index().groupby(['lead days']).mean()\n",
    "SIE_errors_ALL['p-value']"
   ]
  },
  {
   "cell_type": "code",
   "execution_count": 22,
   "metadata": {},
   "outputs": [],
   "source": [
    "SIE_anom_errors_ALL = SIE_anom_errors_ALL.rename(columns={'p-value':'p-value anom'})\n",
    "SIE_anom_errors_NO_ALL = SIE_anom_errors_NO_ALL.rename(columns={'p-value':'p-value anom'})"
   ]
  },
  {
   "cell_type": "markdown",
   "metadata": {},
   "source": [
    "Now, show p-value for each fold. "
   ]
  },
  {
   "cell_type": "code",
   "execution_count": 23,
   "metadata": {
    "scrolled": false
   },
   "outputs": [
    {
     "name": "stderr",
     "output_type": "stream",
     "text": [
      "No handles with labels found to put in legend.\n"
     ]
    },
    {
     "data": {
      "image/png": "[encoded data removed]",
      "text/plain": [
       "<Figure size 1080x432 with 2 Axes>"
      ]
     },
     "metadata": {
      "needs_background": "light"
     },
     "output_type": "display_data"
    }
   ],
   "source": [
    "fig4,(ax4a,ax4b) = plt.subplots(1,2,figsize=(15,6))\n",
    "foo = SIE_errors_ALL.xs(reg_sel).reset_index()\n",
    "sp4a = sns.scatterplot(data=foo,x='lead days',y='p-value',hue='year out',ax=ax4a,palette='tab20',legend=False)\n",
    "ax4a.axhline(-1.96,color='k')\n",
    "ax4a.axhline(1.96,color='k')\n",
    "SIE_errors_ALL_masked = SIE_errors_ALL.mask(SIE_errors_ALL['p-value'].abs()<1.96)\n",
    "foo2 = SIE_errors_ALL_masked.xs(reg_sel).reset_index()\n",
    "sns.scatterplot(data=foo2,x='lead days',y='p-value',hue='year out',s=200,legend=False,alpha=0.25,ax=ax4a,palette='tab20')\n",
    "sp4a.legend(bbox_to_anchor=(1.05, 1), loc=2, borderaxespad=0.)\n",
    "ax4a.set_title('SIE Forecasts')\n",
    "#\n",
    "sp4b = sns.scatterplot(data=SIE_anom_errors_ALL.xs(reg_sel).reset_index(),x='lead days',\n",
    "                       y='p-value anom',hue='year out',ax=ax4b,palette='tab20')\n",
    "ax4b.axhline(-1.96,color='k')\n",
    "ax4b.axhline(1.96,color='k')\n",
    "SIE_anom_errors_ALL_masked = SIE_anom_errors_ALL.mask(SIE_anom_errors_ALL['p-value anom'].abs()<1.96)\n",
    "sns.scatterplot(data=SIE_anom_errors_ALL_masked.xs(reg_sel).reset_index(),x='lead days',y='p-value anom',\n",
    "                hue='year out',s=200,legend=False,alpha=0.25,ax=ax4b,palette='tab20')\n",
    "sp4b.legend(bbox_to_anchor=(1.05, 1), loc=2, borderaxespad=0.)\n",
    "ax4b.set_title('Anomalous SIE Forecasts')\n",
    "ax4b.set_xlabel('lead weeks')\n",
    "ax4a.set_xlabel('lead weeks')\n",
    "#\n",
    "fig4.suptitle('p-values, VRILE days vs non-VRILE days, {reg_sel}, {model_name}, {seas_str}'.format(reg_sel=reg_sel,\n",
    "                                                            model_name=model_name,seas_str=seas_str),fontsize=20)\n",
    "fpath_save_fig4 = figpath_save+'pvalues_each_fold_{reg_sel}_{model_name}_{seas_str}.png'.format(reg_sel=reg_sel,\n",
    "                                                                    model_name=model_name,seas_str=seas_str)\n",
    "fig4.savefig(fpath_save_fig4,format='png',dpi=350,bbox_inches='tight')"
   ]
  },
  {
   "cell_type": "markdown",
   "metadata": {},
   "source": [
    "Combine everything together into one data frame. Replace <code>SIE anom RMSE</code> and <code>SIE anom MAE</code> in <code>SIE_errors</code> with corresponding entries from  <code>SIE_anom_errors</code> (and same for raw)"
   ]
  },
  {
   "cell_type": "code",
   "execution_count": 24,
   "metadata": {},
   "outputs": [],
   "source": [
    "SIE_errors_VRILE = SIE_errors_ALL.copy()\n",
    "SIE_errors_VRILE = SIE_errors_VRILE.drop(columns={'SIE anom RMSE','SIE anom MAE'})\n",
    "SIE_errors_VRILE = SIE_errors_VRILE.join(SIE_anom_errors_ALL[['SIE anom RMSE','SIE anom MAE','p-value anom']])\n",
    "SIE_errors_VRILE['type'] = 'VRILE days'\n",
    "#\n",
    "SIE_errors_noVRILE = SIE_errors_NO_ALL.copy()\n",
    "SIE_errors_noVRILE = SIE_errors_noVRILE.drop(columns={'SIE anom RMSE','SIE anom MAE'})\n",
    "SIE_errors_noVRILE = SIE_errors_noVRILE.join(SIE_anom_errors_NO_ALL[['SIE anom RMSE','SIE anom MAE','p-value anom']])\n",
    "SIE_errors_noVRILE['type'] = 'no VRILE days'\n",
    "#\n",
    "SIE_errors_FULL = SIE_errors_VRILE.append(SIE_errors_noVRILE)\n",
    "##\n",
    "SIE_anom_errors_VRILE = SIE_anom_errors_ALL.copy()\n",
    "SIE_anom_errors_VRILE['type'] = 'VRILE days'\n",
    "SIE_anom_errors_noVRILE = SIE_anom_errors_NO_ALL.copy()\n",
    "SIE_anom_errors_noVRILE['type'] = 'no VRILE days'\n",
    "SIE_anom_errors_FULL = SIE_anom_errors_VRILE.append(SIE_anom_errors_noVRILE)"
   ]
  },
  {
   "cell_type": "code",
   "execution_count": 25,
   "metadata": {},
   "outputs": [
    {
     "data": {
      "text/plain": [
       "<matplotlib.axes._subplots.AxesSubplot at 0x7f1d8477c3c8>"
      ]
     },
     "execution_count": 25,
     "metadata": {},
     "output_type": "execute_result"
    },
    {
     "data": {
      "image/png": "[encoded data removed]",
      "text/plain": [
       "<Figure size 432x288 with 1 Axes>"
      ]
     },
     "metadata": {
      "needs_background": "light"
     },
     "output_type": "display_data"
    },
    {
     "data": {
      "image/png": "[encoded data removed]",
      "text/plain": [
       "<Figure size 432x288 with 1 Axes>"
      ]
     },
     "metadata": {
      "needs_background": "light"
     },
     "output_type": "display_data"
    }
   ],
   "source": [
    "SIE_errors_VRILE.xs('Central Arctic').reset_index().plot.scatter(x='lead days',y='SIE RMSE')\n",
    "SIE_anom_errors_VRILE.xs('Central Arctic').reset_index().plot.scatter(x='lead days',y='SIE anom RMSE',color='r')\n"
   ]
  },
  {
   "cell_type": "markdown",
   "metadata": {},
   "source": [
    "Save files "
   ]
  },
  {
   "cell_type": "code",
   "execution_count": 26,
   "metadata": {},
   "outputs": [],
   "source": [
    "fdir = '/home/disk/sipn/mcmcgraw/McGraw_etal_2020/code/make_it_nice/COMMON_LAND_MASK/data/{model_name}/'.format(model_name=model_name)\n",
    "fdir = fdir+'OBS_{obs_name}/'.format(obs_name=obs_name)\n",
    "if COMMON_RF == True:\n",
    "    fdir = fdir+'COMMON_RF/'\n",
    "else:\n",
    "    fdir = fdir+'FULL_TIME/'\n",
    "if nday_change != 5:\n",
    "    fdir = fdir+'VRILEs_{nday_change}day_change/'.format(nday_change=nday_change)\n",
    "if not os.path.exists(fdir):\n",
    "    os.makedirs(fdir)\n",
    "#\n",
    "\n",
    "fname_save_RMSE = fdir+'VRILE_vs_NOVRILE_RMSE_MAE_{model_name}_months{seas_str}_VRILE{thresh_str}_model_clim_freq_{clim_freq_str}.csv'.format(model_name=model_name,\n",
    "                                             seas_str=seas_str,thresh_str=thresh_str,clim_freq_str=clim_freq_str)\n",
    "#fname_save_raw = fdir+'RAW_err_{model_name}_months{seas_str}_VRILE{thresh_str}_model_clim_freq_{clim_freq_str}.csv'.format(model_name=model_name,\n",
    "  #                                           seas_str=seas_str,thresh_str=thresh_str,clim_freq_str=clim_freq_str)\n",
    "#\n",
    "#SIE_raw_err_FULL.to_csv(fname_save_raw)\n",
    "SIE_errors_FULL.to_csv(fname_save_RMSE)"
   ]
  },
  {
   "cell_type": "code",
   "execution_count": 27,
   "metadata": {},
   "outputs": [
    {
     "name": "stdout",
     "output_type": "stream",
     "text": [
      "/home/disk/sipn/mcmcgraw/McGraw_etal_2020/code/make_it_nice/COMMON_LAND_MASK/data/ncep/OBS_NSIDC_0079/COMMON_RF/VRILE_vs_NOVRILE_RMSE_MAE_ncep_monthsDJF_VRILE05_model_clim_freq_WEEKLY.csv\n"
     ]
    }
   ],
   "source": [
    "print(fname_save_RMSE)"
   ]
  },
  {
   "cell_type": "markdown",
   "metadata": {
    "scrolled": true
   },
   "source": [
    "\n",
    "SIE_errors_ALL['type'] = 'VRILE days'\n",
    "SIE_anom_errors_ALL['type'] = 'VRILE days'\n",
    "#SIE_errors_ALL = SIE_errors_ALL.reset_index()\n",
    "#SIE_anom_errors_ALL = SIE_anom_errors_ALL.reset_index()\n",
    "SIE_errors_ALL['SIE anom RMSE'] = SIE_anom_errors_ALL['SIE anom RMSE']\n",
    "SIE_errors_ALL['SIE anom MAE'] = SIE_anom_errors_ALL['SIE anom MAE']\n",
    "#SIE_errors_ALL['type'] = 'VRILE days'\n",
    "SIE_errors_ALL = SIE_errors_ALL.reset_index()\n",
    "#\n",
    "SIE_errors_NO_ALL['type'] = 'no VRILE days'\n",
    "SIE_anom_errors_NO_ALL['type'] = 'no VRILE days'\n",
    "#SIE_errors_NO_ALL = SIE_errors_NO_ALL.reset_index()\n",
    "#SIE_anom_errors_NO_ALL = SIE_anom_errors_NO_ALL.reset_index()\n",
    "SIE_errors_NO_ALL['SIE anom RMSE'] = SIE_anom_errors_NO_ALL['SIE anom RMSE']\n",
    "SIE_errors_NO_ALL['SIE anom MAE'] = SIE_anom_errors_NO_ALL['SIE anom MAE']\n",
    "SIE_errors_NO_ALL = SIE_errors_NO_ALL.reset_index()\n",
    "\n",
    "#\n",
    "SIE_errors_FULL = SIE_errors_ALL.append(SIE_errors_NO_ALL)\n",
    "# Same for raw errors\n",
    "SIE_raw_err = SIE_raw_err.reset_index()\n",
    "SIE_anom_raw_err = SIE_anom_raw_err.reset_index()\n",
    "SIE_raw_err[['SIE anom']] = SIE_anom_raw_err['SIE anom']\n",
    "SIE_raw_err['type'] = 'VRILE days'\n",
    "#\n",
    "SIE_raw_err_NO = SIE_raw_err_NO.reset_index()\n",
    "SIE_anom_raw_err_NO = SIE_anom_raw_err_NO.reset_index()\n",
    "SIE_raw_err_NO[['SIE anom']] = SIE_anom_raw_err_NO['SIE anom']\n",
    "SIE_raw_err_NO['type'] = 'no VRILE days'\n",
    "#\n",
    "SIE_raw_err_FULL = SIE_raw_err.append(SIE_raw_err_NO)"
   ]
  }
 ],
 "metadata": {
  "kernelspec": {
   "display_name": "sea_ice_variability_S2S",
   "language": "python",
   "name": "sea_ice_variability_s2s"
  },
  "language_info": {
   "codemirror_mode": {
    "name": "ipython",
    "version": 3
   },
   "file_extension": ".py",
   "mimetype": "text/x-python",
   "name": "python",
   "nbconvert_exporter": "python",
   "pygments_lexer": "ipython3",
   "version": "3.7.3"
  }
 },
 "nbformat": 4,
 "nbformat_minor": 2
}
