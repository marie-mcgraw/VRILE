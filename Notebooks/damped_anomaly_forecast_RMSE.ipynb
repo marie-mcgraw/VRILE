{
 "cells": [
  {
   "cell_type": "markdown",
   "metadata": {},
   "source": [
    "<code>damped_anomaly_forecast_RMSE.ipynb</code>.  This notebook calculates the RMSE, MAE, and raw error for the damped anomaly forecast.  "
   ]
  },
  {
   "cell_type": "code",
   "execution_count": 1,
   "metadata": {},
   "outputs": [],
   "source": [
    "import xarray as xr\n",
    "import numpy as np\n",
    "import pandas as pd\n",
    "import os\n",
    "import matplotlib.pyplot as plt\n",
    "from S2S_sea_ice_metrics import calculate_errors,get_pvalues\n",
    "from S2S_sea_ice_VRILEs import get_VRILE_days\n",
    "from S2S_sea_ice_preprocess import create_obs_climatology,create_aggregate_regions"
   ]
  },
  {
   "cell_type": "markdown",
   "metadata": {},
   "source": [
    "The S2S <code>create_aggregate_regions</code> function doesn't work for damped anomaly due to formatting issues."
   ]
  },
  {
   "cell_type": "code",
   "execution_count": 2,
   "metadata": {},
   "outputs": [],
   "source": [
    "def create_aggregate_regions_DAMPED_ANOM(SIE_data):\n",
    "    regions_agg_list = [['Kara Sea','Laptev Sea'],['Barents Sea','Kara Sea','Laptev Sea'],['East Siberian Sea','Beaufort Sea','Chukchi Sea'],\n",
    "                       ['Baffin Bay','East Greenland Sea'],['East Siberian Sea','Beaufort Sea','Chukchi Sea','Laptev Sea']]\n",
    "    region_names_extra = ['Kara-Laptev Sea','Barents-Kara-Laptev Sea','East Siberian-Beaufort-Chukchi Sea',\n",
    "                      'Atlantic','East Siberian-Beaufort-Chukchi-Laptev Sea']\n",
    "    #\n",
    "    for i_reg in np.arange(0,len(regions_agg_list)):\n",
    "        i_reg_sel = regions_agg_list[i_reg]\n",
    "        SIE_ireg = SIE_data[SIE_data['region'].isin(i_reg_sel)]\n",
    "        SIE_ireg_group = SIE_ireg.set_index(['region','init date','valid date','lead time']).sum(level=(1,2,3))\n",
    "        SIE_ireg_group['region'] = region_names_extra[i_reg]\n",
    "        SIE_data =SIE_data.append(SIE_ireg_group.reset_index())\n",
    "        \n",
    "    return(SIE_data)"
   ]
  },
  {
   "cell_type": "markdown",
   "metadata": {},
   "source": [
    "Okay. Overview of our cross-validated, significance-tested VRILE error. \n",
    "* Load model netCDF files, combine with CTRL, and use common reforecast period. \n",
    "    *  if NCEP, use entire period \n",
    "* Add aggregate regions \n",
    "* Create climatology--model: calculate date of year for valid date, lead time in weeks.\n",
    "    *  Group by region, lead time, and valid date of year \n",
    "    *  Average climatology based on day of year and lead time in weeks--use <code>transform</code> to create <code>SIE_clim</code>.\n",
    "    *  Subtract <code>SIE_clim</code> from <code>SIE</code>\n",
    "* Create observed climatology based on common reforecast period (1999-2014)\n",
    "* Set up LeaveOneOut cross-validation: We remove each year (1999-2014) from the observations.  Then we:\n",
    "    * Calculate VRILEs excluding each year\n",
    "    * Identify forecasts that correspond to VRILE days and separate S2S model data into VRILE days and non-VRILE days\n",
    "    * Calculate errors: as a function of region, valid date, and lead time. \n",
    "    * Assess significance:\n",
    "        * H0: RMSE for non-VRILE days = RMSE for VRILE days \n",
    "        * Calculate p-value: $p_0 = \\frac{(RMSE_{VRILE} - RMSE_{NOVRILE})}{\\sqrt{\\frac{S_{VRILE}^2}{N_{VRILE}} + \\frac{S_{NOVRILE}^2}{N_{NOVRILE}}}}$\n",
    "        * Save p-values, standard deviations as a function of lead time, region, and year left out. \n",
    "        * When $|p| > |p_{crit}|$ ($p_{crit} = \\pm 1.96$), we can say that the model's ability to predict sea ice on VRILE days is significantly different from the model's ability to predict sea ice on non-VRILE days in that region for that lead time while leaving out that year\n",
    "  \n",
    "* How many years must be significantly different for us to say our samples are overall different? Use a binomial test\n",
    "    * $\\sum_{i}^{N} {N \\choose i}p^i(1 - p)^{N - i}$\n",
    "    * N: total number of samples (15, one for each year between 1999-2014)\n",
    "    * p: 0.5 (assume we have equal probability of rejecting or not-rejecting null hypothesis)\n",
    "    * we need to find i: i = 13 for rejecting hypothesis at 95% confidence"
   ]
  },
  {
   "cell_type": "code",
   "execution_count": 3,
   "metadata": {},
   "outputs": [],
   "source": [
    "vrile_thresh = 0.05\n",
    "thresh_str = '05'\n",
    "nday_change = 5\n",
    "seas_sel = [6,7,8]\n",
    "seas_str = 'JJA'\n",
    "nyear_roll = 10\n",
    "lead_weeks = True\n",
    "ROLL_CLIM = True\n",
    "COMMON_RF = True"
   ]
  },
  {
   "cell_type": "markdown",
   "metadata": {},
   "source": [
    "Load the damped anomaly model"
   ]
  },
  {
   "cell_type": "code",
   "execution_count": 4,
   "metadata": {},
   "outputs": [],
   "source": [
    "obs_name = 'NSIDC_0079'\n",
    "fpath_load = '/home/disk/sipn/mcmcgraw/McGraw_etal_2020/code/make_it_nice/COMMON_LAND_MASK/data/'\n",
    "fname_load = fpath_load+'OBS_{obs_name}/DAMPED_ANOMALY_FORECAST_{nyear_roll}_rolling_mean.csv'.format(obs_name=obs_name,nyear_roll=nyear_roll)\n",
    "SIE_damped_a = pd.read_csv(fname_load)"
   ]
  },
  {
   "cell_type": "code",
   "execution_count": 5,
   "metadata": {
    "scrolled": true
   },
   "outputs": [],
   "source": [
    "SIE_damped_a = create_aggregate_regions_DAMPED_ANOM(SIE_damped_a)\n",
    "SIE_damped_a['init year'] = pd.to_datetime(SIE_damped_a['init date']).dt.year\n",
    "SIE_damped_a['lead time (days)'] = pd.to_timedelta(SIE_damped_a['lead time'],'D')\n",
    "# Trim to common reforecast period\n",
    "#SIE_damped_a = create_aggregate_regions(SIE_damped_a)\n",
    "if COMMON_RF == True:\n",
    "    SIE_damped_a = SIE_damped_a[SIE_damped_a['init year'].isin(np.arange(1999,2015))]\n",
    "SIE_damped = SIE_damped_a.set_index('region')\n",
    "SIE_damped['valid date'] = pd.to_datetime(SIE_damped['valid date'])\n",
    "SIE_damped['model name'] = 'DAMPED ANOMALY'"
   ]
  },
  {
   "cell_type": "markdown",
   "metadata": {},
   "source": [
    "Load obs"
   ]
  },
  {
   "cell_type": "code",
   "execution_count": 6,
   "metadata": {},
   "outputs": [
    {
     "name": "stdout",
     "output_type": "stream",
     "text": [
      "opening  <xarray.Dataset>\n",
      "Dimensions:       (nregions: 15, time: 11627)\n",
      "Coordinates:\n",
      "    region_names  (nregions) object dask.array<chunksize=(15,), meta=np.ndarray>\n",
      "  * nregions      (nregions) int64 99 2 3 4 5 6 7 8 9 10 11 12 13 14 15\n",
      "  * time          (time) datetime64[ns] 1989-01-01 1989-01-02 ... 2020-10-31\n",
      "Data variables:\n",
      "    Extent        (time, nregions) float64 dask.array<chunksize=(365, 15), meta=np.ndarray>\n",
      "obs loaded\n"
     ]
    }
   ],
   "source": [
    "if obs_name == 'NSIDC_0079':\n",
    "    obs_type = 'sipn_nc_yearly_agg_commonland'\n",
    "else:\n",
    "    obs_type = 'sipn_nc_yearly_agg'\n",
    "filepath = '/home/disk/sipn/nicway/data/obs/{model_name}/{model_type}/'.format(model_name=obs_name,\n",
    "                                                                              model_type=obs_type)\n",
    "obs_filenames = xr.open_mfdataset(filepath+'/*.nc',combine='by_coords')\n",
    "print('opening ',obs_filenames)\n",
    "obs_SIE = obs_filenames.Extent\n",
    "obs_regions = obs_filenames.nregions\n",
    "obs_region_names = obs_filenames['region_names'].values\n",
    "# Drop region names and re-add as a non-dask.array object.  This is stupid but oh well\n",
    "obs_SIE = obs_SIE.drop('region_names')\n",
    "obs_SIE[\"region_names\"] = (\"nregions\",obs_region_names)\n",
    "print('obs loaded')"
   ]
  },
  {
   "cell_type": "markdown",
   "metadata": {},
   "source": [
    "Add aggregate regions to obs and convert obs to Pandas dataframe"
   ]
  },
  {
   "cell_type": "code",
   "execution_count": 7,
   "metadata": {},
   "outputs": [],
   "source": [
    "obs_SIE = create_aggregate_regions(obs_SIE)\n",
    "obs_SIE = obs_SIE.to_dataframe().reset_index()\n",
    "obs_SIE = obs_SIE.rename(columns={'Extent':'SIE','region_names':'region','time':'valid date'})\n",
    "obs_SIE['init year'] = pd.to_datetime(obs_SIE['valid date']).dt.year\n"
   ]
  },
  {
   "cell_type": "markdown",
   "metadata": {},
   "source": [
    "Create climatology.  We use a static mean of the 15 years we include in our data set to match how we treated the S2S data."
   ]
  },
  {
   "cell_type": "code",
   "execution_count": 8,
   "metadata": {},
   "outputs": [
    {
     "name": "stdout",
     "output_type": "stream",
     "text": [
      "static climatology\n"
     ]
    }
   ],
   "source": [
    "obs_SIE = obs_SIE[obs_SIE['init year'].isin(np.arange(1999,2015))]\n",
    "#obs_SIE = obs_SIE[obs_SIE['init year'].isin(np.arange(1,2017))]\n",
    "obs_SIE = create_obs_climatology(obs_SIE)\n",
    "print('static climatology')\n",
    "obs_SIE['valid year'] = pd.to_datetime(obs_SIE['valid date']).dt.year"
   ]
  },
  {
   "cell_type": "markdown",
   "metadata": {},
   "source": [
    "Now, we begin the LeaveOneOut process.  We want to do this analysis several times over different datasets, to make sure that we are not overfitting our results.  Since we have only 15 years in our common reforecast period, we'll use a LeaveOneOut, as our training dataset is relatively small.  We start this BEFORE we calculate VRILES so that our data set is calculated separately.\n",
    "\n",
    "We're going to do this by hand even though it's janky because LOO doesn't play so nice with groupby. "
   ]
  },
  {
   "cell_type": "code",
   "execution_count": 9,
   "metadata": {},
   "outputs": [],
   "source": [
    "import warnings\n",
    "warnings.filterwarnings('ignore');"
   ]
  },
  {
   "cell_type": "markdown",
   "metadata": {},
   "source": [
    "Initialize dataframes"
   ]
  },
  {
   "cell_type": "code",
   "execution_count": 10,
   "metadata": {},
   "outputs": [],
   "source": [
    "SIE_errors_ALL = pd.DataFrame()\n",
    "SIE_anom_errors_ALL = pd.DataFrame()\n",
    "SIE_errors_NO_ALL = pd.DataFrame()\n",
    "SIE_anom_errors_NO_ALL = pd.DataFrame()\n",
    "#\n",
    "SIE_reg = SIE_damped\n",
    "\n",
    "#\n",
    "pvalues_SIE = pd.DataFrame()\n",
    "pvalues_SIE_anom = pd.DataFrame()\n",
    "week_length = 7\n",
    "regions_list = SIE_damped_a['region'].unique().tolist()\n"
   ]
  },
  {
   "cell_type": "markdown",
   "metadata": {},
   "source": [
    "Run LeaveOneOut CV"
   ]
  },
  {
   "cell_type": "code",
   "execution_count": 11,
   "metadata": {
    "scrolled": false
   },
   "outputs": [
    {
     "name": "stdout",
     "output_type": "stream",
     "text": [
      "leaving out  1999\n",
      "VRILE days calculated\n",
      "errors calculated\n",
      "leaving out  2000\n",
      "VRILE days calculated\n",
      "errors calculated\n",
      "leaving out  2001\n",
      "VRILE days calculated\n",
      "errors calculated\n",
      "leaving out  2002\n",
      "VRILE days calculated\n",
      "errors calculated\n",
      "leaving out  2003\n",
      "VRILE days calculated\n",
      "errors calculated\n",
      "leaving out  2004\n",
      "VRILE days calculated\n",
      "errors calculated\n",
      "leaving out  2005\n",
      "VRILE days calculated\n",
      "errors calculated\n",
      "leaving out  2006\n",
      "VRILE days calculated\n",
      "errors calculated\n",
      "leaving out  2007\n",
      "VRILE days calculated\n",
      "errors calculated\n",
      "leaving out  2008\n",
      "VRILE days calculated\n",
      "errors calculated\n",
      "leaving out  2009\n",
      "VRILE days calculated\n",
      "errors calculated\n",
      "leaving out  2010\n",
      "VRILE days calculated\n",
      "errors calculated\n",
      "leaving out  2011\n",
      "VRILE days calculated\n",
      "errors calculated\n",
      "leaving out  2012\n",
      "VRILE days calculated\n",
      "errors calculated\n",
      "leaving out  2013\n",
      "VRILE days calculated\n",
      "errors calculated\n",
      "leaving out  2014\n",
      "VRILE days calculated\n",
      "errors calculated\n"
     ]
    }
   ],
   "source": [
    "yrs = obs_SIE['valid year'].unique().tolist()\n",
    "for iyr in yrs:\n",
    "    #iyr = 1999\n",
    "    # Remove iyr from obs\n",
    "    obs_SIE_sel = obs_SIE[~obs_SIE['valid year'].isin([iyr])]\n",
    "    print('leaving out ',iyr)\n",
    "    # Estimate observed VRILE days (without iyr)\n",
    "    obs_SIE_VRILE_onlyx, obs_SIE_anom_VRILE_onlyx, obs_SIE_NO_VRILEx, obs_SIE_anom_NO_VRILEx = get_VRILE_days(obs_SIE_sel,vrile_thresh,nday_change,seas_sel)\n",
    "    print('VRILE days calculated')\n",
    "    obs_SIE_VRILE_only = obs_SIE_VRILE_onlyx.set_index(['region'])\n",
    "    obs_SIE_anom_VRILE_only = obs_SIE_anom_VRILE_onlyx.set_index(['region'])\n",
    "    #\n",
    "    obs_SIE_NO_VRILE = obs_SIE_NO_VRILEx.set_index(['region'])\n",
    "    obs_SIE_anom_NO_VRILE = obs_SIE_anom_NO_VRILEx.set_index(['region'])\n",
    "    # Now, we want to compare model forecasts on VRILE days to model forecasts on non-VRILE days\n",
    "    SIE_no_VRILES = pd.DataFrame()\n",
    "    SIE_anom_no_VRILES = pd.DataFrame()\n",
    "    #\n",
    "    SIE_VRILES = pd.DataFrame()\n",
    "    SIE_anom_VRILES = pd.DataFrame()\n",
    "    # Get SIE forecasts on VRILE and non-VRILE days for each region.  Loop through regions. \n",
    "    for i_region in regions_list:\n",
    "        # Skip St John because it's crazy\n",
    "        if (i_region == 'St John') | (i_region == 'Sea of Okhotsk'):\n",
    "            continue\n",
    "        elif (i_region == 'Bering') & (seas_str == 'JAS'):\n",
    "            continue\n",
    "        SIE_ivrile = SIE_reg.loc[i_region][pd.to_datetime(SIE_reg.loc[i_region]['valid date']).isin(pd.to_datetime(obs_SIE_VRILE_only.loc[i_region]['valid date']))]\n",
    "        SIE_VRILES = SIE_VRILES.append(SIE_ivrile)\n",
    "        #\n",
    "        SIE_anom_ivrile = SIE_reg.loc[i_region][pd.to_datetime(SIE_reg.loc[i_region]['valid date']).isin(pd.to_datetime(obs_SIE_anom_VRILE_only.loc[i_region]['valid date']))]\n",
    "        SIE_anom_VRILES = SIE_anom_VRILES.append(SIE_anom_ivrile)\n",
    "        #\n",
    "        if (obs_SIE_NO_VRILE.loc[i_region].shape[0] == 16):\n",
    "            continue\n",
    "        SIE_no_ivrile = SIE_reg.loc[i_region][pd.to_datetime(SIE_reg.loc[i_region]['valid date']).isin(pd.to_datetime(obs_SIE_NO_VRILE.loc[i_region]['valid date']))]\n",
    "        SIE_no_VRILES = SIE_no_VRILES.append(SIE_no_ivrile)\n",
    "        #\n",
    "        SIE_anom_no_ivrile = SIE_reg.loc[i_region][pd.to_datetime(SIE_reg.loc[i_region]['valid date']).isin(pd.to_datetime(obs_SIE_anom_NO_VRILE.loc[i_region]['valid date']))]\n",
    "        SIE_anom_no_VRILES = SIE_anom_no_VRILES.append(SIE_anom_no_ivrile)\n",
    "    # Now, we get lead time in weeks because ultimately we're going to plot as a function of week \n",
    "    SIE_anom_VRILES['lead time (weeks)'] = np.floor(SIE_anom_VRILES['lead time (days)'].dt.days/week_length)\n",
    "    SIE_VRILES['lead time (weeks)'] = np.floor(SIE_VRILES['lead time (days)'].dt.days/week_length)\n",
    "    SIE_anom_no_VRILES['lead time (weeks)'] = np.floor(SIE_anom_no_VRILES['lead time (days)'].dt.days/week_length)\n",
    "    SIE_no_VRILES['lead time (weeks)'] = np.floor(SIE_no_VRILES['lead time (days)'].dt.days/week_length)\n",
    "    # Calculate RMSE and MAE for sea ice forecasts\n",
    "    if lead_weeks == True:\n",
    "        clim_freq_str = 'WEEKLY'\n",
    "        SIE_VRILES['lead days'] = SIE_VRILES['lead time (weeks)']\n",
    "        SIE_anom_VRILES['lead days'] = SIE_anom_VRILES['lead time (weeks)']\n",
    "        SIE_raw_err,SIE_errors = calculate_errors(SIE_VRILES,obs_SIE_VRILE_only)\n",
    "        SIE_anom_raw_err,SIE_anom_errors = calculate_errors(SIE_anom_VRILES,obs_SIE_anom_VRILE_only)\n",
    "        ## NO VRILES\n",
    "        SIE_no_VRILES['lead days'] = SIE_no_VRILES['lead time (weeks)']\n",
    "        SIE_anom_no_VRILES['lead days'] = SIE_anom_no_VRILES['lead time (weeks)']\n",
    "        SIE_raw_err_NO,SIE_errors_NO = calculate_errors(SIE_no_VRILES,obs_SIE_NO_VRILE)\n",
    "        SIE_anom_raw_err_NO,SIE_anom_errors_NO = calculate_errors(SIE_anom_no_VRILES,obs_SIE_anom_NO_VRILE)\n",
    "    else:\n",
    "        clim_freq_str = 'DAILY'\n",
    "        SIE_VRILES['lead days'] = SIE_VRILES['lead time (days)'].dt.days\n",
    "        SIE_anom_VRILES['lead days'] = SIE_anom_VRILES['lead time (days)'].dt.days\n",
    "        SIE_raw_err,SIE_errors = calculate_errors(SIE_VRILES,obs_SIE_VRILE_only)\n",
    "        SIE_anom_raw_err,SIE_anom_errors = calculate_errors(SIE_anom_VRILES,obs_SIE_anom_VRILE_only)\n",
    "        ## NO VRILES\n",
    "        SIE_no_VRILES['lead days'] = SIE_no_VRILES['lead time (days)'].dt.days\n",
    "        SIE_anom_no_VRILES['lead days'] = SIE_anom_no_VRILES['lead time (days)'].dt.days\n",
    "        SIE_raw_err_NO,SIE_errors_NO = calculate_errors(SIE_no_VRILES,obs_SIE_NO_VRILE)\n",
    "        SIE_anom_raw_err_NO,SIE_anom_errors_NO = calculate_errors(SIE_anom_no_VRILES,obs_SIE_anom_NO_VRILE)\n",
    "    print('errors calculated')\n",
    "\n",
    "    # Get p-values\n",
    "    sd_VRILE,sd_noVRILE,p_value,N_vrile,N_novrile = get_pvalues(SIE_VRILES,SIE_no_VRILES,SIE_errors,SIE_errors_NO)\n",
    "    sd_VRILE_anom,sd_noVRILE_anom,p_value_anom,N_vrile_anom,N_novrile_anom = get_pvalues(SIE_anom_VRILES,\n",
    "                                                            SIE_anom_no_VRILES,SIE_anom_errors,SIE_anom_errors_NO)\n",
    "\n",
    "    # Add information to dataframes\n",
    "    SIE_errors['year out'] = iyr\n",
    "    SIE_errors['SIE sdev'] = sd_VRILE\n",
    "    SIE_errors['sample size'] = N_vrile\n",
    "    SIE_errors['p-value'] = p_value\n",
    "    SIE_errors_NO['year out'] = iyr\n",
    "    SIE_errors_NO['SIE sdev'] = sd_noVRILE\n",
    "    SIE_errors_NO['sample size'] = N_novrile\n",
    "    SIE_errors_NO['p-value'] = p_value\n",
    "    #\n",
    "    SIE_anom_errors['year out'] = iyr\n",
    "    SIE_anom_errors['SIE sdev'] = sd_VRILE_anom\n",
    "    SIE_anom_errors['sample size'] = N_vrile_anom\n",
    "    SIE_anom_errors['p-value'] = p_value_anom\n",
    "    SIE_anom_errors_NO['year out'] = iyr\n",
    "    SIE_anom_errors_NO['SIE sdev'] = sd_noVRILE_anom\n",
    "    SIE_anom_errors_NO['sample size'] = N_novrile_anom\n",
    "    SIE_anom_errors_NO['p-value'] = p_value_anom\n",
    "    # Append each CV slice to full data set\n",
    "    SIE_errors_ALL = SIE_errors_ALL.append(SIE_errors)\n",
    "    SIE_anom_errors_ALL = SIE_anom_errors_ALL.append(SIE_anom_errors)\n",
    "    SIE_errors_NO_ALL = SIE_errors_NO_ALL.append(SIE_errors_NO)\n",
    "    SIE_anom_errors_NO_ALL = SIE_anom_errors_NO_ALL.append(SIE_anom_errors_NO)"
   ]
  },
  {
   "cell_type": "code",
   "execution_count": 12,
   "metadata": {
    "scrolled": false
   },
   "outputs": [
    {
     "data": {
      "text/plain": [
       "<matplotlib.axes._subplots.AxesSubplot at 0x7fa8aaa472b0>"
      ]
     },
     "execution_count": 12,
     "metadata": {},
     "output_type": "execute_result"
    },
    {
     "data": {
      "image/png": "[encoded data removed]",
      "text/plain": [
       "<Figure size 432x288 with 1 Axes>"
      ]
     },
     "metadata": {
      "needs_background": "light"
     },
     "output_type": "display_data"
    },
    {
     "data": {
      "image/png": "[encoded data removed]",
      "text/plain": [
       "<Figure size 432x288 with 1 Axes>"
      ]
     },
     "metadata": {
      "needs_background": "light"
     },
     "output_type": "display_data"
    }
   ],
   "source": [
    "SIE_errors_ALL.xs('Kara-Laptev Sea').reset_index().plot.scatter(x='lead days',y='SIE anom RMSE',color='r')\n",
    "SIE_errors_NO.xs('Kara-Laptev Sea').reset_index().plot.scatter(x='lead days',y='SIE RMSE',color='b')\n"
   ]
  },
  {
   "cell_type": "markdown",
   "metadata": {},
   "source": [
    "Plot RMSE of all folds"
   ]
  },
  {
   "cell_type": "code",
   "execution_count": 13,
   "metadata": {
    "scrolled": false
   },
   "outputs": [
    {
     "data": {
      "image/png": "[encoded data removed]",
      "text/plain": [
       "<Figure size 432x288 with 1 Axes>"
      ]
     },
     "metadata": {
      "needs_background": "light"
     },
     "output_type": "display_data"
    }
   ],
   "source": [
    "fig1 = plt.figure(1)\n",
    "ax1 = fig1.add_axes([0,0,1,1])\n",
    "model_name = 'DAMPED_ANOMALY_{obs_name}'.format(obs_name=obs_name)\n",
    "reg_sel = 'East Siberian-Beaufort-Chukchi Sea'\n",
    "foo = SIE_errors_ALL.xs(reg_sel).reset_index()\n",
    "foo.plot.scatter(x='lead days',y=['SIE anom RMSE'],linewidth=2,linestyle='--',ax=ax1,color='r',label=['VRILES'])\n",
    "foo2 = SIE_errors_NO_ALL.xs(reg_sel).reset_index()\n",
    "foo2.plot.scatter(x='lead days',y=['SIE anom RMSE'],linewidth=2,linestyle=':',ax=ax1,label=['NO VRILES'])\n",
    "#\n",
    "figpath_save = '/home/disk/sipn/mcmcgraw/McGraw_etal_2020/code/make_it_nice/COMMON_LAND_MASK/figures/diagnostics/'\n",
    "fig1.suptitle('RMSE on VRILE and nonVRILE Days, anomalous SIE, {region}, {model_name}, {seas_str}'.format(region=reg_sel,\n",
    "                                                                               model_name=model_name,seas_str=seas_str),fontsize=15,\n",
    "             y=1.1)\n",
    "\n",
    "fpath_save_fig1 = figpath_save+'damped_anom_SIE_anom_RMSE_all_slices_{reg_sel}_{model_name}_{seas_str}.png'.format(reg_sel=reg_sel,\n",
    "                                                                            model_name=model_name,seas_str=seas_str)\n",
    "fig1.savefig(fpath_save_fig1,format='png',dpi=350,bbox_inches='tight')"
   ]
  },
  {
   "cell_type": "code",
   "execution_count": 14,
   "metadata": {},
   "outputs": [
    {
     "data": {
      "text/html": [
       "<div>\n",
       "<style scoped>\n",
       "    .dataframe tbody tr th:only-of-type {\n",
       "        vertical-align: middle;\n",
       "    }\n",
       "\n",
       "    .dataframe tbody tr th {\n",
       "        vertical-align: top;\n",
       "    }\n",
       "\n",
       "    .dataframe thead th {\n",
       "        text-align: right;\n",
       "    }\n",
       "</style>\n",
       "<table border=\"1\" class=\"dataframe\">\n",
       "  <thead>\n",
       "    <tr style=\"text-align: right;\">\n",
       "      <th></th>\n",
       "      <th>SIE RMSE</th>\n",
       "      <th>SIE anom RMSE</th>\n",
       "      <th>SIE MAE</th>\n",
       "      <th>SIE anom MAE</th>\n",
       "      <th>year out</th>\n",
       "      <th>SIE sdev</th>\n",
       "      <th>sample size</th>\n",
       "      <th>p-value</th>\n",
       "    </tr>\n",
       "    <tr>\n",
       "      <th>lead days</th>\n",
       "      <th></th>\n",
       "      <th></th>\n",
       "      <th></th>\n",
       "      <th></th>\n",
       "      <th></th>\n",
       "      <th></th>\n",
       "      <th></th>\n",
       "      <th></th>\n",
       "    </tr>\n",
       "  </thead>\n",
       "  <tbody>\n",
       "    <tr>\n",
       "      <th>0.0</th>\n",
       "      <td>3.178505</td>\n",
       "      <td>1.086611</td>\n",
       "      <td>3.974852</td>\n",
       "      <td>1.389433</td>\n",
       "      <td>1.0</td>\n",
       "      <td>0.941687</td>\n",
       "      <td>0.052632</td>\n",
       "      <td>1.0</td>\n",
       "    </tr>\n",
       "    <tr>\n",
       "      <th>1.0</th>\n",
       "      <td>2.910129</td>\n",
       "      <td>1.546155</td>\n",
       "      <td>3.574842</td>\n",
       "      <td>1.606743</td>\n",
       "      <td>1.0</td>\n",
       "      <td>0.831379</td>\n",
       "      <td>0.052632</td>\n",
       "      <td>1.0</td>\n",
       "    </tr>\n",
       "    <tr>\n",
       "      <th>2.0</th>\n",
       "      <td>2.329932</td>\n",
       "      <td>1.721710</td>\n",
       "      <td>2.883332</td>\n",
       "      <td>1.775062</td>\n",
       "      <td>1.0</td>\n",
       "      <td>0.792170</td>\n",
       "      <td>0.052632</td>\n",
       "      <td>1.0</td>\n",
       "    </tr>\n",
       "    <tr>\n",
       "      <th>3.0</th>\n",
       "      <td>2.019485</td>\n",
       "      <td>1.715946</td>\n",
       "      <td>2.518907</td>\n",
       "      <td>1.889944</td>\n",
       "      <td>1.0</td>\n",
       "      <td>0.761710</td>\n",
       "      <td>0.052632</td>\n",
       "      <td>1.0</td>\n",
       "    </tr>\n",
       "    <tr>\n",
       "      <th>4.0</th>\n",
       "      <td>1.936046</td>\n",
       "      <td>1.755248</td>\n",
       "      <td>2.417285</td>\n",
       "      <td>2.004979</td>\n",
       "      <td>1.0</td>\n",
       "      <td>0.745829</td>\n",
       "      <td>0.052632</td>\n",
       "      <td>1.0</td>\n",
       "    </tr>\n",
       "    <tr>\n",
       "      <th>5.0</th>\n",
       "      <td>1.913773</td>\n",
       "      <td>1.789873</td>\n",
       "      <td>2.369037</td>\n",
       "      <td>2.049634</td>\n",
       "      <td>1.0</td>\n",
       "      <td>0.744760</td>\n",
       "      <td>0.052632</td>\n",
       "      <td>1.0</td>\n",
       "    </tr>\n",
       "    <tr>\n",
       "      <th>6.0</th>\n",
       "      <td>1.906331</td>\n",
       "      <td>1.790976</td>\n",
       "      <td>2.354028</td>\n",
       "      <td>2.057418</td>\n",
       "      <td>1.0</td>\n",
       "      <td>0.745471</td>\n",
       "      <td>0.052632</td>\n",
       "      <td>1.0</td>\n",
       "    </tr>\n",
       "    <tr>\n",
       "      <th>7.0</th>\n",
       "      <td>1.894299</td>\n",
       "      <td>1.765940</td>\n",
       "      <td>2.362052</td>\n",
       "      <td>2.031032</td>\n",
       "      <td>1.0</td>\n",
       "      <td>0.742118</td>\n",
       "      <td>0.052632</td>\n",
       "      <td>1.0</td>\n",
       "    </tr>\n",
       "    <tr>\n",
       "      <th>8.0</th>\n",
       "      <td>1.891807</td>\n",
       "      <td>1.756283</td>\n",
       "      <td>2.373440</td>\n",
       "      <td>2.022679</td>\n",
       "      <td>1.0</td>\n",
       "      <td>0.744258</td>\n",
       "      <td>0.052632</td>\n",
       "      <td>1.0</td>\n",
       "    </tr>\n",
       "  </tbody>\n",
       "</table>\n",
       "</div>"
      ],
      "text/plain": [
       "           SIE RMSE  SIE anom RMSE   SIE MAE  SIE anom MAE  year out  \\\n",
       "lead days                                                              \n",
       "0.0        3.178505       1.086611  3.974852      1.389433       1.0   \n",
       "1.0        2.910129       1.546155  3.574842      1.606743       1.0   \n",
       "2.0        2.329932       1.721710  2.883332      1.775062       1.0   \n",
       "3.0        2.019485       1.715946  2.518907      1.889944       1.0   \n",
       "4.0        1.936046       1.755248  2.417285      2.004979       1.0   \n",
       "5.0        1.913773       1.789873  2.369037      2.049634       1.0   \n",
       "6.0        1.906331       1.790976  2.354028      2.057418       1.0   \n",
       "7.0        1.894299       1.765940  2.362052      2.031032       1.0   \n",
       "8.0        1.891807       1.756283  2.373440      2.022679       1.0   \n",
       "\n",
       "           SIE sdev  sample size  p-value  \n",
       "lead days                                  \n",
       "0.0        0.941687     0.052632      1.0  \n",
       "1.0        0.831379     0.052632      1.0  \n",
       "2.0        0.792170     0.052632      1.0  \n",
       "3.0        0.761710     0.052632      1.0  \n",
       "4.0        0.745829     0.052632      1.0  \n",
       "5.0        0.744760     0.052632      1.0  \n",
       "6.0        0.745471     0.052632      1.0  \n",
       "7.0        0.742118     0.052632      1.0  \n",
       "8.0        0.744258     0.052632      1.0  "
      ]
     },
     "execution_count": 14,
     "metadata": {},
     "output_type": "execute_result"
    }
   ],
   "source": [
    "foo.groupby(['lead days']).mean()/foo2.groupby(['lead days']).mean()"
   ]
  },
  {
   "cell_type": "code",
   "execution_count": 15,
   "metadata": {},
   "outputs": [
    {
     "data": {
      "image/png": "[encoded data removed]",
      "text/plain": [
       "<Figure size 432x288 with 1 Axes>"
      ]
     },
     "metadata": {
      "needs_background": "light"
     },
     "output_type": "display_data"
    }
   ],
   "source": [
    "fig2 = plt.figure(2)\n",
    "ax2 = fig2.add_axes([0,0,1,1])\n",
    "foo = SIE_errors_ALL.xs(reg_sel).reset_index()\n",
    "foo.plot.scatter(x='lead days',y=['SIE RMSE'],linewidth=2,linestyle='--',ax=ax2,color='r',label=['VRILES'])\n",
    "foo2 = SIE_errors_NO_ALL.xs(reg_sel).reset_index()\n",
    "foo2.plot.scatter(x='lead days',y=['SIE RMSE'],linewidth=2,linestyle=':',ax=ax2,label=['NO VRILES'])\n",
    "#\n",
    "fig2.suptitle('RMSE on VRILE and nonVRILE Days, SIE, {region}, {model_name}, {seas_str}'.format(region=reg_sel,\n",
    "                                                                               model_name=model_name,\n",
    "                                                        seas_str=seas_str),fontsize=15,y=1.1)\n",
    "\n",
    "fpath_save_fig2 = figpath_save+'damped_anom_SIE_RMSE_all_slices_{reg_sel}_{model_name}_{seas_str}.png'.format(reg_sel=reg_sel,\n",
    "                                                                            model_name=model_name,seas_str=seas_str)\n",
    "fig2.savefig(fpath_save_fig2,format='png',dpi=350,bbox_inches='tight')"
   ]
  },
  {
   "cell_type": "markdown",
   "metadata": {},
   "source": [
    "Plot p-value of all folds"
   ]
  },
  {
   "cell_type": "code",
   "execution_count": 16,
   "metadata": {},
   "outputs": [
    {
     "data": {
      "image/png": "[encoded data removed]",
      "text/plain": [
       "<Figure size 432x288 with 1 Axes>"
      ]
     },
     "metadata": {
      "needs_background": "light"
     },
     "output_type": "display_data"
    }
   ],
   "source": [
    "import seaborn as sns\n",
    "fig3 = plt.figure(3)\n",
    "ax3 = fig3.add_axes([0,0,1,1])\n",
    "foo = SIE_errors_ALL.xs(reg_sel).reset_index()\n",
    "sns.scatterplot(data=foo,x='lead days',y='p-value',hue='year out')\n",
    "ax3.axhline(-1.96,color='k')\n",
    "ax3.axhline(1.96,color='k')\n",
    "SIE_errors_ALL_masked = SIE_errors_ALL.mask(SIE_errors_ALL['p-value'].abs()<1.96)\n",
    "foo2 = SIE_errors_ALL_masked.xs(reg_sel).reset_index()\n",
    "sns.scatterplot(data=foo2,x='lead days',y='p-value',hue='year out',s=200,legend=False,alpha=0.25)\n",
    "fig3.suptitle('p-values, VRILE days vs non-VRILE days, {reg_sel}, {model_name}, {seas_str}'.format(reg_sel=reg_sel,\n",
    "                                                            model_name=model_name,seas_str=seas_str),fontsize=15,y=1.1)\n",
    "fpath_save_fig3 = figpath_save+'pvalues_each_fold_{reg_sel}_{model_name}_{seas_str}.png'.format(reg_sel=reg_sel,\n",
    "                                                                    model_name=model_name,seas_str=seas_str)\n",
    "fig3.savefig(fpath_save_fig3,format='png',dpi=350,bbox_inches='tight')\n"
   ]
  },
  {
   "cell_type": "markdown",
   "metadata": {},
   "source": [
    "Combine everything together into one data frame. Replace <code>SIE anom RMSE</code> and <code>SIE anom MAE</code> in <code>SIE_errors</code> with corresponding entries from  <code>SIE_anom_errors</code> (and same for raw)"
   ]
  },
  {
   "cell_type": "code",
   "execution_count": 17,
   "metadata": {},
   "outputs": [],
   "source": [
    "SIE_anom_errors_ALL = SIE_anom_errors_ALL.rename(columns={'p-value':'p-value anom'})\n",
    "SIE_anom_errors_NO_ALL = SIE_anom_errors_NO_ALL.rename(columns={'p-value':'p-value anom'})"
   ]
  },
  {
   "cell_type": "code",
   "execution_count": 18,
   "metadata": {},
   "outputs": [],
   "source": [
    "SIE_errors_VRILE = SIE_errors_ALL.copy()\n",
    "SIE_errors_VRILE = SIE_errors_VRILE.drop(columns={'SIE anom RMSE','SIE anom MAE'})\n",
    "SIE_errors_VRILE = SIE_errors_VRILE.join(SIE_anom_errors_ALL[['SIE anom RMSE','SIE anom MAE','p-value anom']])\n",
    "SIE_errors_VRILE['type'] = 'VRILE days'\n",
    "#\n",
    "SIE_errors_noVRILE = SIE_errors_NO_ALL.copy()\n",
    "SIE_errors_noVRILE = SIE_errors_noVRILE.drop(columns={'SIE anom RMSE','SIE anom MAE'})\n",
    "SIE_errors_noVRILE = SIE_errors_noVRILE.join(SIE_anom_errors_NO_ALL[['SIE anom RMSE','SIE anom MAE','p-value anom']])\n",
    "SIE_errors_noVRILE['type'] = 'no VRILE days'\n",
    "#\n",
    "SIE_errors_FULL = SIE_errors_VRILE.append(SIE_errors_noVRILE)\n",
    "##\n",
    "SIE_anom_errors_VRILE = SIE_anom_errors_ALL.copy()\n",
    "SIE_anom_errors_VRILE['type'] = 'VRILE days'\n",
    "SIE_anom_errors_noVRILE = SIE_anom_errors_NO_ALL.copy()\n",
    "SIE_anom_errors_noVRILE['type'] = 'no VRILE days'\n",
    "SIE_anom_errors_FULL = SIE_anom_errors_VRILE.append(SIE_anom_errors_noVRILE)"
   ]
  },
  {
   "cell_type": "code",
   "execution_count": 19,
   "metadata": {},
   "outputs": [
    {
     "data": {
      "text/html": [
       "<div>\n",
       "<style scoped>\n",
       "    .dataframe tbody tr th:only-of-type {\n",
       "        vertical-align: middle;\n",
       "    }\n",
       "\n",
       "    .dataframe tbody tr th {\n",
       "        vertical-align: top;\n",
       "    }\n",
       "\n",
       "    .dataframe thead th {\n",
       "        text-align: right;\n",
       "    }\n",
       "</style>\n",
       "<table border=\"1\" class=\"dataframe\">\n",
       "  <thead>\n",
       "    <tr style=\"text-align: right;\">\n",
       "      <th></th>\n",
       "      <th></th>\n",
       "      <th>SIE RMSE</th>\n",
       "      <th>SIE MAE</th>\n",
       "      <th>year out</th>\n",
       "      <th>SIE sdev</th>\n",
       "      <th>sample size</th>\n",
       "      <th>p-value</th>\n",
       "      <th>SIE anom RMSE</th>\n",
       "      <th>SIE anom MAE</th>\n",
       "      <th>p-value anom</th>\n",
       "      <th>type</th>\n",
       "    </tr>\n",
       "    <tr>\n",
       "      <th>region</th>\n",
       "      <th>lead days</th>\n",
       "      <th></th>\n",
       "      <th></th>\n",
       "      <th></th>\n",
       "      <th></th>\n",
       "      <th></th>\n",
       "      <th></th>\n",
       "      <th></th>\n",
       "      <th></th>\n",
       "      <th></th>\n",
       "      <th></th>\n",
       "    </tr>\n",
       "  </thead>\n",
       "  <tbody>\n",
       "    <tr>\n",
       "      <th rowspan=\"5\" valign=\"top\">Atlantic</th>\n",
       "      <th>0.0</th>\n",
       "      <td>0.055918</td>\n",
       "      <td>0.047534</td>\n",
       "      <td>1999</td>\n",
       "      <td>0.284676</td>\n",
       "      <td>74520</td>\n",
       "      <td>28.001335</td>\n",
       "      <td>0.096810</td>\n",
       "      <td>0.076411</td>\n",
       "      <td>21.617817</td>\n",
       "      <td>VRILE days</td>\n",
       "    </tr>\n",
       "    <tr>\n",
       "      <th>0.0</th>\n",
       "      <td>0.055918</td>\n",
       "      <td>0.047534</td>\n",
       "      <td>1999</td>\n",
       "      <td>0.284676</td>\n",
       "      <td>74520</td>\n",
       "      <td>28.001335</td>\n",
       "      <td>0.102932</td>\n",
       "      <td>0.082100</td>\n",
       "      <td>20.677360</td>\n",
       "      <td>VRILE days</td>\n",
       "    </tr>\n",
       "    <tr>\n",
       "      <th>0.0</th>\n",
       "      <td>0.055918</td>\n",
       "      <td>0.047534</td>\n",
       "      <td>1999</td>\n",
       "      <td>0.284676</td>\n",
       "      <td>74520</td>\n",
       "      <td>28.001335</td>\n",
       "      <td>0.085177</td>\n",
       "      <td>0.068494</td>\n",
       "      <td>21.793382</td>\n",
       "      <td>VRILE days</td>\n",
       "    </tr>\n",
       "    <tr>\n",
       "      <th>0.0</th>\n",
       "      <td>0.055918</td>\n",
       "      <td>0.047534</td>\n",
       "      <td>1999</td>\n",
       "      <td>0.284676</td>\n",
       "      <td>74520</td>\n",
       "      <td>28.001335</td>\n",
       "      <td>0.100599</td>\n",
       "      <td>0.080547</td>\n",
       "      <td>21.559734</td>\n",
       "      <td>VRILE days</td>\n",
       "    </tr>\n",
       "    <tr>\n",
       "      <th>0.0</th>\n",
       "      <td>0.055918</td>\n",
       "      <td>0.047534</td>\n",
       "      <td>1999</td>\n",
       "      <td>0.284676</td>\n",
       "      <td>74520</td>\n",
       "      <td>28.001335</td>\n",
       "      <td>0.106257</td>\n",
       "      <td>0.085010</td>\n",
       "      <td>20.938463</td>\n",
       "      <td>VRILE days</td>\n",
       "    </tr>\n",
       "    <tr>\n",
       "      <th>...</th>\n",
       "      <th>...</th>\n",
       "      <td>...</td>\n",
       "      <td>...</td>\n",
       "      <td>...</td>\n",
       "      <td>...</td>\n",
       "      <td>...</td>\n",
       "      <td>...</td>\n",
       "      <td>...</td>\n",
       "      <td>...</td>\n",
       "      <td>...</td>\n",
       "      <td>...</td>\n",
       "    </tr>\n",
       "    <tr>\n",
       "      <th rowspan=\"5\" valign=\"top\">panArctic</th>\n",
       "      <th>8.0</th>\n",
       "      <td>0.471049</td>\n",
       "      <td>0.352887</td>\n",
       "      <td>2014</td>\n",
       "      <td>1.783933</td>\n",
       "      <td>1415880</td>\n",
       "      <td>14.009278</td>\n",
       "      <td>0.551449</td>\n",
       "      <td>0.441891</td>\n",
       "      <td>11.232550</td>\n",
       "      <td>no VRILE days</td>\n",
       "    </tr>\n",
       "    <tr>\n",
       "      <th>8.0</th>\n",
       "      <td>0.471049</td>\n",
       "      <td>0.352887</td>\n",
       "      <td>2014</td>\n",
       "      <td>1.783933</td>\n",
       "      <td>1415880</td>\n",
       "      <td>14.009278</td>\n",
       "      <td>0.542507</td>\n",
       "      <td>0.430439</td>\n",
       "      <td>10.188285</td>\n",
       "      <td>no VRILE days</td>\n",
       "    </tr>\n",
       "    <tr>\n",
       "      <th>8.0</th>\n",
       "      <td>0.471049</td>\n",
       "      <td>0.352887</td>\n",
       "      <td>2014</td>\n",
       "      <td>1.783933</td>\n",
       "      <td>1415880</td>\n",
       "      <td>14.009278</td>\n",
       "      <td>0.514886</td>\n",
       "      <td>0.412786</td>\n",
       "      <td>5.224619</td>\n",
       "      <td>no VRILE days</td>\n",
       "    </tr>\n",
       "    <tr>\n",
       "      <th>8.0</th>\n",
       "      <td>0.471049</td>\n",
       "      <td>0.352887</td>\n",
       "      <td>2014</td>\n",
       "      <td>1.783933</td>\n",
       "      <td>1415880</td>\n",
       "      <td>14.009278</td>\n",
       "      <td>0.553376</td>\n",
       "      <td>0.444007</td>\n",
       "      <td>15.268614</td>\n",
       "      <td>no VRILE days</td>\n",
       "    </tr>\n",
       "    <tr>\n",
       "      <th>8.0</th>\n",
       "      <td>0.471049</td>\n",
       "      <td>0.352887</td>\n",
       "      <td>2014</td>\n",
       "      <td>1.783933</td>\n",
       "      <td>1415880</td>\n",
       "      <td>14.009278</td>\n",
       "      <td>0.556857</td>\n",
       "      <td>0.448290</td>\n",
       "      <td>11.645618</td>\n",
       "      <td>no VRILE days</td>\n",
       "    </tr>\n",
       "  </tbody>\n",
       "</table>\n",
       "<p>82944 rows × 10 columns</p>\n",
       "</div>"
      ],
      "text/plain": [
       "                     SIE RMSE   SIE MAE  year out  SIE sdev  sample size  \\\n",
       "region    lead days                                                        \n",
       "Atlantic  0.0        0.055918  0.047534      1999  0.284676        74520   \n",
       "          0.0        0.055918  0.047534      1999  0.284676        74520   \n",
       "          0.0        0.055918  0.047534      1999  0.284676        74520   \n",
       "          0.0        0.055918  0.047534      1999  0.284676        74520   \n",
       "          0.0        0.055918  0.047534      1999  0.284676        74520   \n",
       "...                       ...       ...       ...       ...          ...   \n",
       "panArctic 8.0        0.471049  0.352887      2014  1.783933      1415880   \n",
       "          8.0        0.471049  0.352887      2014  1.783933      1415880   \n",
       "          8.0        0.471049  0.352887      2014  1.783933      1415880   \n",
       "          8.0        0.471049  0.352887      2014  1.783933      1415880   \n",
       "          8.0        0.471049  0.352887      2014  1.783933      1415880   \n",
       "\n",
       "                       p-value  SIE anom RMSE  SIE anom MAE  p-value anom  \\\n",
       "region    lead days                                                         \n",
       "Atlantic  0.0        28.001335       0.096810      0.076411     21.617817   \n",
       "          0.0        28.001335       0.102932      0.082100     20.677360   \n",
       "          0.0        28.001335       0.085177      0.068494     21.793382   \n",
       "          0.0        28.001335       0.100599      0.080547     21.559734   \n",
       "          0.0        28.001335       0.106257      0.085010     20.938463   \n",
       "...                        ...            ...           ...           ...   \n",
       "panArctic 8.0        14.009278       0.551449      0.441891     11.232550   \n",
       "          8.0        14.009278       0.542507      0.430439     10.188285   \n",
       "          8.0        14.009278       0.514886      0.412786      5.224619   \n",
       "          8.0        14.009278       0.553376      0.444007     15.268614   \n",
       "          8.0        14.009278       0.556857      0.448290     11.645618   \n",
       "\n",
       "                              type  \n",
       "region    lead days                 \n",
       "Atlantic  0.0           VRILE days  \n",
       "          0.0           VRILE days  \n",
       "          0.0           VRILE days  \n",
       "          0.0           VRILE days  \n",
       "          0.0           VRILE days  \n",
       "...                            ...  \n",
       "panArctic 8.0        no VRILE days  \n",
       "          8.0        no VRILE days  \n",
       "          8.0        no VRILE days  \n",
       "          8.0        no VRILE days  \n",
       "          8.0        no VRILE days  \n",
       "\n",
       "[82944 rows x 10 columns]"
      ]
     },
     "execution_count": 19,
     "metadata": {},
     "output_type": "execute_result"
    }
   ],
   "source": [
    "SIE_errors_FULL"
   ]
  },
  {
   "cell_type": "markdown",
   "metadata": {},
   "source": [
    "Save files "
   ]
  },
  {
   "cell_type": "code",
   "execution_count": 20,
   "metadata": {},
   "outputs": [],
   "source": [
    "fdir = '/home/disk/sipn/mcmcgraw/McGraw_etal_2020/code/make_it_nice/COMMON_LAND_MASK/data/{model_name}/'.format(model_name=model_name)\n",
    "fdir = fdir+'OBS_{obs_name}/'.format(obs_name=obs_name)\n",
    "if COMMON_RF == True:\n",
    "    fdir = fdir+'COMMON_RF/'\n",
    "else:\n",
    "    fdir = fdir+'FULL_TIME/'\n",
    "if nday_change != 5:\n",
    "    fdir = fdir+'VRILEs_{nday_change}day_change/'.format(nday_change=nday_change)\n",
    "if not os.path.exists(fdir):\n",
    "    os.makedirs(fdir)\n",
    "#\n",
    "\n",
    "fname_save_RMSE = fdir+'VRILE_vs_NOVRILE_RMSE_MAE_{model_name}_months{seas_str}_VRILE{thresh_str}_model_clim_freq_{clim_freq_str}.csv'.format(model_name=model_name,\n",
    "                                             seas_str=seas_str,thresh_str=thresh_str,clim_freq_str=clim_freq_str)\n",
    "\n",
    "#fname_save_raw = fdir+'RAW_err_{model_name}_months{seas_str}_VRILE{thresh_str}_model_clim_freq_{clim_freq_str}.csv'.format(model_name=model_name,\n",
    " #                                            seas_str=seas_str,thresh_str=thresh_str,clim_freq_str=clim_freq_str)\n",
    "#\n",
    "#SIE_raw_err_FULL.to_csv(fname_save_raw)\n",
    "SIE_errors_FULL.to_csv(fname_save_RMSE)"
   ]
  },
  {
   "cell_type": "code",
   "execution_count": 21,
   "metadata": {},
   "outputs": [
    {
     "data": {
      "text/plain": [
       "'/home/disk/sipn/mcmcgraw/McGraw_etal_2020/code/make_it_nice/COMMON_LAND_MASK/data/DAMPED_ANOMALY_NSIDC_0079/OBS_NSIDC_0079/COMMON_RF/VRILE_vs_NOVRILE_RMSE_MAE_DAMPED_ANOMALY_NSIDC_0079_monthsJJA_VRILE05_model_clim_freq_WEEKLY.csv'"
      ]
     },
     "execution_count": 21,
     "metadata": {},
     "output_type": "execute_result"
    }
   ],
   "source": [
    "fname_save_RMSE"
   ]
  },
  {
   "cell_type": "code",
   "execution_count": null,
   "metadata": {},
   "outputs": [],
   "source": []
  }
 ],
 "metadata": {
  "kernelspec": {
   "display_name": "sea_ice_variability_S2S",
   "language": "python",
   "name": "sea_ice_variability_s2s"
  },
  "language_info": {
   "codemirror_mode": {
    "name": "ipython",
    "version": 3
   },
   "file_extension": ".py",
   "mimetype": "text/x-python",
   "name": "python",
   "nbconvert_exporter": "python",
   "pygments_lexer": "ipython3",
   "version": "3.7.3"
  }
 },
 "nbformat": 4,
 "nbformat_minor": 2
}
