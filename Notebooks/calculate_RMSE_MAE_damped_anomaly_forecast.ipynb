{
 "cells": [
  {
   "cell_type": "markdown",
   "metadata": {},
   "source": [
    "<code>calculate_RMSE_MAE_damped_anomaly_forecast.ipynb</code>. This notebook outputs RMSE and MAE for the damped anomaly forecasts of SIE and anomalous SIE. Model forecasts are separated into VRILE and non-VRILE days."
   ]
  },
  {
   "cell_type": "markdown",
   "metadata": {},
   "source": [
    "### Load packages"
   ]
  },
  {
   "cell_type": "code",
   "execution_count": 1,
   "metadata": {},
   "outputs": [],
   "source": [
    "import numpy as np\n",
    "import xarray as xr\n",
    "import pandas as pd\n",
    "import os\n",
    "import matplotlib.pyplot as plt\n",
    "import seaborn as sns\n",
    "from sklearn import metrics\n",
    "from sklearn.metrics import mean_squared_error\n",
    "from sklearn.linear_model import LinearRegression\n",
    "from sklearn.model_selection import train_test_split, cross_val_score, LeaveOneOut"
   ]
  },
  {
   "cell_type": "code",
   "execution_count": 4,
   "metadata": {},
   "outputs": [],
   "source": [
    "def create_aggregate_regions_DAMPED_ANOM(SIE_data):\n",
    "    regions_agg_list = [['Kara Sea','Laptev Sea'],['Barents Sea','Kara Sea','Laptev Sea'],['East Siberian Sea','Beaufort Sea','Chukchi Sea'],\n",
    "                       ['Baffin Bay','East Greenland Sea'],['East Siberian Sea','Beaufort Sea','Chukchi Sea','Laptev Sea']]\n",
    "    region_names_extra = ['Kara-Laptev Sea','Barents-Kara-Laptev Sea','East Siberian-Beaufort-Chukchi Sea',\n",
    "                      'Atlantic','East Siberian-Beaufort-Chukchi-Laptev Sea']\n",
    "    #\n",
    "    for i_reg in np.arange(0,len(regions_agg_list)):\n",
    "        i_reg_sel = regions_agg_list[i_reg]\n",
    "        SIE_ireg = SIE_data[SIE_data['region'].isin(i_reg_sel)]\n",
    "        SIE_ireg_group = SIE_ireg.set_index(['region','init date','valid date','lead time']).mean(level=(1,2,3))\n",
    "        SIE_ireg_group['region'] = region_names_extra[i_reg]\n",
    "        SIE_data =SIE_data.append(SIE_ireg_group.reset_index())\n",
    "        \n",
    "    return(SIE_data)"
   ]
  },
  {
   "cell_type": "markdown",
   "metadata": {},
   "source": [
    "### Overview\n",
    "Okay. Overview of our cross-validated, significance-tested VRILE error. \n",
    "* Load damped anomaly netCDF files and use common reforecast period.  Use data that has been regridded to the common land mask. \n",
    "* Add aggregate regions \n",
    "* Create climatology--damped anomaly model: calculate date of year for valid date, lead time in weeks.\n",
    "    *  Group by region, lead time, and valid date of year \n",
    "    *  Average climatology based on day of year and lead time in weeks--use <code>transform</code> to create <code>SIE_clim</code>.\n",
    "    *  Subtract <code>SIE_clim</code> from <code>SIE</code>\n",
    "* Create observed climatology based on common reforecast period (1999-2014)\n",
    "* Set up LeaveOneOut cross-validation: We remove each year (1999-2014) from the observations.  Then we:\n",
    "    * Calculate VRILEs excluding each year\n",
    "    * Identify forecasts that correspond to VRILE days and separate S2S model data into VRILE days and non-VRILE days\n",
    "    * Calculate errors: as a function of region, valid date, and lead time. \n",
    "    * Assess significance:\n",
    "        * H0: RMSE for non-VRILE days = RMSE for VRILE days \n",
    "        * Calculate p-value: $p_0 = \\frac{(RMSE_{VRILE} - RMSE_{NOVRILE})}{\\sqrt{\\frac{S_{VRILE}^2}{N_{VRILE}} + \\frac{S_{NOVRILE}^2}{N_{NOVRILE}}}}$\n",
    "        * Save p-values, standard deviations as a function of lead time, region, and year left out. \n",
    "        * When $|p| > |p_{crit}|$ ($p_{crit} = \\pm 1.96$), we can say that the model's ability to predict sea ice on VRILE days is significantly different from the model's ability to predict sea ice on non-VRILE days in that region for that lead time while leaving out that year\n",
    "  \n",
    "* How many years must be significantly different for us to say our samples are overall different? Use a binomial test\n",
    "    * $\\sum_{i}^{N} {N \\choose i}p^i(1 - p)^{N - i}$\n",
    "    * N: total number of samples (15, one for each year between 1999-2014)\n",
    "    * p: 0.5 (assume we have equal probability of rejecting or not-rejecting null hypothesis)\n",
    "    * we need to find i: i = 13 for rejecting hypothesis at 95% confidence"
   ]
  },
  {
   "cell_type": "code",
   "execution_count": 2,
   "metadata": {},
   "outputs": [],
   "source": [
    "from S2S_sea_ice_preprocess import load_model, create_aggregate_regions, create_model_climatology, create_obs_climatology\n",
    "from S2S_sea_ice_VRILEs import get_VRILE_days\n",
    "from S2S_sea_ice_metrics import calculate_errors, get_pvalues"
   ]
  },
  {
   "cell_type": "markdown",
   "metadata": {},
   "source": [
    "<b>inputs:</b><br>\n",
    "<li>  <code>model name</code>: (ecmwf,ukmo,ncep,metreofr) </li>\n",
    "<li>  <code>seas_str</code>: [string for season; ALL if we want to do full year]</li>\n",
    "<li>  <code>seas_sel</code>: [months of season; empty if we want to do full year] </li>\n",
    "<li>  <code>vrile_thresh</code>: [threshhold at which VRILE is estimated </li>\n",
    "<li>  <code>thresh_str</code>: [string for VRILE threshhold] </li>\n",
    "<li>  <code>obs_name</code>: (NSIDC_0079, NSIDC_0051, OSISAF) [observational product we are using as our \"truth\"]</li>\n",
    "<li>  <code>COMMON_RF</code>: boolean; indicates whether or not we want to use common reforecast period (1999-2014) or all available years (<code>True</code> is default)</li>\n",
    "<li>  <code>nday_change</code>: $n$-day change in SIE for VRILE calculation (default is 5)</li>\n",
    "<li>  <code>lead_weeks</code>: boolean; indicates whether or not we want our RMSE results to be as a function of lead days or lead weeks (default is <code>True</code>) </li>"
   ]
  },
  {
   "cell_type": "code",
   "execution_count": 3,
   "metadata": {},
   "outputs": [],
   "source": [
    "vrile_thresh = 0.05\n",
    "thresh_str = '05'\n",
    "nday_change = 5\n",
    "seas_sel = [6,7,8]\n",
    "seas_str = 'JJA'\n",
    "nyear_roll = 10\n",
    "lead_weeks = True\n",
    "ROLL_CLIM = True"
   ]
  },
  {
   "cell_type": "markdown",
   "metadata": {},
   "source": [
    "Load"
   ]
  },
  {
   "cell_type": "code",
   "execution_count": null,
   "metadata": {},
   "outputs": [],
   "source": [
    "obs_name = 'NSIDC_0079'\n",
    "fpath_load = '/home/disk/sipn/mcmcgraw/McGraw_etal_2020/code/make_it_nice/COMMON_LAND_MASK/data/'\n",
    "fname_load = fpath_load+'{obs_name}_DAMPED_ANOMALY_FORECAST_{nyear_roll}_rolling_mean.csv'.format(obs_name=obs_name,nyear_roll=nyear_roll)\n",
    "SIE_damped_a = pd.read_csv(fname_load)\n",
    "SIE_damped_a = create_aggregate_regions_DAMPED_ANOM(SIE_damped_a)\n",
    "SIE_damped_a['init year'] = pd.to_datetime(SIE_damped_a['init date']).dt.year\n",
    "SIE_damped_a['lead time (days)'] = pd.to_timedelta(SIE_damped_a['lead time'],'D')\n",
    "# Trim to common reforecast period\n",
    "#SIE_damped_a = create_aggregate_regions(SIE_damped_a)\n",
    "SIE_damped_a = SIE_damped_a[SIE_damped_a['init year'].isin(np.arange(1999,2015))]\n",
    "SIE_damped = SIE_damped_a.set_index('region')\n",
    "SIE_damped['valid date'] = pd.to_datetime(SIE_damped['valid date'])"
   ]
  }
 ],
 "metadata": {
  "kernelspec": {
   "display_name": "sea_ice_variability_S2S",
   "language": "python",
   "name": "sea_ice_variability_s2s"
  },
  "language_info": {
   "codemirror_mode": {
    "name": "ipython",
    "version": 3
   },
   "file_extension": ".py",
   "mimetype": "text/x-python",
   "name": "python",
   "nbconvert_exporter": "python",
   "pygments_lexer": "ipython3",
   "version": "3.7.3"
  }
 },
 "nbformat": 4,
 "nbformat_minor": 2
}
