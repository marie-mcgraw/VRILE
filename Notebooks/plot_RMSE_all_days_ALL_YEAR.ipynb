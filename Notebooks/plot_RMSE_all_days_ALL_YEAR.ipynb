{
 "cells": [
  {
   "cell_type": "markdown",
   "metadata": {},
   "source": [
    "<code>plot_RMSE_all_days_ALL_YEAR.ipynb</code> plots RMSE as a function of lead time for ALL DAYS for all S2S models."
   ]
  },
  {
   "cell_type": "code",
   "execution_count": 1,
   "metadata": {},
   "outputs": [],
   "source": [
    "import xarray as xr\n",
    "import numpy as np\n",
    "import os\n",
    "import matplotlib.pyplot as plt\n",
    "import pandas as pd\n",
    "import seaborn as sns\n",
    "from S2S_sea_ice_plotting import RMSE_plot"
   ]
  },
  {
   "cell_type": "markdown",
   "metadata": {},
   "source": [
    "### Inputs:\n",
    "* <code>model_names</code>: which models to include (helpful for debugging)\n",
    "* <code>seas_str</code>: which season to plot (string) (for this notebook, we'll just do ALL)\n",
    "* <code>seas_sel</code>: months to include (array) (all months for this notebook)\n",
    "* <code>vrile_thresh</code>: threshold for VRILE calculation (string)\n",
    "* <code>clim_freq</code>: lead time in days or weeks (string)\n",
    "* <code>TO_PLOT</code>: are we plotting SIE or SIE anom?\n",
    "* <code>obs_name</code>: which set of obs to use (string)\n",
    "* <code>obs_name_plt</code>: name of obs (for plot, string)\n",
    "* <code>ALL_DAYS</code>: boolean; if true, include VRILE and nonVRILE days; if false, just use nonVRILE days"
   ]
  },
  {
   "cell_type": "code",
   "execution_count": 6,
   "metadata": {},
   "outputs": [],
   "source": [
    "ALL_REGIONS = False \n",
    "model_names = ['ecmwf','ukmo','metreofr','ncep','DAMPED_ANOMALY']\n",
    "#model_names = ['DAMPED_ANOMALY']\n",
    "seas_str = 'JFM'\n",
    "seas_sel = [1,2,3,4,5,6,7,8,9,10,11,12]\n",
    "vrile_thresh = '05'\n",
    "clim_freq = 'WEEKLY'\n",
    "TO_PLOT = 'SIE RMSE'\n",
    "obs_name = 'NSIDC_0079'\n",
    "obs_name_plt = 'NASA Bootstrap'\n",
    "ALL_DAYS = True"
   ]
  },
  {
   "cell_type": "markdown",
   "metadata": {},
   "source": [
    "### Steps\n",
    "1. Load on RMSE spreadsheets for all days and VRILE days, and combine all models into one spreadsheet \n",
    "2. Plot RMSE vs lead time for specified season for desired regions. "
   ]
  },
  {
   "cell_type": "markdown",
   "metadata": {},
   "source": [
    "Load <code>.csv</code> files"
   ]
  },
  {
   "cell_type": "code",
   "execution_count": 7,
   "metadata": {
    "scrolled": false
   },
   "outputs": [],
   "source": [
    "d_SIE_all = pd.DataFrame()\n",
    "fpath_load = '/home/disk/sipn/mcmcgraw/McGraw_etal_2020/code/make_it_nice/COMMON_LAND_MASK/data/'\n",
    "for i_model in model_names:\n",
    "    # Damped anomaly has different filename\n",
    "    if i_model == 'DAMPED_ANOMALY':\n",
    "        fpath_all = fpath_load+'{model_name}_{obs_name}/OBS_{obs_name}/'.format(model_name=i_model,obs_name=obs_name)       \n",
    "        fpath_all = fpath_all+'COMMON_RF/VRILE_vs_NOVRILE_RMSE_MAE_{model_name}_{obs_name}_months{seas_str}_VRILE{vrile_thresh}_model_clim_freq_{clim_freq}.csv'.format(model_name=i_model,\n",
    "                                                                                obs_name=obs_name,seas_str=seas_str,\n",
    "                                                                                            vrile_thresh=vrile_thresh,\n",
    "                                                                                            clim_freq=clim_freq)\n",
    "        d_SIE = pd.read_csv(fpath_all)\n",
    "        d_SIE['Model Name'] = 'Damped Anomaly'\n",
    "        d_SIE_all = d_SIE_all.append(d_SIE)\n",
    "        \n",
    "    else:\n",
    "        # Load ALL DAYS\n",
    "        fpath_all = fpath_load+'{model_name}/OBS_{obs_name}/COMMON_RF/VRILE_vs_NOVRILE_RMSE_MAE_{model_name}_months{seas_str}_VRILE{vrile_thresh}_model_clim_freq_{clim_freq}.csv'.format(model_name=i_model,\n",
    "                                                                                                obs_name=obs_name,\n",
    "                                                                                                seas_str=seas_str,\n",
    "                                                                                                vrile_thresh=vrile_thresh,\n",
    "                                                                                                clim_freq=clim_freq)\n",
    "        d_SIE = pd.read_csv(fpath_all)\n",
    "        # Because we spelled \"meteofr\" wrong\n",
    "        if i_model == 'metreofr':\n",
    "            d_SIE['Model Name'] = 'meteofr'\n",
    "        else:\n",
    "            d_SIE['Model Name'] = i_model\n",
    "        # \n",
    "        d_SIE_all = d_SIE_all.append(d_SIE)\n",
    "        \n",
    "    "
   ]
  },
  {
   "cell_type": "code",
   "execution_count": 8,
   "metadata": {},
   "outputs": [
    {
     "data": {
      "text/plain": [
       "'/home/disk/sipn/mcmcgraw/McGraw_etal_2020/code/make_it_nice/COMMON_LAND_MASK/data/DAMPED_ANOMALY_NSIDC_0079/OBS_NSIDC_0079/COMMON_RF/VRILE_vs_NOVRILE_RMSE_MAE_DAMPED_ANOMALY_NSIDC_0079_monthsJFM_VRILE05_model_clim_freq_WEEKLY.csv'"
      ]
     },
     "execution_count": 8,
     "metadata": {},
     "output_type": "execute_result"
    }
   ],
   "source": [
    "fpath_all"
   ]
  },
  {
   "cell_type": "markdown",
   "metadata": {},
   "source": [
    "Trim regions"
   ]
  },
  {
   "cell_type": "code",
   "execution_count": 9,
   "metadata": {},
   "outputs": [],
   "source": [
    "regions_all = d_SIE_all['region'].unique().tolist()\n",
    "regions_drop = ['St John']#,'Hudson Bay','Canadian Islands','Bering','Sea of Okhotsk']\n",
    "regions_sel = d_SIE_all[~d_SIE_all['region'].isin(regions_drop)]['region'].unique().tolist()\n",
    "if ALL_REGIONS == True:\n",
    "    regions_list = regions_sel\n",
    "    ncols = 5\n",
    "    reg_save_str = 'REG_ALL'\n",
    "    fpath_save = '/home/disk/sipn/mcmcgraw/McGraw_etal_2020/code/make_it_nice/COMMON_LAND_MASK/figures/RMSE_all_days/'\n",
    "    ftype = 'pdf'\n",
    "else:\n",
    "    regions_list = ['panArctic','Barents Sea','East Greenland Sea','Central Arctic','Kara-Laptev Sea',\n",
    "                     'East Siberian-Beaufort-Chukchi Sea','Bering']\n",
    "    ncols = 2\n",
    "    reg_save_str = 'REG_TRIM'\n",
    "    fpath_save = '/home/disk/sipn/mcmcgraw/McGraw_etal_2020/code/make_it_nice/COMMON_LAND_MASK/figures/RMSE_all_days/'\n",
    "    ftype='pdf'\n",
    "if not os.path.exists(fpath_save):\n",
    "    os.makedirs(fpath_save)"
   ]
  },
  {
   "cell_type": "code",
   "execution_count": 10,
   "metadata": {},
   "outputs": [],
   "source": [
    "d_SIE_all = d_SIE_all[~d_SIE_all['region'].isin(regions_drop)]"
   ]
  },
  {
   "cell_type": "markdown",
   "metadata": {},
   "source": [
    "Shorten region names and replace to plot in desired order"
   ]
  },
  {
   "cell_type": "code",
   "execution_count": 11,
   "metadata": {},
   "outputs": [],
   "source": [
    "d_SIE_all['region'] = d_SIE_all['region'].replace({'East Greenland Sea':'E. Greenland Sea',\n",
    "    'East Siberian-Beaufort-Chukchi Sea':'E. Sib./Beauf./Chuk. Sea'})\n",
    "#model_R2_select['Model Name'] = model_R2_select['Model Name'].replace({'metreofr':'meteofr'})\n",
    "#\n",
    "d_SIE_all['Model Name'] = d_SIE_all['Model Name'].replace({'ecmwf':'ECMWF','ukmo':'UKMO','meteofr':'METEOFR',\n",
    "                                                          'ncep':'NCEP'})\n",
    "regions_sort = [\"panArctic\",\"Central Arctic\",\"E. Sib./Beauf./Chuk. Sea\",\"Kara-Laptev Sea\",\n",
    "                \"Barents Sea\",\"E. Greenland Sea\",\"Bering\"]\n",
    "d_SIE_all['region sort'] = pd.Categorical(d_SIE_all['region'],regions_sort)\n"
   ]
  },
  {
   "cell_type": "markdown",
   "metadata": {},
   "source": [
    "Group by region, lead day, model, and type (all days or non-VRILE days only, based on <code>ALL_DAYS</code>)"
   ]
  },
  {
   "cell_type": "code",
   "execution_count": 12,
   "metadata": {},
   "outputs": [],
   "source": [
    "d_SIE_all_gb = d_SIE_all.groupby(['region sort','Model Name','type','lead days']).mean()\n",
    "if ALL_DAYS == False:\n",
    "    d_SIE_all_gb = d_SIE_all_gb.xs(('no VRILE days'),level=2)\n",
    "elif ALL_DAYS == True:\n",
    "    d_SIE_all_gb = d_SIE_all_gb.mean(level=(0,1,3))\n"
   ]
  },
  {
   "cell_type": "code",
   "execution_count": 13,
   "metadata": {},
   "outputs": [],
   "source": [
    "if TO_PLOT == 'SIE RMSE':\n",
    "    title_str = 'Sea Ice Extent'\n",
    "    save_str = 'SIE'\n",
    "else:\n",
    "    title_str = 'Anomalous Sea Ice Extent'\n",
    "    save_str = 'SIE_anom'"
   ]
  },
  {
   "cell_type": "markdown",
   "metadata": {},
   "source": [
    "Plot"
   ]
  },
  {
   "cell_type": "code",
   "execution_count": null,
   "metadata": {
    "scrolled": false
   },
   "outputs": [],
   "source": [
    "nrows = 4\n",
    "ncols = 2\n",
    "no_regions = len(regions_sort)\n",
    "if TO_PLOT == 'SIE RMSE':\n",
    "    vmax = [1.05,0.75,0.75,0.375,0.255,0.375,0.255]\n",
    "else:\n",
    "    vmax = [0.75,0.305,0.505,0.305,0.205,0.205,0.205]\n",
    "vmin = 0\n",
    "fig1,ax1 = plt.subplots(nrows,ncols,figsize=(20,20))\n",
    "for i in range(0,no_regions):\n",
    "    ax_sel = ax1.flat[i]\n",
    "    #i_reg = np.floor(i/2).astype(int)\n",
    "    i_reg = i\n",
    "    reg_sel = regions_sort[i_reg]\n",
    "    #if np.mod(i,2) == 0:\n",
    "    data_sel = d_SIE_all_gb.xs((reg_sel)).reset_index()\n",
    "    #elif np.mod(i,2) == 1:\n",
    "     #   data_sel = d_SIE_all_gb2.xs((reg_sel)).reset_index()\n",
    "    # Plot\n",
    "    RMSE_plot(ax_sel,data_sel,reg_sel,TO_PLOT,i,vmin,vmax[i_reg],no_regions,ncols,nrows)\n",
    "    #if i == len(no_regions):\n",
    "    #ax_sel.legend(bbox_to_anchor=(1.025,1),loc=2,borderaxespad=0,fontsize=18)\n",
    "fig1.delaxes(ax=ax1.flat[7])        \n",
    "fig1.tight_layout()\n",
    "\n",
    "if TO_PLOT == 'SIE RMSE':\n",
    "    fig1.suptitle('Predictions of Sea Ice Extent using {obs_name}'.format(obs_name=obs_name_plt),fontsize=32,y=1.02)\n",
    "else:\n",
    "    fig1.suptitle('Predictions of Anomalous Sea Ice Extent using {obs_name}'.format(obs_name=obs_name_plt),fontsize=32,y=1.02)\n",
    "if ALL_DAYS == True:\n",
    "    fpath_save1 = fpath_save+'ALL_DAYS_{save_str}_{seas_str}_RMSE_only_{obs_name}.pdf'.format(save_str=save_str,seas_str=seas_str,\n",
    "                                                                                   obs_name=obs_name)\n",
    "elif ALL_DAYS == False:\n",
    "    fpath_save1 = fpath_save+'noVRILE_DAYS_{save_str}_{seas_str}_RMSE_only_{obs_name}.pdf'.format(save_str=save_str,seas_str=seas_str,\n",
    "                                                                                   obs_name=obs_name)\n",
    "fig1.savefig(fpath_save1,format='pdf',bbox_inches='tight')  \n",
    "print(fpath_save1)"
   ]
  },
  {
   "cell_type": "code",
   "execution_count": null,
   "metadata": {
    "scrolled": true
   },
   "outputs": [],
   "source": [
    "d_SIE_all_gb.xs('Kara-Laptev Sea')"
   ]
  },
  {
   "cell_type": "code",
   "execution_count": null,
   "metadata": {},
   "outputs": [],
   "source": []
  }
 ],
 "metadata": {
  "kernelspec": {
   "display_name": "sea_ice_variability_S2S",
   "language": "python",
   "name": "sea_ice_variability_s2s"
  },
  "language_info": {
   "codemirror_mode": {
    "name": "ipython",
    "version": 3
   },
   "file_extension": ".py",
   "mimetype": "text/x-python",
   "name": "python",
   "nbconvert_exporter": "python",
   "pygments_lexer": "ipython3",
   "version": "3.7.3"
  }
 },
 "nbformat": 4,
 "nbformat_minor": 2
}
