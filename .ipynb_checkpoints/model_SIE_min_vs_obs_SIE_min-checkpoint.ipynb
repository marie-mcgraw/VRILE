{
 "cells": [
  {
   "cell_type": "code",
   "execution_count": 340,
   "metadata": {},
   "outputs": [],
   "source": [
    "import xarray as xr\n",
    "import numpy as np\n",
    "import os\n",
    "import matplotlib.pyplot as plt\n",
    "import pandas as pd\n",
    "import datetime\n",
    "from datetime import datetime, timedelta\n",
    "import glob"
   ]
  },
  {
   "cell_type": "markdown",
   "metadata": {},
   "source": [
    "Load reforecast data set"
   ]
  },
  {
   "cell_type": "code",
   "execution_count": 341,
   "metadata": {},
   "outputs": [
    {
     "data": {
      "text/html": [
       "<div>\n",
       "<style scoped>\n",
       "    .dataframe tbody tr th:only-of-type {\n",
       "        vertical-align: middle;\n",
       "    }\n",
       "\n",
       "    .dataframe tbody tr th {\n",
       "        vertical-align: top;\n",
       "    }\n",
       "\n",
       "    .dataframe thead th {\n",
       "        text-align: right;\n",
       "    }\n",
       "</style>\n",
       "<table border=\"1\" class=\"dataframe\">\n",
       "  <thead>\n",
       "    <tr style=\"text-align: right;\">\n",
       "      <th></th>\n",
       "      <th>Unnamed: 0</th>\n",
       "      <th>I (init date)</th>\n",
       "      <th>V (valid date)</th>\n",
       "      <th>V_mon (valid date month)</th>\n",
       "      <th>V_yr (valid date year)</th>\n",
       "      <th>SIE</th>\n",
       "      <th>lead time (days)</th>\n",
       "      <th>d_SIE (V - I)</th>\n",
       "      <th>ensemble</th>\n",
       "      <th>region</th>\n",
       "    </tr>\n",
       "  </thead>\n",
       "  <tbody>\n",
       "    <tr>\n",
       "      <th>0</th>\n",
       "      <td>0</td>\n",
       "      <td>1995-01-01</td>\n",
       "      <td>1995-01-03 00:00:00</td>\n",
       "      <td>1.0</td>\n",
       "      <td>1995.0</td>\n",
       "      <td>14.814003</td>\n",
       "      <td>2.0</td>\n",
       "      <td>0.184779</td>\n",
       "      <td>1.0</td>\n",
       "      <td>panArctic</td>\n",
       "    </tr>\n",
       "    <tr>\n",
       "      <th>1</th>\n",
       "      <td>0</td>\n",
       "      <td>1995-01-01</td>\n",
       "      <td>1995-01-04 00:00:00</td>\n",
       "      <td>1.0</td>\n",
       "      <td>1995.0</td>\n",
       "      <td>14.795428</td>\n",
       "      <td>3.0</td>\n",
       "      <td>0.182000</td>\n",
       "      <td>1.0</td>\n",
       "      <td>panArctic</td>\n",
       "    </tr>\n",
       "    <tr>\n",
       "      <th>2</th>\n",
       "      <td>0</td>\n",
       "      <td>1995-01-01</td>\n",
       "      <td>1995-01-05 00:00:00</td>\n",
       "      <td>1.0</td>\n",
       "      <td>1995.0</td>\n",
       "      <td>14.866591</td>\n",
       "      <td>4.0</td>\n",
       "      <td>0.137827</td>\n",
       "      <td>1.0</td>\n",
       "      <td>panArctic</td>\n",
       "    </tr>\n",
       "    <tr>\n",
       "      <th>3</th>\n",
       "      <td>0</td>\n",
       "      <td>1995-01-01</td>\n",
       "      <td>1995-01-06 00:00:00</td>\n",
       "      <td>1.0</td>\n",
       "      <td>1995.0</td>\n",
       "      <td>14.935446</td>\n",
       "      <td>5.0</td>\n",
       "      <td>0.145578</td>\n",
       "      <td>1.0</td>\n",
       "      <td>panArctic</td>\n",
       "    </tr>\n",
       "    <tr>\n",
       "      <th>4</th>\n",
       "      <td>0</td>\n",
       "      <td>1995-01-01</td>\n",
       "      <td>1995-01-07 00:00:00</td>\n",
       "      <td>1.0</td>\n",
       "      <td>1995.0</td>\n",
       "      <td>14.951830</td>\n",
       "      <td>6.0</td>\n",
       "      <td>0.165441</td>\n",
       "      <td>1.0</td>\n",
       "      <td>panArctic</td>\n",
       "    </tr>\n",
       "  </tbody>\n",
       "</table>\n",
       "</div>"
      ],
      "text/plain": [
       "   Unnamed: 0 I (init date)       V (valid date)  V_mon (valid date month)  \\\n",
       "0           0    1995-01-01  1995-01-03 00:00:00                       1.0   \n",
       "1           0    1995-01-01  1995-01-04 00:00:00                       1.0   \n",
       "2           0    1995-01-01  1995-01-05 00:00:00                       1.0   \n",
       "3           0    1995-01-01  1995-01-06 00:00:00                       1.0   \n",
       "4           0    1995-01-01  1995-01-07 00:00:00                       1.0   \n",
       "\n",
       "   V_yr (valid date year)        SIE  lead time (days)  d_SIE (V - I)  \\\n",
       "0                  1995.0  14.814003               2.0       0.184779   \n",
       "1                  1995.0  14.795428               3.0       0.182000   \n",
       "2                  1995.0  14.866591               4.0       0.137827   \n",
       "3                  1995.0  14.935446               5.0       0.145578   \n",
       "4                  1995.0  14.951830               6.0       0.165441   \n",
       "\n",
       "   ensemble     region  \n",
       "0       1.0  panArctic  \n",
       "1       1.0  panArctic  \n",
       "2       1.0  panArctic  \n",
       "3       1.0  panArctic  \n",
       "4       1.0  panArctic  "
      ]
     },
     "execution_count": 341,
     "metadata": {},
     "output_type": "execute_result"
    }
   ],
   "source": [
    "model_name = 'ukmo'\n",
    "#model_name = 'ukmo'\n",
    "model_type = 'reforecast'\n",
    "no_day_change = 5\n",
    "\n",
    "filepath_save = '/home/disk/sipn/mcmcgraw/data/VRILE/'\n",
    "if model_name == 'ecmwf':\n",
    "    filenames_full = glob.glob(filepath_save+'{model_name}_{model_type}_SIE_d_SIE_{d_days}day_change_lead_time*.csv'.format(model_name=model_name,\n",
    "                                                                                                                           model_type=model_type,\n",
    "                                                                                                                           d_days=no_day_change))\n",
    "    fname_test = pd.read_csv(filenames_full[0])\n",
    "    d_SIE = pd.DataFrame(columns=fname_test.columns)\n",
    "    for ifile in np.arange(0,len(filenames_full)):\n",
    "        i_ds = pd.read_csv(filenames_full[ifile])\n",
    "        if ifile == 0:\n",
    "            d_SIE = i_ds\n",
    "        else:\n",
    "            d_SIE = d_SIE.append(i_ds)\n",
    "        d_SIE = d_SIE.rename(columns={'d_SIC (V - I)':'d_SIE (V - I)'})\n",
    "#    \n",
    "else:\n",
    "    filename_full = filepath_save+'{model_name}_{model_type}_SIE_d_SIE_{d_days}day_change_lead_time_ALL_REGIONS_ALL_ENS.csv'.format(model_name=model_name,\n",
    "                       model_type=model_type,d_days=no_day_change)\n",
    "    d_SIE = pd.read_csv(filename_full)\n",
    "    #d_SIE_all = d_SIE.drop(columns='lead time (V - I)')\n",
    "d_SIE_all=  d_SIE.dropna()\n",
    "d_SIE_all.head()\n",
    "#d_SIE_all['I (init date)'].unique().tolist()"
   ]
  },
  {
   "cell_type": "markdown",
   "metadata": {},
   "source": [
    "Now load observations from NSIDC bootstrap"
   ]
  },
  {
   "cell_type": "code",
   "execution_count": 3,
   "metadata": {},
   "outputs": [],
   "source": [
    "obs_name = 'NSIDC_0079'\n",
    "obs_type = 'sipn_nc_yearly_agg'\n",
    "obs_filename = '/home/disk/sipn/mcmcgraw/data/VRILE/{model_name}_{model_type}_SIE_d_SIE_{d_days}day_change_lead_time_ALL_REGIONS_ALL_ENS.csv'.format(model_name=obs_name,\n",
    "                       model_type=obs_type,d_days=no_day_change)\n",
    "SIE_obs = pd.read_csv(obs_filename)\n",
    "SIE_obs = SIE_obs.dropna()\n",
    "#SIE_obs.tail()"
   ]
  },
  {
   "cell_type": "markdown",
   "metadata": {},
   "source": [
    "Get lists of regions and lead days from model data. "
   ]
  },
  {
   "cell_type": "code",
   "execution_count": 4,
   "metadata": {},
   "outputs": [
    {
     "name": "stdout",
     "output_type": "stream",
     "text": [
      "max lead day is  28\n"
     ]
    }
   ],
   "source": [
    "regions = d_SIE_all['region'].unique().tolist() #list unique regions\n",
    "lead_days = d_SIE_all['lead time (days)'].unique().tolist() #list lead days\n",
    "#SIE_lead_groups = d_SIE_all.groupby(['lead time (days)'])\n",
    "lead_day_choose = 28\n",
    "lead_day_sel = np.arange(0,lead_day_choose+1)\n",
    "lead_day_max = lead_day_sel[-1]\n",
    "SIE_lead_sel = d_SIE_all.loc[d_SIE_all['lead time (days)']==lead_day_max]\n",
    "SIE_model_dates = pd.to_datetime(SIE_lead_sel['V (valid date)'])\n",
    "print('max lead day is ',lead_day_max)"
   ]
  },
  {
   "cell_type": "markdown",
   "metadata": {},
   "source": [
    "Keep only observations that match dates associated with model lead times."
   ]
  },
  {
   "cell_type": "code",
   "execution_count": 5,
   "metadata": {},
   "outputs": [
    {
     "data": {
      "text/html": [
       "<div>\n",
       "<style scoped>\n",
       "    .dataframe tbody tr th:only-of-type {\n",
       "        vertical-align: middle;\n",
       "    }\n",
       "\n",
       "    .dataframe tbody tr th {\n",
       "        vertical-align: top;\n",
       "    }\n",
       "\n",
       "    .dataframe thead th {\n",
       "        text-align: right;\n",
       "    }\n",
       "</style>\n",
       "<table border=\"1\" class=\"dataframe\">\n",
       "  <thead>\n",
       "    <tr style=\"text-align: right;\">\n",
       "      <th></th>\n",
       "      <th>Unnamed: 0</th>\n",
       "      <th>V (valid date)</th>\n",
       "      <th>V_mon (valid date month)</th>\n",
       "      <th>SIE</th>\n",
       "      <th>d_SIC (V - I)</th>\n",
       "      <th>ensemble</th>\n",
       "      <th>region</th>\n",
       "    </tr>\n",
       "  </thead>\n",
       "  <tbody>\n",
       "    <tr>\n",
       "      <th>186260</th>\n",
       "      <td>10948</td>\n",
       "      <td>2018-12-25</td>\n",
       "      <td>12.0</td>\n",
       "      <td>3.074202</td>\n",
       "      <td>0.0</td>\n",
       "      <td>obs</td>\n",
       "      <td>East-Siberian-Beaufort-Chukchi</td>\n",
       "    </tr>\n",
       "    <tr>\n",
       "      <th>186261</th>\n",
       "      <td>10949</td>\n",
       "      <td>2018-12-26</td>\n",
       "      <td>12.0</td>\n",
       "      <td>3.074202</td>\n",
       "      <td>0.0</td>\n",
       "      <td>obs</td>\n",
       "      <td>East-Siberian-Beaufort-Chukchi</td>\n",
       "    </tr>\n",
       "    <tr>\n",
       "      <th>186262</th>\n",
       "      <td>10950</td>\n",
       "      <td>2018-12-27</td>\n",
       "      <td>12.0</td>\n",
       "      <td>3.074202</td>\n",
       "      <td>0.0</td>\n",
       "      <td>obs</td>\n",
       "      <td>East-Siberian-Beaufort-Chukchi</td>\n",
       "    </tr>\n",
       "    <tr>\n",
       "      <th>186263</th>\n",
       "      <td>10951</td>\n",
       "      <td>2018-12-28</td>\n",
       "      <td>12.0</td>\n",
       "      <td>3.074202</td>\n",
       "      <td>0.0</td>\n",
       "      <td>obs</td>\n",
       "      <td>East-Siberian-Beaufort-Chukchi</td>\n",
       "    </tr>\n",
       "    <tr>\n",
       "      <th>186264</th>\n",
       "      <td>10952</td>\n",
       "      <td>2018-12-29</td>\n",
       "      <td>12.0</td>\n",
       "      <td>3.074202</td>\n",
       "      <td>0.0</td>\n",
       "      <td>obs</td>\n",
       "      <td>East-Siberian-Beaufort-Chukchi</td>\n",
       "    </tr>\n",
       "  </tbody>\n",
       "</table>\n",
       "</div>"
      ],
      "text/plain": [
       "        Unnamed: 0 V (valid date)  V_mon (valid date month)       SIE  \\\n",
       "186260       10948     2018-12-25                      12.0  3.074202   \n",
       "186261       10949     2018-12-26                      12.0  3.074202   \n",
       "186262       10950     2018-12-27                      12.0  3.074202   \n",
       "186263       10951     2018-12-28                      12.0  3.074202   \n",
       "186264       10952     2018-12-29                      12.0  3.074202   \n",
       "\n",
       "        d_SIC (V - I) ensemble                          region  \n",
       "186260            0.0      obs  East-Siberian-Beaufort-Chukchi  \n",
       "186261            0.0      obs  East-Siberian-Beaufort-Chukchi  \n",
       "186262            0.0      obs  East-Siberian-Beaufort-Chukchi  \n",
       "186263            0.0      obs  East-Siberian-Beaufort-Chukchi  \n",
       "186264            0.0      obs  East-Siberian-Beaufort-Chukchi  "
      ]
     },
     "execution_count": 5,
     "metadata": {},
     "output_type": "execute_result"
    }
   ],
   "source": [
    "SIE_obs_dates = pd.to_datetime(SIE_obs['V (valid date)'])\n",
    "f_dates = SIE_obs_dates.isin(SIE_model_dates)\n",
    "##SIE_obs_trim = SIE_obs.loc[f_dates]\n",
    "f_dates = SIE_obs_dates.dt.month.isin([6,7,8,9])\n",
    "#SIE_obs_trim = SIE_obs.where(pd.to_datetime(SIE_obs['V (valid date)']).dt.month\n",
    "#SIE_obs_trim = SIE_obs[f_dates].dropna()\n",
    "SIE_obs_trim = SIE_obs\n",
    "SIE_obs_trim.tail()"
   ]
  },
  {
   "cell_type": "markdown",
   "metadata": {},
   "source": [
    "Select region"
   ]
  },
  {
   "cell_type": "code",
   "execution_count": 351,
   "metadata": {},
   "outputs": [],
   "source": [
    "region_sel = 'panArctic'\n",
    "SIE_obs_reg_groups = SIE_obs_trim.groupby(['region'])\n",
    "SIE_obs_reg = SIE_obs_reg_groups.get_group(region_sel)"
   ]
  },
  {
   "cell_type": "markdown",
   "metadata": {},
   "source": [
    "OBS VRILE time series"
   ]
  },
  {
   "cell_type": "code",
   "execution_count": 352,
   "metadata": {},
   "outputs": [
    {
     "data": {
      "text/plain": [
       "(-0.75, -0.25)"
      ]
     },
     "execution_count": 352,
     "metadata": {},
     "output_type": "execute_result"
    },
    {
     "data": {
      "image/png": "[encoded data removed]",
      "text/plain": [
       "<Figure size 432x288 with 1 Axes>"
      ]
     },
     "metadata": {
      "needs_background": "light"
     },
     "output_type": "display_data"
    }
   ],
   "source": [
    "fig1 = plt.figure(1)\n",
    "ax1 = fig1.add_axes([0,0,1,1])\n",
    "SIE_obs_reg['d_SIC (V - I)'].plot(ax=ax1)\n",
    "ax1.set_xticks(np.arange(366,len(SIE_obs_reg),720))\n",
    "yrs_vec = pd.to_datetime(SIE_obs_reg['V (valid date)']).dt.year.unique().tolist()\n",
    "ax1.set_xticklabels(yrs_vec[1::2])\n",
    "ax1.grid()\n",
    "ax1.axhline(y=SIE_obs_reg['d_SIC (V - I)'].quantile(0.05),color='k')\n",
    "ax1.set_ylim((-0.75,-0.25))"
   ]
  },
  {
   "cell_type": "markdown",
   "metadata": {},
   "source": [
    "Trim model based on region"
   ]
  },
  {
   "cell_type": "code",
   "execution_count": 353,
   "metadata": {},
   "outputs": [],
   "source": [
    "SIE_model_region = SIE_lead_sel.where(SIE_lead_sel['region']==region_sel).dropna()"
   ]
  },
  {
   "cell_type": "markdown",
   "metadata": {},
   "source": [
    "Select VRILE days for obs and model.  We'll do time period 1995-2015 for all models but ECMWF"
   ]
  },
  {
   "cell_type": "code",
   "execution_count": 354,
   "metadata": {
    "scrolled": false
   },
   "outputs": [],
   "source": [
    "pctile_choose = 0.05\n",
    "model_pctile = SIE_model_region.groupby(['ensemble']).quantile(pctile_choose)\n",
    "obs_pctile = SIE_obs_reg.quantile(pctile_choose)\n",
    "obs_VRILE = SIE_obs_reg.where(SIE_obs_reg['d_SIC (V - I)'] <= obs_pctile['d_SIC (V - I)']).dropna()\n",
    "SIE_model_ens = SIE_model_region.groupby(['ensemble'])\n",
    "iens = 3\n",
    "ens_sel = iens\n",
    "model_ens = SIE_model_ens.get_group(ens_sel)\n",
    "model_VRILE_ens = model_ens.where(model_VRILE_ens['d_SIE (V - I)']<=model_pctile['d_SIE (V - I)'].loc[iens]).dropna()"
   ]
  },
  {
   "cell_type": "code",
   "execution_count": 355,
   "metadata": {},
   "outputs": [],
   "source": [
    "year_min = 1995\n",
    "year_max = 2015\n",
    "\n",
    "model_SIE_min = model_ens.groupby(pd.to_datetime(model_ens['V (valid date)']).dt.year).min()\n",
    "model_SIE_min = model_SIE_min.loc[year_min:year_max]\n",
    "obs_SIE_min = SIE_obs_reg.groupby(pd.to_datetime(SIE_obs_reg['V (valid date)']).dt.year).min()\n",
    "obs_SIE_min = obs_SIE_min.loc[year_min:year_max]"
   ]
  },
  {
   "cell_type": "markdown",
   "metadata": {},
   "source": [
    "Create a dataframe with modeled and observed SIE and see how well they correspond"
   ]
  },
  {
   "cell_type": "code",
   "execution_count": 356,
   "metadata": {},
   "outputs": [],
   "source": [
    "model_vs_obs_SIE_min = pd.concat([model_SIE_min['SIE'],obs_SIE_min['SIE']],axis=1)\n",
    "model_vs_obs_SIE_min.columns = [\"model SIE\",\"obs SIE\"]"
   ]
  },
  {
   "cell_type": "code",
   "execution_count": 357,
   "metadata": {},
   "outputs": [
    {
     "data": {
      "text/plain": [
       "Text(0.5, 1.0, 'Model vs Obs Minimum Annual SIE (10$^6$ km$^2$), panArctic, ukmo')"
      ]
     },
     "execution_count": 357,
     "metadata": {},
     "output_type": "execute_result"
    },
    {
     "data": {
      "image/png": "[encoded data removed]",
      "text/plain": [
       "<Figure size 432x288 with 1 Axes>"
      ]
     },
     "metadata": {
      "needs_background": "light"
     },
     "output_type": "display_data"
    }
   ],
   "source": [
    "fig1 = plt.figure(1)\n",
    "ax1 = fig1.add_axes([0,0,1,1])\n",
    "model_vs_obs_SIE_min.plot(ax=ax1,linewidth=3,marker='o')\n",
    "ax1.set_xticks(np.arange(year_min,year_max+1))\n",
    "ax1.set_xticklabels(np.arange(year_min,year_max+1),rotation=45,fontsize=12)\n",
    "ax1.grid()\n",
    "ax1.set_xlim((1994.5,2015.5))\n",
    "ax1.set_xlabel('Year',fontsize=14)\n",
    "ax1.set_ylabel('Minimum Annual Sea Ice Extent (10$^6$ km$^2$)',fontsize=12)\n",
    "ax1.set_title('Model vs Obs Minimum Annual SIE (10$^6$ km$^2$), {region}, {model_name}'.format(region=region_sel,\n",
    "                                                                                              model_name=model_name))"
   ]
  },
  {
   "cell_type": "code",
   "execution_count": 358,
   "metadata": {},
   "outputs": [
    {
     "data": {
      "text/plain": [
       "Text(0.5, 1.0, 'Bias (Obs - Model) Minimum Annual SIE (10$^6$ km$^2$), panArctic, ukmo')"
      ]
     },
     "execution_count": 358,
     "metadata": {},
     "output_type": "execute_result"
    },
    {
     "data": {
      "image/png": "[encoded data removed]",
      "text/plain": [
       "<Figure size 432x288 with 1 Axes>"
      ]
     },
     "metadata": {
      "needs_background": "light"
     },
     "output_type": "display_data"
    }
   ],
   "source": [
    "fig2 = plt.figure(2)\n",
    "ax2 = fig2.add_axes([0,0,1,1])\n",
    "obs_minus_model = model_vs_obs_SIE_min['obs SIE'] - model_vs_obs_SIE_min['model SIE']\n",
    "obs_minus_model.plot(ax=ax2,linewidth=3,marker='o')\n",
    "ax2.set_xticks(np.arange(year_min,year_max+1))\n",
    "ax2.set_xticklabels(np.arange(year_min,year_max+1),rotation=45,fontsize=12)\n",
    "ax2.grid()\n",
    "ax2.set_xlim((1994.5,2015.5))\n",
    "ax2.set_xlabel('Year',fontsize=14)\n",
    "ax2.set_ylabel('Minimum Annual Sea Ice Extent (10$^6$ km$^2$)',fontsize=12)\n",
    "ax2.set_title('Bias (Obs - Model) Minimum Annual SIE (10$^6$ km$^2$), {region}, {model_name}'.format(region=region_sel,\n",
    "                                                                                              model_name=model_name))"
   ]
  },
  {
   "cell_type": "code",
   "execution_count": 359,
   "metadata": {},
   "outputs": [
    {
     "data": {
      "text/plain": [
       "Text(0.5, 1.0, 'Model vs Obs Min. Annual Sea Ice Extent (10$^6$ km$^2$)')"
      ]
     },
     "execution_count": 359,
     "metadata": {},
     "output_type": "execute_result"
    },
    {
     "data": {
      "image/png": "[encoded data removed]",
      "text/plain": [
       "<Figure size 432x288 with 1 Axes>"
      ]
     },
     "metadata": {
      "needs_background": "light"
     },
     "output_type": "display_data"
    }
   ],
   "source": [
    "model_vs_obs_SIE_min['bias (obs - model)'] = obs_minus_model\n",
    "fig3 = plt.figure(3)\n",
    "ax3 = fig3.add_axes([0,0,1,1])\n",
    "ax3.scatter(x=model_vs_obs_SIE_min['model SIE'],y=model_vs_obs_SIE_min['obs SIE'])\n",
    "R_init = model_vs_obs_SIE_min.corr()\n",
    "ax3.text(0.2+min(model_vs_obs_SIE_min['model SIE']),4*min(model_vs_obs_SIE_min['obs SIE']),('R = ',np.round(R_init.loc['obs SIE','model SIE'],3)),fontsize=13)\n",
    "ax3.set_xlabel('Model Minimum Annual Sea Ice Extent (10$^6$ km$^2$)',fontsize=13)\n",
    "ax3.set_ylabel('Obs Minimum Annual Sea Ice Extent (10$^6$ km$^2$)',fontsize=12)\n",
    "ax3.grid()\n",
    "ax3.set_title('Model vs Obs Min. Annual Sea Ice Extent (10$^6$ km$^2$)',fontsize=13)"
   ]
  },
  {
   "cell_type": "markdown",
   "metadata": {},
   "source": [
    "Calculate correlation between model and obs SIE using <code>sklearn</code>'s <code>LeaveOneOut</code> approach.  In this way, we make sure our overall <code>R$^2$</code> value isn't overly sensitive to a single data point.  Since we only have one data point per year, we can do <code>LeaveOneOut</code> instead of <code>k-folds</code> or something coarser. "
   ]
  },
  {
   "cell_type": "code",
   "execution_count": 360,
   "metadata": {},
   "outputs": [],
   "source": [
    "from sklearn.linear_model import LinearRegression \n",
    "from sklearn.model_selection import train_test_split, cross_val_score, LeaveOneOut  \n",
    "from sklearn import metrics\n",
    "loo = LeaveOneOut()\n",
    "#Leave one out--we need n_folds = n_samples (this is ok because we only have one sample per year) \n",
    "loo.get_n_splits(model_vs_obs_SIE_min)\n",
    "X = model_vs_obs_SIE_min['model SIE']\n",
    "Y = model_vs_obs_SIE_min['obs SIE']\n",
    "y_predicted = []\n",
    "y_test_vals = []\n",
    "corr_coef = np.empty([])\n",
    "#ones for correlation\n",
    "ones_ind = pd.Series(np.ones(len(X)-1))\n",
    "ones_ind_test = pd.Series(1)\n",
    "for train_index, test_index in loo.split(X):\n",
    "    #print('TRAIN:', train_index,'TEST:',test_index)\n",
    "    X_train, X_test = X.iloc[train_index], X.iloc[test_index]\n",
    "    y_train, y_test = Y.iloc[train_index], Y.iloc[test_index]\n",
    "    #\n",
    "    ones_ind.index =  X_train.index\n",
    "    ones_ind_test.index = X_test.index\n",
    "    X_train = pd.concat([X_train,ones_ind],axis=1).dropna()\n",
    "    X_test = pd.concat([X_test,ones_ind_test],axis=1)\n",
    "    #print(X_train, X_test, y_train, y_test)\n",
    "    model = LinearRegression()\n",
    "    model.fit(X = X_train, y = y_train)\n",
    "    y_pred = model.predict(X_test)\n",
    "    y_predicted += list(y_pred)\n",
    "    y_test_vals += list(y_test)\n",
    "    #correlation\n",
    "    corr_vals = np.corrcoef(y_train,X_train.iloc[:,0])\n",
    "    corr_coef = np.append(corr_coef,corr_vals[0,1])"
   ]
  },
  {
   "cell_type": "code",
   "execution_count": 361,
   "metadata": {},
   "outputs": [
    {
     "name": "stdout",
     "output_type": "stream",
     "text": [
      "R^2:  0.8633922362335835\n",
      "MSE:  0.1383649964743088\n",
      "straight corr:  0.8926831064652161\n"
     ]
    }
   ],
   "source": [
    "r2 = metrics.r2_score(y_test_vals, y_predicted)\n",
    "ms_error = metrics.mean_squared_error(y_test_vals,y_predicted)\n",
    "print('R^2: ',r2)\n",
    "print('MSE: ',ms_error)\n",
    "print('straight corr: ',np.mean(corr_coef[1::]**2))"
   ]
  },
  {
   "cell_type": "code",
   "execution_count": 362,
   "metadata": {},
   "outputs": [
    {
     "data": {
      "text/plain": [
       "Text(0.5, 1.0, 'Predicted Minimum SIE vs Actual, Leave One Out')"
      ]
     },
     "execution_count": 362,
     "metadata": {},
     "output_type": "execute_result"
    },
    {
     "data": {
      "image/png": "[encoded data removed]",
      "text/plain": [
       "<Figure size 432x288 with 1 Axes>"
      ]
     },
     "metadata": {
      "needs_background": "light"
     },
     "output_type": "display_data"
    }
   ],
   "source": [
    "fig4 = plt.figure(4)\n",
    "ax4 = fig4.add_axes([0,0,1,1])\n",
    "ax4.plot(X.index,y_test_vals,linewidth=3,color='xkcd:salmon',label='actual',marker='o')\n",
    "ax4.plot(X.index,y_predicted,'r',linewidth=3,color='xkcd:turquoise',label='predicted',marker='o')\n",
    "ax4.legend(fontsize=12)\n",
    "ax4.set_xticks(X.index)\n",
    "ax4.set_xticklabels(X.index,fontsize=11,rotation=30)\n",
    "ax4.grid()\n",
    "ax4.set_xlabel('Year',fontsize=15)\n",
    "ax4.set_ylabel('Annual Minimum Sea Ice Extent (10$^6$ km$^2$)',fontsize=13)\n",
    "ax4.set_title('Predicted Minimum SIE vs Actual, Leave One Out',fontsize=13)"
   ]
  },
  {
   "cell_type": "code",
   "execution_count": 381,
   "metadata": {},
   "outputs": [],
   "source": [
    "fart = pd.DataFrame(index=X.index,columns={'fooA','fooB'})\n",
    "R2_vs_ens = pd.DataFrame(index=X.index,columns={'R2','ensemble','region'})"
   ]
  },
  {
   "cell_type": "code",
   "execution_count": 382,
   "metadata": {},
   "outputs": [
    {
     "data": {
      "text/html": [
       "<div>\n",
       "<style scoped>\n",
       "    .dataframe tbody tr th:only-of-type {\n",
       "        vertical-align: middle;\n",
       "    }\n",
       "\n",
       "    .dataframe tbody tr th {\n",
       "        vertical-align: top;\n",
       "    }\n",
       "\n",
       "    .dataframe thead th {\n",
       "        text-align: right;\n",
       "    }\n",
       "</style>\n",
       "<table border=\"1\" class=\"dataframe\">\n",
       "  <thead>\n",
       "    <tr style=\"text-align: right;\">\n",
       "      <th></th>\n",
       "      <th>R2</th>\n",
       "      <th>region</th>\n",
       "      <th>ensemble</th>\n",
       "    </tr>\n",
       "    <tr>\n",
       "      <th>V (valid date)</th>\n",
       "      <th></th>\n",
       "      <th></th>\n",
       "      <th></th>\n",
       "    </tr>\n",
       "  </thead>\n",
       "  <tbody>\n",
       "    <tr>\n",
       "      <th>1995</th>\n",
       "      <td>NaN</td>\n",
       "      <td>NaN</td>\n",
       "      <td>NaN</td>\n",
       "    </tr>\n",
       "    <tr>\n",
       "      <th>1996</th>\n",
       "      <td>NaN</td>\n",
       "      <td>NaN</td>\n",
       "      <td>NaN</td>\n",
       "    </tr>\n",
       "    <tr>\n",
       "      <th>1997</th>\n",
       "      <td>NaN</td>\n",
       "      <td>NaN</td>\n",
       "      <td>NaN</td>\n",
       "    </tr>\n",
       "    <tr>\n",
       "      <th>1998</th>\n",
       "      <td>NaN</td>\n",
       "      <td>NaN</td>\n",
       "      <td>NaN</td>\n",
       "    </tr>\n",
       "    <tr>\n",
       "      <th>1999</th>\n",
       "      <td>NaN</td>\n",
       "      <td>NaN</td>\n",
       "      <td>NaN</td>\n",
       "    </tr>\n",
       "    <tr>\n",
       "      <th>2000</th>\n",
       "      <td>NaN</td>\n",
       "      <td>NaN</td>\n",
       "      <td>NaN</td>\n",
       "    </tr>\n",
       "    <tr>\n",
       "      <th>2001</th>\n",
       "      <td>NaN</td>\n",
       "      <td>NaN</td>\n",
       "      <td>NaN</td>\n",
       "    </tr>\n",
       "    <tr>\n",
       "      <th>2002</th>\n",
       "      <td>NaN</td>\n",
       "      <td>NaN</td>\n",
       "      <td>NaN</td>\n",
       "    </tr>\n",
       "    <tr>\n",
       "      <th>2003</th>\n",
       "      <td>NaN</td>\n",
       "      <td>NaN</td>\n",
       "      <td>NaN</td>\n",
       "    </tr>\n",
       "    <tr>\n",
       "      <th>2004</th>\n",
       "      <td>NaN</td>\n",
       "      <td>NaN</td>\n",
       "      <td>NaN</td>\n",
       "    </tr>\n",
       "    <tr>\n",
       "      <th>2005</th>\n",
       "      <td>NaN</td>\n",
       "      <td>NaN</td>\n",
       "      <td>NaN</td>\n",
       "    </tr>\n",
       "    <tr>\n",
       "      <th>2006</th>\n",
       "      <td>NaN</td>\n",
       "      <td>NaN</td>\n",
       "      <td>NaN</td>\n",
       "    </tr>\n",
       "    <tr>\n",
       "      <th>2007</th>\n",
       "      <td>NaN</td>\n",
       "      <td>NaN</td>\n",
       "      <td>NaN</td>\n",
       "    </tr>\n",
       "    <tr>\n",
       "      <th>2008</th>\n",
       "      <td>NaN</td>\n",
       "      <td>NaN</td>\n",
       "      <td>NaN</td>\n",
       "    </tr>\n",
       "    <tr>\n",
       "      <th>2009</th>\n",
       "      <td>NaN</td>\n",
       "      <td>NaN</td>\n",
       "      <td>NaN</td>\n",
       "    </tr>\n",
       "    <tr>\n",
       "      <th>2010</th>\n",
       "      <td>NaN</td>\n",
       "      <td>NaN</td>\n",
       "      <td>NaN</td>\n",
       "    </tr>\n",
       "    <tr>\n",
       "      <th>2011</th>\n",
       "      <td>NaN</td>\n",
       "      <td>NaN</td>\n",
       "      <td>NaN</td>\n",
       "    </tr>\n",
       "    <tr>\n",
       "      <th>2012</th>\n",
       "      <td>NaN</td>\n",
       "      <td>NaN</td>\n",
       "      <td>NaN</td>\n",
       "    </tr>\n",
       "    <tr>\n",
       "      <th>2013</th>\n",
       "      <td>NaN</td>\n",
       "      <td>NaN</td>\n",
       "      <td>NaN</td>\n",
       "    </tr>\n",
       "    <tr>\n",
       "      <th>2014</th>\n",
       "      <td>NaN</td>\n",
       "      <td>NaN</td>\n",
       "      <td>NaN</td>\n",
       "    </tr>\n",
       "    <tr>\n",
       "      <th>2015</th>\n",
       "      <td>NaN</td>\n",
       "      <td>NaN</td>\n",
       "      <td>NaN</td>\n",
       "    </tr>\n",
       "  </tbody>\n",
       "</table>\n",
       "</div>"
      ],
      "text/plain": [
       "                 R2 region ensemble\n",
       "V (valid date)                     \n",
       "1995            NaN    NaN      NaN\n",
       "1996            NaN    NaN      NaN\n",
       "1997            NaN    NaN      NaN\n",
       "1998            NaN    NaN      NaN\n",
       "1999            NaN    NaN      NaN\n",
       "2000            NaN    NaN      NaN\n",
       "2001            NaN    NaN      NaN\n",
       "2002            NaN    NaN      NaN\n",
       "2003            NaN    NaN      NaN\n",
       "2004            NaN    NaN      NaN\n",
       "2005            NaN    NaN      NaN\n",
       "2006            NaN    NaN      NaN\n",
       "2007            NaN    NaN      NaN\n",
       "2008            NaN    NaN      NaN\n",
       "2009            NaN    NaN      NaN\n",
       "2010            NaN    NaN      NaN\n",
       "2011            NaN    NaN      NaN\n",
       "2012            NaN    NaN      NaN\n",
       "2013            NaN    NaN      NaN\n",
       "2014            NaN    NaN      NaN\n",
       "2015            NaN    NaN      NaN"
      ]
     },
     "execution_count": 382,
     "metadata": {},
     "output_type": "execute_result"
    }
   ],
   "source": [
    "R2_vs_ens"
   ]
  },
  {
   "cell_type": "code",
   "execution_count": 383,
   "metadata": {},
   "outputs": [
    {
     "data": {
      "text/html": [
       "<div>\n",
       "<style scoped>\n",
       "    .dataframe tbody tr th:only-of-type {\n",
       "        vertical-align: middle;\n",
       "    }\n",
       "\n",
       "    .dataframe tbody tr th {\n",
       "        vertical-align: top;\n",
       "    }\n",
       "\n",
       "    .dataframe thead th {\n",
       "        text-align: right;\n",
       "    }\n",
       "</style>\n",
       "<table border=\"1\" class=\"dataframe\">\n",
       "  <thead>\n",
       "    <tr style=\"text-align: right;\">\n",
       "      <th></th>\n",
       "      <th>R2</th>\n",
       "      <th>region</th>\n",
       "      <th>ensemble</th>\n",
       "    </tr>\n",
       "    <tr>\n",
       "      <th>V (valid date)</th>\n",
       "      <th></th>\n",
       "      <th></th>\n",
       "      <th></th>\n",
       "    </tr>\n",
       "  </thead>\n",
       "  <tbody>\n",
       "    <tr>\n",
       "      <th>1995</th>\n",
       "      <td>0.863392</td>\n",
       "      <td>panArctic</td>\n",
       "      <td>3</td>\n",
       "    </tr>\n",
       "    <tr>\n",
       "      <th>1996</th>\n",
       "      <td>0.863392</td>\n",
       "      <td>panArctic</td>\n",
       "      <td>3</td>\n",
       "    </tr>\n",
       "    <tr>\n",
       "      <th>1997</th>\n",
       "      <td>0.863392</td>\n",
       "      <td>panArctic</td>\n",
       "      <td>3</td>\n",
       "    </tr>\n",
       "    <tr>\n",
       "      <th>1998</th>\n",
       "      <td>0.863392</td>\n",
       "      <td>panArctic</td>\n",
       "      <td>3</td>\n",
       "    </tr>\n",
       "    <tr>\n",
       "      <th>1999</th>\n",
       "      <td>0.863392</td>\n",
       "      <td>panArctic</td>\n",
       "      <td>3</td>\n",
       "    </tr>\n",
       "    <tr>\n",
       "      <th>2000</th>\n",
       "      <td>0.863392</td>\n",
       "      <td>panArctic</td>\n",
       "      <td>3</td>\n",
       "    </tr>\n",
       "    <tr>\n",
       "      <th>2001</th>\n",
       "      <td>0.863392</td>\n",
       "      <td>panArctic</td>\n",
       "      <td>3</td>\n",
       "    </tr>\n",
       "    <tr>\n",
       "      <th>2002</th>\n",
       "      <td>0.863392</td>\n",
       "      <td>panArctic</td>\n",
       "      <td>3</td>\n",
       "    </tr>\n",
       "    <tr>\n",
       "      <th>2003</th>\n",
       "      <td>0.863392</td>\n",
       "      <td>panArctic</td>\n",
       "      <td>3</td>\n",
       "    </tr>\n",
       "    <tr>\n",
       "      <th>2004</th>\n",
       "      <td>0.863392</td>\n",
       "      <td>panArctic</td>\n",
       "      <td>3</td>\n",
       "    </tr>\n",
       "    <tr>\n",
       "      <th>2005</th>\n",
       "      <td>0.863392</td>\n",
       "      <td>panArctic</td>\n",
       "      <td>3</td>\n",
       "    </tr>\n",
       "    <tr>\n",
       "      <th>2006</th>\n",
       "      <td>0.863392</td>\n",
       "      <td>panArctic</td>\n",
       "      <td>3</td>\n",
       "    </tr>\n",
       "    <tr>\n",
       "      <th>2007</th>\n",
       "      <td>0.863392</td>\n",
       "      <td>panArctic</td>\n",
       "      <td>3</td>\n",
       "    </tr>\n",
       "    <tr>\n",
       "      <th>2008</th>\n",
       "      <td>0.863392</td>\n",
       "      <td>panArctic</td>\n",
       "      <td>3</td>\n",
       "    </tr>\n",
       "    <tr>\n",
       "      <th>2009</th>\n",
       "      <td>0.863392</td>\n",
       "      <td>panArctic</td>\n",
       "      <td>3</td>\n",
       "    </tr>\n",
       "    <tr>\n",
       "      <th>2010</th>\n",
       "      <td>0.863392</td>\n",
       "      <td>panArctic</td>\n",
       "      <td>3</td>\n",
       "    </tr>\n",
       "    <tr>\n",
       "      <th>2011</th>\n",
       "      <td>0.863392</td>\n",
       "      <td>panArctic</td>\n",
       "      <td>3</td>\n",
       "    </tr>\n",
       "    <tr>\n",
       "      <th>2012</th>\n",
       "      <td>0.863392</td>\n",
       "      <td>panArctic</td>\n",
       "      <td>3</td>\n",
       "    </tr>\n",
       "    <tr>\n",
       "      <th>2013</th>\n",
       "      <td>0.863392</td>\n",
       "      <td>panArctic</td>\n",
       "      <td>3</td>\n",
       "    </tr>\n",
       "    <tr>\n",
       "      <th>2014</th>\n",
       "      <td>0.863392</td>\n",
       "      <td>panArctic</td>\n",
       "      <td>3</td>\n",
       "    </tr>\n",
       "    <tr>\n",
       "      <th>2015</th>\n",
       "      <td>0.863392</td>\n",
       "      <td>panArctic</td>\n",
       "      <td>3</td>\n",
       "    </tr>\n",
       "  </tbody>\n",
       "</table>\n",
       "</div>"
      ],
      "text/plain": [
       "                      R2     region  ensemble\n",
       "V (valid date)                               \n",
       "1995            0.863392  panArctic         3\n",
       "1996            0.863392  panArctic         3\n",
       "1997            0.863392  panArctic         3\n",
       "1998            0.863392  panArctic         3\n",
       "1999            0.863392  panArctic         3\n",
       "2000            0.863392  panArctic         3\n",
       "2001            0.863392  panArctic         3\n",
       "2002            0.863392  panArctic         3\n",
       "2003            0.863392  panArctic         3\n",
       "2004            0.863392  panArctic         3\n",
       "2005            0.863392  panArctic         3\n",
       "2006            0.863392  panArctic         3\n",
       "2007            0.863392  panArctic         3\n",
       "2008            0.863392  panArctic         3\n",
       "2009            0.863392  panArctic         3\n",
       "2010            0.863392  panArctic         3\n",
       "2011            0.863392  panArctic         3\n",
       "2012            0.863392  panArctic         3\n",
       "2013            0.863392  panArctic         3\n",
       "2014            0.863392  panArctic         3\n",
       "2015            0.863392  panArctic         3"
      ]
     },
     "execution_count": 383,
     "metadata": {},
     "output_type": "execute_result"
    }
   ],
   "source": [
    "R2_vs_ens['R2'] = r2\n",
    "R2_vs_ens['ensemble'] = iens\n",
    "R2_vs_ens['region'] = region_sel\n",
    "R2_vs_ens"
   ]
  },
  {
   "cell_type": "code",
   "execution_count": null,
   "metadata": {},
   "outputs": [],
   "source": []
  }
 ],
 "metadata": {
  "kernelspec": {
   "display_name": "Python 3",
   "language": "python",
   "name": "python3"
  },
  "language_info": {
   "codemirror_mode": {
    "name": "ipython",
    "version": 3
   },
   "file_extension": ".py",
   "mimetype": "text/x-python",
   "name": "python",
   "nbconvert_exporter": "python",
   "pygments_lexer": "ipython3",
   "version": "3.7.3"
  }
 },
 "nbformat": 4,
 "nbformat_minor": 2
}
