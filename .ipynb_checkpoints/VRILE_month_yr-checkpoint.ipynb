{
 "cells": [
  {
   "cell_type": "code",
   "execution_count": 1,
   "metadata": {},
   "outputs": [
    {
     "name": "stderr",
     "output_type": "stream",
     "text": [
      "/home/disk/sipn/mcmcgraw/anaconda3/lib/python3.7/site-packages/dask/config.py:168: YAMLLoadWarning: calling yaml.load() without Loader=... is deprecated, as the default Loader is unsafe. Please read https://msg.pyyaml.org/load for full details.\n",
      "  data = yaml.load(f.read()) or {}\n",
      "/home/disk/sipn/mcmcgraw/anaconda3/lib/python3.7/site-packages/distributed/config.py:20: YAMLLoadWarning: calling yaml.load() without Loader=... is deprecated, as the default Loader is unsafe. Please read https://msg.pyyaml.org/load for full details.\n",
      "  defaults = yaml.load(f)\n"
     ]
    }
   ],
   "source": [
    "import xarray as xr\n",
    "import numpy as np\n",
    "import os\n",
    "import matplotlib.pyplot as plt\n",
    "import pandas as pd\n",
    "import datetime\n",
    "from datetime import datetime, timedelta\n",
    "import glob"
   ]
  },
  {
   "cell_type": "markdown",
   "metadata": {},
   "source": [
    "Load reforecasts "
   ]
  },
  {
   "cell_type": "code",
   "execution_count": 2,
   "metadata": {},
   "outputs": [
    {
     "data": {
      "text/html": [
       "<div>\n",
       "<style scoped>\n",
       "    .dataframe tbody tr th:only-of-type {\n",
       "        vertical-align: middle;\n",
       "    }\n",
       "\n",
       "    .dataframe tbody tr th {\n",
       "        vertical-align: top;\n",
       "    }\n",
       "\n",
       "    .dataframe thead th {\n",
       "        text-align: right;\n",
       "    }\n",
       "</style>\n",
       "<table border=\"1\" class=\"dataframe\">\n",
       "  <thead>\n",
       "    <tr style=\"text-align: right;\">\n",
       "      <th></th>\n",
       "      <th>Unnamed: 0</th>\n",
       "      <th>I (init date)</th>\n",
       "      <th>V (valid date)</th>\n",
       "      <th>V_mon (valid date month)</th>\n",
       "      <th>SIE</th>\n",
       "      <th>lead time (days)</th>\n",
       "      <th>d_SIC (V - I)</th>\n",
       "      <th>ensemble</th>\n",
       "      <th>region</th>\n",
       "    </tr>\n",
       "  </thead>\n",
       "  <tbody>\n",
       "    <tr>\n",
       "      <th>0</th>\n",
       "      <td>0</td>\n",
       "      <td>1998-08-06</td>\n",
       "      <td>1998-08-08 00:00:00</td>\n",
       "      <td>8.0</td>\n",
       "      <td>6.914884</td>\n",
       "      <td>2.0</td>\n",
       "      <td>-0.206964</td>\n",
       "      <td>1.0</td>\n",
       "      <td>panArctic</td>\n",
       "    </tr>\n",
       "    <tr>\n",
       "      <th>1</th>\n",
       "      <td>0</td>\n",
       "      <td>1998-08-06</td>\n",
       "      <td>1998-08-09 00:00:00</td>\n",
       "      <td>8.0</td>\n",
       "      <td>6.914457</td>\n",
       "      <td>3.0</td>\n",
       "      <td>-0.182942</td>\n",
       "      <td>1.0</td>\n",
       "      <td>panArctic</td>\n",
       "    </tr>\n",
       "    <tr>\n",
       "      <th>2</th>\n",
       "      <td>0</td>\n",
       "      <td>1998-08-06</td>\n",
       "      <td>1998-08-10 00:00:00</td>\n",
       "      <td>8.0</td>\n",
       "      <td>6.815474</td>\n",
       "      <td>4.0</td>\n",
       "      <td>-0.166975</td>\n",
       "      <td>1.0</td>\n",
       "      <td>panArctic</td>\n",
       "    </tr>\n",
       "    <tr>\n",
       "      <th>3</th>\n",
       "      <td>0</td>\n",
       "      <td>1998-08-06</td>\n",
       "      <td>1998-08-11 00:00:00</td>\n",
       "      <td>8.0</td>\n",
       "      <td>6.767335</td>\n",
       "      <td>5.0</td>\n",
       "      <td>-0.197230</td>\n",
       "      <td>1.0</td>\n",
       "      <td>panArctic</td>\n",
       "    </tr>\n",
       "    <tr>\n",
       "      <th>4</th>\n",
       "      <td>0</td>\n",
       "      <td>1998-08-06</td>\n",
       "      <td>1998-08-12 00:00:00</td>\n",
       "      <td>8.0</td>\n",
       "      <td>6.747910</td>\n",
       "      <td>6.0</td>\n",
       "      <td>-0.151184</td>\n",
       "      <td>1.0</td>\n",
       "      <td>panArctic</td>\n",
       "    </tr>\n",
       "  </tbody>\n",
       "</table>\n",
       "</div>"
      ],
      "text/plain": [
       "   Unnamed: 0 I (init date)       V (valid date)  V_mon (valid date month)  \\\n",
       "0           0    1998-08-06  1998-08-08 00:00:00                       8.0   \n",
       "1           0    1998-08-06  1998-08-09 00:00:00                       8.0   \n",
       "2           0    1998-08-06  1998-08-10 00:00:00                       8.0   \n",
       "3           0    1998-08-06  1998-08-11 00:00:00                       8.0   \n",
       "4           0    1998-08-06  1998-08-12 00:00:00                       8.0   \n",
       "\n",
       "        SIE  lead time (days)  d_SIC (V - I)  ensemble     region  \n",
       "0  6.914884               2.0      -0.206964       1.0  panArctic  \n",
       "1  6.914457               3.0      -0.182942       1.0  panArctic  \n",
       "2  6.815474               4.0      -0.166975       1.0  panArctic  \n",
       "3  6.767335               5.0      -0.197230       1.0  panArctic  \n",
       "4  6.747910               6.0      -0.151184       1.0  panArctic  "
      ]
     },
     "execution_count": 2,
     "metadata": {},
     "output_type": "execute_result"
    }
   ],
   "source": [
    "model_name = 'ecmwf'\n",
    "#model_name = 'ukmo'\n",
    "model_type = 'reforecast'\n",
    "no_day_change = 5\n",
    "\n",
    "filepath_save = '/home/disk/sipn/mcmcgraw/data/VRILE/'\n",
    "if model_name == 'ecmwf':\n",
    "    filenames_full = glob.glob(filepath_save+'{model_name}_{model_type}_SIE_d_SIE_{d_days}day_change_lead_time*.csv'.format(model_name=model_name,\n",
    "                                                                                                                           model_type=model_type,\n",
    "                                                                                                                           d_days=no_day_change))\n",
    "    fname_test = pd.read_csv(filenames_full[0])\n",
    "    d_SIE = pd.DataFrame(columns=fname_test.columns)\n",
    "    for ifile in np.arange(0,len(filenames_full)):\n",
    "        i_ds = pd.read_csv(filenames_full[ifile])\n",
    "        if ifile == 0:\n",
    "            d_SIE = i_ds\n",
    "        else:\n",
    "            d_SIE = d_SIE.append(i_ds)\n",
    "#    \n",
    "else:\n",
    "    filename_full = filepath_save+'{model_name}_{model_type}_SIE_d_SIE_{d_days}day_change_lead_time_ALL_REGIONS_ALL_ENS.csv'.format(model_name=model_name,\n",
    "                       model_type=model_type,d_days=no_day_change)\n",
    "    d_SIE = pd.read_csv(filename_full)\n",
    "    #d_SIE_all = d_SIE.drop(columns='lead time (V - I)')\n",
    "d_SIE_all=  d_SIE.dropna()\n",
    "d_SIE_all.head()\n",
    "#d_SIE_all['I (init date)'].unique().tolist()"
   ]
  },
  {
   "cell_type": "markdown",
   "metadata": {},
   "source": [
    "Now load observations from NSIDC bootstrap"
   ]
  },
  {
   "cell_type": "code",
   "execution_count": 3,
   "metadata": {},
   "outputs": [],
   "source": [
    "obs_name = 'NSIDC_0079'\n",
    "obs_type = 'sipn_nc_yearly_agg'\n",
    "obs_filename = '/home/disk/sipn/mcmcgraw/data/VRILE/{model_name}_{model_type}_SIE_d_SIE_{d_days}day_change_lead_time_ALL_REGIONS_ALL_ENS.csv'.format(model_name=obs_name,\n",
    "                       model_type=obs_type,d_days=no_day_change)\n",
    "SIE_obs = pd.read_csv(obs_filename)\n",
    "SIE_obs = SIE_obs.dropna()\n",
    "#SIE_obs.tail()"
   ]
  },
  {
   "cell_type": "markdown",
   "metadata": {},
   "source": [
    "Get lists of regions and lead days from model data. "
   ]
  },
  {
   "cell_type": "code",
   "execution_count": 4,
   "metadata": {},
   "outputs": [],
   "source": [
    "regions = d_SIE_all['region'].unique().tolist() #list unique regions\n",
    "lead_days = d_SIE_all['lead time (days)'].unique().tolist() #list lead days"
   ]
  },
  {
   "cell_type": "code",
   "execution_count": 5,
   "metadata": {},
   "outputs": [
    {
     "name": "stdout",
     "output_type": "stream",
     "text": [
      "max lead day is  28\n"
     ]
    }
   ],
   "source": [
    "#SIE_lead_groups = d_SIE_all.groupby(['lead time (days)'])\n",
    "lead_day_choose = 28\n",
    "lead_day_sel = np.arange(0,lead_day_choose+1)\n",
    "lead_day_max = lead_day_sel[-1]\n",
    "SIE_lead_sel = d_SIE_all.loc[d_SIE_all['lead time (days)']==lead_day_max]\n",
    "SIE_model_dates = pd.to_datetime(SIE_lead_sel['V (valid date)'])\n",
    "print('max lead day is ',lead_day_max)"
   ]
  },
  {
   "cell_type": "markdown",
   "metadata": {},
   "source": [
    "Keep only observations that match dates associated with model lead times.  "
   ]
  },
  {
   "cell_type": "code",
   "execution_count": 6,
   "metadata": {},
   "outputs": [
    {
     "data": {
      "text/html": [
       "<div>\n",
       "<style scoped>\n",
       "    .dataframe tbody tr th:only-of-type {\n",
       "        vertical-align: middle;\n",
       "    }\n",
       "\n",
       "    .dataframe tbody tr th {\n",
       "        vertical-align: top;\n",
       "    }\n",
       "\n",
       "    .dataframe thead th {\n",
       "        text-align: right;\n",
       "    }\n",
       "</style>\n",
       "<table border=\"1\" class=\"dataframe\">\n",
       "  <thead>\n",
       "    <tr style=\"text-align: right;\">\n",
       "      <th></th>\n",
       "      <th>Unnamed: 0</th>\n",
       "      <th>V (valid date)</th>\n",
       "      <th>V_mon (valid date month)</th>\n",
       "      <th>SIE</th>\n",
       "      <th>d_SIC (V - I)</th>\n",
       "      <th>ensemble</th>\n",
       "      <th>region</th>\n",
       "    </tr>\n",
       "  </thead>\n",
       "  <tbody>\n",
       "    <tr>\n",
       "      <th>186260</th>\n",
       "      <td>10948</td>\n",
       "      <td>2018-12-25</td>\n",
       "      <td>12.0</td>\n",
       "      <td>3.074202</td>\n",
       "      <td>0.0</td>\n",
       "      <td>obs</td>\n",
       "      <td>East-Siberian-Beaufort-Chukchi</td>\n",
       "    </tr>\n",
       "    <tr>\n",
       "      <th>186261</th>\n",
       "      <td>10949</td>\n",
       "      <td>2018-12-26</td>\n",
       "      <td>12.0</td>\n",
       "      <td>3.074202</td>\n",
       "      <td>0.0</td>\n",
       "      <td>obs</td>\n",
       "      <td>East-Siberian-Beaufort-Chukchi</td>\n",
       "    </tr>\n",
       "    <tr>\n",
       "      <th>186262</th>\n",
       "      <td>10950</td>\n",
       "      <td>2018-12-27</td>\n",
       "      <td>12.0</td>\n",
       "      <td>3.074202</td>\n",
       "      <td>0.0</td>\n",
       "      <td>obs</td>\n",
       "      <td>East-Siberian-Beaufort-Chukchi</td>\n",
       "    </tr>\n",
       "    <tr>\n",
       "      <th>186263</th>\n",
       "      <td>10951</td>\n",
       "      <td>2018-12-28</td>\n",
       "      <td>12.0</td>\n",
       "      <td>3.074202</td>\n",
       "      <td>0.0</td>\n",
       "      <td>obs</td>\n",
       "      <td>East-Siberian-Beaufort-Chukchi</td>\n",
       "    </tr>\n",
       "    <tr>\n",
       "      <th>186264</th>\n",
       "      <td>10952</td>\n",
       "      <td>2018-12-29</td>\n",
       "      <td>12.0</td>\n",
       "      <td>3.074202</td>\n",
       "      <td>0.0</td>\n",
       "      <td>obs</td>\n",
       "      <td>East-Siberian-Beaufort-Chukchi</td>\n",
       "    </tr>\n",
       "  </tbody>\n",
       "</table>\n",
       "</div>"
      ],
      "text/plain": [
       "        Unnamed: 0 V (valid date)  V_mon (valid date month)       SIE  \\\n",
       "186260       10948     2018-12-25                      12.0  3.074202   \n",
       "186261       10949     2018-12-26                      12.0  3.074202   \n",
       "186262       10950     2018-12-27                      12.0  3.074202   \n",
       "186263       10951     2018-12-28                      12.0  3.074202   \n",
       "186264       10952     2018-12-29                      12.0  3.074202   \n",
       "\n",
       "        d_SIC (V - I) ensemble                          region  \n",
       "186260            0.0      obs  East-Siberian-Beaufort-Chukchi  \n",
       "186261            0.0      obs  East-Siberian-Beaufort-Chukchi  \n",
       "186262            0.0      obs  East-Siberian-Beaufort-Chukchi  \n",
       "186263            0.0      obs  East-Siberian-Beaufort-Chukchi  \n",
       "186264            0.0      obs  East-Siberian-Beaufort-Chukchi  "
      ]
     },
     "execution_count": 6,
     "metadata": {},
     "output_type": "execute_result"
    }
   ],
   "source": [
    "SIE_obs_dates = pd.to_datetime(SIE_obs['V (valid date)'])\n",
    "f_dates = SIE_obs_dates.isin(SIE_model_dates)\n",
    "##SIE_obs_trim = SIE_obs.loc[f_dates]\n",
    "f_dates = SIE_obs_dates.dt.month.isin([6,7,8,9])\n",
    "#SIE_obs_trim = SIE_obs.where(pd.to_datetime(SIE_obs['V (valid date)']).dt.month\n",
    "#SIE_obs_trim = SIE_obs[f_dates].dropna()\n",
    "SIE_obs_trim = SIE_obs\n",
    "SIE_obs_trim.tail()"
   ]
  },
  {
   "cell_type": "code",
   "execution_count": 320,
   "metadata": {},
   "outputs": [
    {
     "data": {
      "text/html": [
       "<div>\n",
       "<style scoped>\n",
       "    .dataframe tbody tr th:only-of-type {\n",
       "        vertical-align: middle;\n",
       "    }\n",
       "\n",
       "    .dataframe tbody tr th {\n",
       "        vertical-align: top;\n",
       "    }\n",
       "\n",
       "    .dataframe thead th {\n",
       "        text-align: right;\n",
       "    }\n",
       "</style>\n",
       "<table border=\"1\" class=\"dataframe\">\n",
       "  <thead>\n",
       "    <tr style=\"text-align: right;\">\n",
       "      <th></th>\n",
       "      <th>Unnamed: 0</th>\n",
       "      <th>V (valid date)</th>\n",
       "      <th>V_mon (valid date month)</th>\n",
       "      <th>SIE</th>\n",
       "      <th>d_SIC (V - I)</th>\n",
       "      <th>ensemble</th>\n",
       "      <th>region</th>\n",
       "    </tr>\n",
       "  </thead>\n",
       "  <tbody>\n",
       "    <tr>\n",
       "      <th>164550</th>\n",
       "      <td>195.0</td>\n",
       "      <td>1989-07-17</td>\n",
       "      <td>7.0</td>\n",
       "      <td>1.570514</td>\n",
       "      <td>-0.179467</td>\n",
       "      <td>obs</td>\n",
       "      <td>Kara-Laptev</td>\n",
       "    </tr>\n",
       "    <tr>\n",
       "      <th>164551</th>\n",
       "      <td>196.0</td>\n",
       "      <td>1989-07-18</td>\n",
       "      <td>7.0</td>\n",
       "      <td>1.540852</td>\n",
       "      <td>-0.185738</td>\n",
       "      <td>obs</td>\n",
       "      <td>Kara-Laptev</td>\n",
       "    </tr>\n",
       "    <tr>\n",
       "      <th>164552</th>\n",
       "      <td>197.0</td>\n",
       "      <td>1989-07-19</td>\n",
       "      <td>7.0</td>\n",
       "      <td>1.438350</td>\n",
       "      <td>-0.105485</td>\n",
       "      <td>obs</td>\n",
       "      <td>Kara-Laptev</td>\n",
       "    </tr>\n",
       "    <tr>\n",
       "      <th>164905</th>\n",
       "      <td>550.0</td>\n",
       "      <td>1990-07-07</td>\n",
       "      <td>7.0</td>\n",
       "      <td>1.557640</td>\n",
       "      <td>-0.100872</td>\n",
       "      <td>obs</td>\n",
       "      <td>Kara-Laptev</td>\n",
       "    </tr>\n",
       "    <tr>\n",
       "      <th>164906</th>\n",
       "      <td>551.0</td>\n",
       "      <td>1990-07-08</td>\n",
       "      <td>7.0</td>\n",
       "      <td>1.501920</td>\n",
       "      <td>-0.149664</td>\n",
       "      <td>obs</td>\n",
       "      <td>Kara-Laptev</td>\n",
       "    </tr>\n",
       "    <tr>\n",
       "      <th>164907</th>\n",
       "      <td>552.0</td>\n",
       "      <td>1990-07-09</td>\n",
       "      <td>7.0</td>\n",
       "      <td>1.478414</td>\n",
       "      <td>-0.170030</td>\n",
       "      <td>obs</td>\n",
       "      <td>Kara-Laptev</td>\n",
       "    </tr>\n",
       "    <tr>\n",
       "      <th>164908</th>\n",
       "      <td>553.0</td>\n",
       "      <td>1990-07-10</td>\n",
       "      <td>7.0</td>\n",
       "      <td>1.420758</td>\n",
       "      <td>-0.138070</td>\n",
       "      <td>obs</td>\n",
       "      <td>Kara-Laptev</td>\n",
       "    </tr>\n",
       "    <tr>\n",
       "      <th>164909</th>\n",
       "      <td>554.0</td>\n",
       "      <td>1990-07-11</td>\n",
       "      <td>7.0</td>\n",
       "      <td>1.387611</td>\n",
       "      <td>-0.114109</td>\n",
       "      <td>obs</td>\n",
       "      <td>Kara-Laptev</td>\n",
       "    </tr>\n",
       "    <tr>\n",
       "      <th>164917</th>\n",
       "      <td>562.0</td>\n",
       "      <td>1990-07-19</td>\n",
       "      <td>7.0</td>\n",
       "      <td>1.318251</td>\n",
       "      <td>-0.104891</td>\n",
       "      <td>obs</td>\n",
       "      <td>Kara-Laptev</td>\n",
       "    </tr>\n",
       "    <tr>\n",
       "      <th>164918</th>\n",
       "      <td>563.0</td>\n",
       "      <td>1990-07-20</td>\n",
       "      <td>7.0</td>\n",
       "      <td>1.332928</td>\n",
       "      <td>-0.099247</td>\n",
       "      <td>obs</td>\n",
       "      <td>Kara-Laptev</td>\n",
       "    </tr>\n",
       "  </tbody>\n",
       "</table>\n",
       "</div>"
      ],
      "text/plain": [
       "        Unnamed: 0 V (valid date)  V_mon (valid date month)       SIE  \\\n",
       "164550       195.0     1989-07-17                       7.0  1.570514   \n",
       "164551       196.0     1989-07-18                       7.0  1.540852   \n",
       "164552       197.0     1989-07-19                       7.0  1.438350   \n",
       "164905       550.0     1990-07-07                       7.0  1.557640   \n",
       "164906       551.0     1990-07-08                       7.0  1.501920   \n",
       "164907       552.0     1990-07-09                       7.0  1.478414   \n",
       "164908       553.0     1990-07-10                       7.0  1.420758   \n",
       "164909       554.0     1990-07-11                       7.0  1.387611   \n",
       "164917       562.0     1990-07-19                       7.0  1.318251   \n",
       "164918       563.0     1990-07-20                       7.0  1.332928   \n",
       "\n",
       "        d_SIC (V - I) ensemble       region  \n",
       "164550      -0.179467      obs  Kara-Laptev  \n",
       "164551      -0.185738      obs  Kara-Laptev  \n",
       "164552      -0.105485      obs  Kara-Laptev  \n",
       "164905      -0.100872      obs  Kara-Laptev  \n",
       "164906      -0.149664      obs  Kara-Laptev  \n",
       "164907      -0.170030      obs  Kara-Laptev  \n",
       "164908      -0.138070      obs  Kara-Laptev  \n",
       "164909      -0.114109      obs  Kara-Laptev  \n",
       "164917      -0.104891      obs  Kara-Laptev  \n",
       "164918      -0.099247      obs  Kara-Laptev  "
      ]
     },
     "execution_count": 320,
     "metadata": {},
     "output_type": "execute_result"
    }
   ],
   "source": [
    "region_sel = 'Kara-Laptev'\n",
    "SIE_obs_region = SIE_obs_trim.where(SIE_obs_trim['region']==region_sel).dropna()\n",
    "SIE_model_region = SIE_lead_sel.where(SIE_lead_sel['region']==region_sel).dropna()\n",
    "\n",
    "pctile_choose = 0.05\n",
    "obs_pctile = SIE_obs_region.quantile(pctile_choose)\n",
    "obs_VRILE = SIE_obs_region.where(SIE_obs_region['d_SIC (V - I)'] <= obs_pctile['d_SIC (V - I)']).dropna()\n",
    "obs_VRILE.head(10)"
   ]
  },
  {
   "cell_type": "markdown",
   "metadata": {},
   "source": [
    "Define VRILE using a rolling 5-year mean"
   ]
  },
  {
   "cell_type": "code",
   "execution_count": 323,
   "metadata": {},
   "outputs": [
    {
     "data": {
      "image/png": "[encoded data removed]",
      "text/plain": [
       "<Figure size 432x288 with 1 Axes>"
      ]
     },
     "metadata": {
      "needs_background": "light"
     },
     "output_type": "display_data"
    }
   ],
   "source": [
    "obs_VRILE_rolling = SIE_obs_region['d_SIC (V - I)'].rolling(5*365).quantile(pctile_choose,interpolation='lower')\n",
    "obs_years = pd.to_datetime(SIE_obs_region['V (valid date)']).dt.year\n",
    "fig1 = plt.figure(1)\n",
    "ax1 = fig1.add_axes([0.1,0.1,0.9,0.9])\n",
    "ax1.plot(obs_VRILE_rolling.dropna())\n",
    "#ax1.hlines(obs_pctile['d_SIC (V - I)'],0,11000)\n",
    "#ax1.set_xticks(np.arange(0,11000,720))\n",
    "#ax1.set_xticklabels(obs_years[::720],rotation=30)\n",
    "ax1.grid()"
   ]
  },
  {
   "cell_type": "code",
   "execution_count": 324,
   "metadata": {},
   "outputs": [
    {
     "data": {
      "text/plain": [
       "<matplotlib.axes._subplots.AxesSubplot at 0x7f5a40870668>"
      ]
     },
     "execution_count": 324,
     "metadata": {},
     "output_type": "execute_result"
    },
    {
     "data": {
      "image/png": "[encoded data removed]",
      "text/plain": [
       "<Figure size 432x288 with 1 Axes>"
      ]
     },
     "metadata": {
      "needs_background": "light"
     },
     "output_type": "display_data"
    }
   ],
   "source": [
    "obs_VRILE_years = pd.to_datetime(obs_VRILE['V (valid date)']).dt.year\n",
    "obs_VRILE_mon = pd.to_datetime(obs_VRILE['V (valid date)']).dt.month\n",
    "import seaborn as sns\n",
    "sns.distplot(obs_VRILE_mon,bins=np.arange(1,13),kde=False)"
   ]
  },
  {
   "cell_type": "code",
   "execution_count": 325,
   "metadata": {},
   "outputs": [
    {
     "data": {
      "text/plain": [
       "<matplotlib.axes._subplots.AxesSubplot at 0x7f5a4061e7f0>"
      ]
     },
     "execution_count": 325,
     "metadata": {},
     "output_type": "execute_result"
    },
    {
     "data": {
      "image/png": "[encoded data removed]",
      "text/plain": [
       "<Figure size 432x288 with 1 Axes>"
      ]
     },
     "metadata": {
      "needs_background": "light"
     },
     "output_type": "display_data"
    }
   ],
   "source": [
    "sns.distplot(obs_VRILE_years,bins=np.arange(1989,2019),kde=False)"
   ]
  },
  {
   "cell_type": "code",
   "execution_count": 326,
   "metadata": {},
   "outputs": [
    {
     "data": {
      "text/plain": [
       "<matplotlib.axes._subplots.AxesSubplot at 0x7f5a40d3e7b8>"
      ]
     },
     "execution_count": 326,
     "metadata": {},
     "output_type": "execute_result"
    },
    {
     "data": {
      "image/png": "[encoded data removed]",
      "text/plain": [
       "<Figure size 432x288 with 1 Axes>"
      ]
     },
     "metadata": {
      "needs_background": "light"
     },
     "output_type": "display_data"
    }
   ],
   "source": [
    "SIE_lead_sel_ens_q = SIE_model_region[['SIE','d_SIC (V - I)','ensemble']].groupby(['ensemble']).quantile(pctile_choose)\n",
    "SIE_lead_sel_ens_q['d_SIC (V - I)'].dropna().plot()"
   ]
  },
  {
   "cell_type": "code",
   "execution_count": 327,
   "metadata": {},
   "outputs": [],
   "source": [
    "SIE_lead_sel_VRILE_yrs =  SIE_model_region.groupby(['ensemble'])"
   ]
  },
  {
   "cell_type": "code",
   "execution_count": 328,
   "metadata": {},
   "outputs": [],
   "source": [
    "model_VRILE = SIE_lead_sel_VRILE_yrs.apply(lambda x: x[x['d_SIC (V - I)'] <= x['d_SIC (V - I)'].quantile(0.05)])"
   ]
  },
  {
   "cell_type": "code",
   "execution_count": 329,
   "metadata": {},
   "outputs": [],
   "source": [
    "model_VRILE_mons = pd.to_datetime(model_VRILE['V (valid date)']).dt.month\n",
    "model_VRILE_yrs = pd.to_datetime(model_VRILE['V (valid date)']).dt.year"
   ]
  },
  {
   "cell_type": "code",
   "execution_count": 330,
   "metadata": {},
   "outputs": [
    {
     "data": {
      "image/png": "[encoded data removed]",
      "text/plain": [
       "<Figure size 432x288 with 1 Axes>"
      ]
     },
     "metadata": {
      "needs_background": "light"
     },
     "output_type": "display_data"
    }
   ],
   "source": [
    "fig2 = plt.figure(2)\n",
    "ax2 = fig2.add_axes([0.1,0.1,0.9,0.9])\n",
    "for i_ens in np.arange(1,11):\n",
    "    i_ens_mod = model_VRILE.loc[i_ens]\n",
    "    i_ens_mons = pd.to_datetime(i_ens_mod['V (valid date)']).dt.month\n",
    "    ax2.bar(i_ens_mod['V_mon (valid date month)'].value_counts(),0.4)"
   ]
  },
  {
   "cell_type": "code",
   "execution_count": 331,
   "metadata": {},
   "outputs": [
    {
     "data": {
      "image/png": "[encoded data removed]",
      "text/plain": [
       "<Figure size 432x288 with 1 Axes>"
      ]
     },
     "metadata": {
      "needs_background": "light"
     },
     "output_type": "display_data"
    }
   ],
   "source": [
    "fig3 = plt.figure(3)\n",
    "ax3 = fig3.add_axes([0.1,0.1,0.9,0.9])\n",
    "model_VRILE['V_mon (valid date month)'].value_counts(bins=[0,1,2,3,4,5,6,7,8,9,10,11,12],\n",
    "                                                     normalize=True).sort_index().plot.bar(ax=ax3,color='xkcd:brick red')\n",
    "ind_list = model_VRILE['V_mon (valid date month)'].value_counts(bins=[0,1,2,3,4,5,6,7,8,9,10,11,12],\n",
    "                                                     normalize=True).sort_index().index.tolist()\n",
    "ind_plot = np.empty([])\n",
    "for i_int in np.arange(0,len(ind_list)):\n",
    "    ind_plot = np.append(ind_plot,ind_list[i_int].right)\n",
    "ax3.set_xticklabels(ind_plot[1:13],fontsize=13)\n",
    "ax3.set_ylabel('Frequency',fontsize=14)\n",
    "ax3.set_xlabel('Month',fontsize=14)\n",
    "ax3.set_title('VRILE occurence by month, {region}, {model_name}'.format(region=region_sel,model_name=model_name),fontsize=14)\n",
    "fname_3 = '/home/disk/sipn/mcmcgraw/figures/VRILE_v2/VRILES_vs_month_yr/VRILE_by_month_{model_name}_{region}.png'.format(model_name=model_name,\n",
    "                                                                                                                        region=region_sel)\n",
    "fig3.savefig(fname_3,format='png',dpi=600,bbox_inches='tight')"
   ]
  },
  {
   "cell_type": "code",
   "execution_count": 157,
   "metadata": {},
   "outputs": [
    {
     "data": {
      "text/plain": [
       "Text(0.5, 1.0, 'VRILE occurence by year, ecmwf')"
      ]
     },
     "execution_count": 157,
     "metadata": {},
     "output_type": "execute_result"
    },
    {
     "data": {
      "image/png": "[encoded data removed]",
      "text/plain": [
       "<Figure size 432x288 with 1 Axes>"
      ]
     },
     "metadata": {
      "needs_background": "light"
     },
     "output_type": "display_data"
    }
   ],
   "source": [
    "fig4 = plt.figure(4)\n",
    "ax4 = fig4.add_axes([0.1,0.1,0.9,0.9])\n",
    "\n",
    "pd.to_datetime(model_VRILE['V (valid date)']).dt.year.value_counts(normalize=True,ascending=False).sort_index().plot.bar(ax=ax4,color='xkcd:turquoise')\n",
    "ax4.set_ylabel('Frequency',fontsize=14)\n",
    "ax4.set_xlabel('Year',fontsize=14)\n",
    "ax4.set_title('VRILE occurence by year, {model_name}'.format(model_name=model_name),fontsize=14)"
   ]
  },
  {
   "cell_type": "code",
   "execution_count": 165,
   "metadata": {},
   "outputs": [
    {
     "data": {
      "text/plain": [
       "<matplotlib.axes._subplots.AxesSubplot at 0x7f5a42b2cf60>"
      ]
     },
     "execution_count": 165,
     "metadata": {},
     "output_type": "execute_result"
    },
    {
     "data": {
      "image/png": "[encoded data removed]",
      "text/plain": [
       "<Figure size 432x288 with 1 Axes>"
      ]
     },
     "metadata": {
      "needs_background": "light"
     },
     "output_type": "display_data"
    }
   ],
   "source": [
    "SIE_model_region['SIE'].groupby(pd.to_datetime(SIE_model_region['V (valid date)']).dt.year).min().plot.bar()"
   ]
  },
  {
   "cell_type": "code",
   "execution_count": 166,
   "metadata": {},
   "outputs": [
    {
     "data": {
      "text/plain": [
       "2007    67\n",
       "2012    62\n",
       "2003    60\n",
       "2000    59\n",
       "2013    59\n",
       "2008    57\n",
       "2016    56\n",
       "2004    56\n",
       "2002    55\n",
       "1999    53\n",
       "2005    52\n",
       "2017    50\n",
       "2011    50\n",
       "2010    48\n",
       "2015    48\n",
       "2009    46\n",
       "2006    43\n",
       "2018    43\n",
       "2014    41\n",
       "2001    35\n",
       "Name: V (valid date), dtype: int64"
      ]
     },
     "execution_count": 166,
     "metadata": {},
     "output_type": "execute_result"
    }
   ],
   "source": [
    "pd.to_datetime(model_VRILE['V (valid date)']).dt.year.value_counts()"
   ]
  },
  {
   "cell_type": "code",
   "execution_count": 170,
   "metadata": {},
   "outputs": [
    {
     "data": {
      "text/plain": [
       "V (valid date)\n",
       "2002   -0.523841\n",
       "2013   -0.517260\n",
       "2014   -0.513251\n",
       "2015   -0.497788\n",
       "1999   -0.481955\n",
       "2003   -0.480361\n",
       "2007   -0.476454\n",
       "2012   -0.465292\n",
       "2000   -0.463791\n",
       "2016   -0.460818\n",
       "2006   -0.459520\n",
       "2018   -0.459260\n",
       "2011   -0.449339\n",
       "2010   -0.448223\n",
       "2017   -0.447309\n",
       "2009   -0.445703\n",
       "2005   -0.434896\n",
       "2008   -0.416974\n",
       "2004   -0.405162\n",
       "2001   -0.377508\n",
       "1998   -0.169109\n",
       "Name: d_SIC (V - I), dtype: float64"
      ]
     },
     "execution_count": 170,
     "metadata": {},
     "output_type": "execute_result"
    }
   ],
   "source": [
    "SIE_model_region['d_SIC (V - I)'].groupby(pd.to_datetime(SIE_model_region['V (valid date)']).dt.year).min().sort_values()"
   ]
  },
  {
   "cell_type": "code",
   "execution_count": 233,
   "metadata": {},
   "outputs": [
    {
     "data": {
      "text/plain": [
       "<matplotlib.collections.PathCollection at 0x7f5a3fb78e80>"
      ]
     },
     "execution_count": 233,
     "metadata": {},
     "output_type": "execute_result"
    },
    {
     "data": {
      "image/png": "[encoded data removed]",
      "text/plain": [
       "<Figure size 432x288 with 1 Axes>"
      ]
     },
     "metadata": {
      "needs_background": "light"
     },
     "output_type": "display_data"
    }
   ],
   "source": [
    "VRILE_count = pd.to_datetime(model_VRILE['V (valid date)']).dt.year.value_counts(normalize=False,ascending=False).sort_index()\n",
    "min_SIE = SIE_model_region['SIE'].groupby(pd.to_datetime(SIE_model_region['V (valid date)']).dt.year).min()\n",
    "#plt.scatter(min_SIE[1::],VRILE_count,s=100,cmap='inferno')"
   ]
  },
  {
   "cell_type": "code",
   "execution_count": 251,
   "metadata": {},
   "outputs": [
    {
     "data": {
      "text/plain": [
       "Index(['VRILE count', 'min SIE'], dtype='object')"
      ]
     },
     "execution_count": 251,
     "metadata": {},
     "output_type": "execute_result"
    }
   ],
   "source": [
    "fart = pd.concat([VRILE_count,min_SIE[1::]],axis=1)\n",
    "fart = fart.rename(columns={\"V (valid date)\":\"VRILE count\",\"SIE\":\"min SIE\"})\n",
    "fart.columns"
   ]
  },
  {
   "cell_type": "code",
   "execution_count": 316,
   "metadata": {},
   "outputs": [
    {
     "data": {
      "text/plain": [
       "Text(0.5, 1.0, 'VRILE Days vs Minimum SIE, ecmwf')"
      ]
     },
     "execution_count": 316,
     "metadata": {},
     "output_type": "execute_result"
    },
    {
     "data": {
      "image/png": "[encoded data removed]",
      "text/plain": [
       "<Figure size 432x288 with 1 Axes>"
      ]
     },
     "metadata": {
      "needs_background": "light"
     },
     "output_type": "display_data"
    }
   ],
   "source": [
    "fig5 = plt.figure(5)\n",
    "ax5 = fig5.add_axes([0,0,1.25,1.25])\n",
    "ax5.scatter(x=fart['min SIE'],y=fart['VRILE count'],c=fart.index,cmap='spring',s=55)\n",
    "for k,v in fart.iterrows():\n",
    "    ax5.annotate(k,(v[1], v[0]),xytext=(3,2),textcoords='offset points',fontsize=13,family='sans-serif',\n",
    "                color='darkslategrey')\n",
    "                #xytext=(10,-5), textcoords='offset points',\n",
    "                #family='sans-serif', fontsize=18, color='darkslategrey')\n",
    "ax5.set_xlim((2.9,6.1))\n",
    "ax5.set_xlabel('Minimum Annual Sea Ice Extent (10$^6$ km$^2$)',fontsize=14)\n",
    "ax5.set_ylabel('Number of VRILE Days',fontsize=14)\n",
    "R_val = np.corrcoef(fart['min SIE'],fart['VRILE count'])\n",
    "ax5.text(3.25,43,(\"R = {R}\".format(R=round(R_val[0,1],2))),fontsize=14)\n",
    "ax5.text(3.25,40,(\"R$^2$ = {R}\".format(R=round(R_val[0,1]**2,2))),fontsize=14)\n",
    "ax5.set_title('VRILE Days vs Minimum SIE, {model_name}'.format(model_name=model_name),fontsize=15)"
   ]
  },
  {
   "cell_type": "code",
   "execution_count": 276,
   "metadata": {},
   "outputs": [
    {
     "name": "stdout",
     "output_type": "stream",
     "text": [
      "5.29005681439209\n",
      "5.6816795815429675\n",
      "5.88432084173584\n",
      "5.213143736877441\n",
      "5.356232579040527\n",
      "5.193876038330078\n",
      "4.705429702087402\n",
      "5.15640761138916\n",
      "3.552497673828125\n",
      "4.244753975524902\n",
      "4.658323342651367\n",
      "4.451253247497559\n",
      "3.849183416503906\n",
      "3.27666044329834\n",
      "4.70551088482666\n",
      "4.5628325809936525\n",
      "3.9601321735229487\n",
      "3.9244642732543946\n",
      "4.1849170797729505\n",
      "4.558433948913574\n"
     ]
    }
   ],
   "source": [
    "k = 0\n",
    "v = 0\n",
    "for k,v in fart.iterrows():\n",
    "    print(v[1])"
   ]
  },
  {
   "cell_type": "code",
   "execution_count": null,
   "metadata": {},
   "outputs": [],
   "source": []
  }
 ],
 "metadata": {
  "kernelspec": {
   "display_name": "Python 3",
   "language": "python",
   "name": "python3"
  },
  "language_info": {
   "codemirror_mode": {
    "name": "ipython",
    "version": 3
   },
   "file_extension": ".py",
   "mimetype": "text/x-python",
   "name": "python",
   "nbconvert_exporter": "python",
   "pygments_lexer": "ipython3",
   "version": "3.7.3"
  }
 },
 "nbformat": 4,
 "nbformat_minor": 2
}
