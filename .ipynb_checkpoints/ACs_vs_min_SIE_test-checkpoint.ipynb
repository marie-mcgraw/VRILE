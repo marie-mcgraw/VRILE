{
 "cells": [
  {
   "cell_type": "code",
   "execution_count": 1,
   "metadata": {},
   "outputs": [
    {
     "name": "stderr",
     "output_type": "stream",
     "text": [
      "/home/disk/sipn/mcmcgraw/anaconda3/lib/python3.7/site-packages/dask/config.py:168: YAMLLoadWarning: calling yaml.load() without Loader=... is deprecated, as the default Loader is unsafe. Please read https://msg.pyyaml.org/load for full details.\n",
      "  data = yaml.load(f.read()) or {}\n",
      "/home/disk/sipn/mcmcgraw/anaconda3/lib/python3.7/site-packages/distributed/config.py:20: YAMLLoadWarning: calling yaml.load() without Loader=... is deprecated, as the default Loader is unsafe. Please read https://msg.pyyaml.org/load for full details.\n",
      "  defaults = yaml.load(f)\n"
     ]
    }
   ],
   "source": [
    "import xarray as xr\n",
    "import numpy as np\n",
    "import pandas as pd\n",
    "import datetime\n",
    "import matplotlib.pyplot as plt\n",
    "from sklearn.linear_model import LinearRegression\n",
    "from sklearn.model_selection import train_test_split, cross_val_score, LeaveOneOut\n",
    "from sklearn import metrics"
   ]
  },
  {
   "cell_type": "code",
   "execution_count": 2,
   "metadata": {},
   "outputs": [],
   "source": [
    "fpath_load = '/home/sipn/rclancy/analysis/'\n",
    "fname_cyc = fpath_load+'all_cyclones_matched'\n",
    "cyc_raw = np.loadtxt(fname_cyc)\n",
    "cyc_col_names = open(fpath_load+'colnames_ACs.ascii').read().split()\n",
    "cyclones = pd.DataFrame(data=cyc_raw,columns=cyc_col_names)"
   ]
  },
  {
   "cell_type": "markdown",
   "metadata": {},
   "source": [
    "Q1. Are years with more cyclone days throughout the year associated with lower SIE minima? <br>\n",
    "Step 1: Match cyclone data record to SIE record.  Start by loading the SIE data\n"
   ]
  },
  {
   "cell_type": "code",
   "execution_count": 12,
   "metadata": {},
   "outputs": [],
   "source": [
    "no_day_change = 5\n",
    "obs_name = 'NSIDC_0079'\n",
    "obs_type = 'sipn_nc_yearly_agg'\n",
    "obs_filename = '/home/disk/sipn/mcmcgraw/data/VRILE/{model_name}_{model_type}_SIE_d_SIE_{d_days}day_change_lead_time_ALL_REGIONS_ALL_ENS.csv'.format(model_name=obs_name,\n",
    "                       model_type=obs_type,d_days=no_day_change)\n",
    "SIE_obs = pd.read_csv(obs_filename)\n",
    "SIE_obs = SIE_obs.dropna()\n",
    "SIE_obs_yrs = pd.to_datetime(SIE_obs['V (valid date)']).dt.year.unique().tolist()\n",
    "cyclones_trim = cyclones[cyclones['year'].isin(SIE_obs_yrs)]\n",
    "min_lat = 70\n",
    "cyclones_trim = cyclones_trim.where(cyclones_trim['lat']>=min_lat).dropna()"
   ]
  },
  {
   "cell_type": "markdown",
   "metadata": {},
   "source": [
    "Now we have trimmed everything to the years we are interested in.  Next, we need to get some kind of daily mean cyclone count. We have a number of cyclones every 6 hours (<code>num_daily_sys</code>). We can group by date (<code>year, month, day</code>) and then take a daily mean"
   ]
  },
  {
   "cell_type": "code",
   "execution_count": 32,
   "metadata": {},
   "outputs": [],
   "source": [
    "cyclones_daily_mean_all = cyclones_trim.groupby(['year','month','day']).mean()\n",
    "cyclones_daily_mean_all.head()\n",
    "#cyclones_daily_mean = cyclones_daily_mean_all[cyclones_daily_mean_all.isin('month')\n",
    "cyclones_daily_mean = cyclones_daily_mean_all.query('6<=month<=9')"
   ]
  },
  {
   "cell_type": "markdown",
   "metadata": {},
   "source": [
    "For now, we'll just do panArctic.  Since we have the lat and lons of the cyclones, we can attribute cyclones to certain regions later.  So, we'll start by exploring the relationship between the number of daily cyclone systems (<code>num_daily_sys</code>) and annual minnimum SIE"
   ]
  },
  {
   "cell_type": "code",
   "execution_count": 21,
   "metadata": {},
   "outputs": [],
   "source": [
    "regions = SIE_obs['region'].unique().tolist()\n",
    "SIE_obs_reg = SIE_obs.where(SIE_obs['region']=='panArctic')\n",
    "obs_SIE_min = SIE_obs_reg.groupby(pd.to_datetime(SIE_obs_reg['V (valid date)']).dt.year).min()"
   ]
  },
  {
   "cell_type": "markdown",
   "metadata": {},
   "source": [
    "We'll smooth things out a bit with a 5-day rolling mean, and then we'll take a sum over each year"
   ]
  },
  {
   "cell_type": "code",
   "execution_count": 34,
   "metadata": {},
   "outputs": [
    {
     "ename": "TypeError",
     "evalue": "quantile() got an unexpected keyword argument 'level'",
     "output_type": "error",
     "traceback": [
      "\u001b[0;31m---------------------------------------------------------------------------\u001b[0m",
      "\u001b[0;31mTypeError\u001b[0m                                 Traceback (most recent call last)",
      "\u001b[0;32m<ipython-input-34-07e6f44d5f25>\u001b[0m in \u001b[0;36m<module>\u001b[0;34m\u001b[0m\n\u001b[1;32m      3\u001b[0m \u001b[0msum_mon\u001b[0m \u001b[0;34m=\u001b[0m \u001b[0;34m[\u001b[0m\u001b[0;36m6\u001b[0m\u001b[0;34m,\u001b[0m\u001b[0;36m7\u001b[0m\u001b[0;34m,\u001b[0m\u001b[0;36m8\u001b[0m\u001b[0;34m,\u001b[0m\u001b[0;36m9\u001b[0m\u001b[0;34m]\u001b[0m\u001b[0;34m\u001b[0m\u001b[0;34m\u001b[0m\u001b[0m\n\u001b[1;32m      4\u001b[0m \u001b[0;31m#cyclones_summer = cyclones_5day_mean.loc[6,('month')]\u001b[0m\u001b[0;34m\u001b[0m\u001b[0;34m\u001b[0m\u001b[0;34m\u001b[0m\u001b[0m\n\u001b[0;32m----> 5\u001b[0;31m \u001b[0mcyclones_annual_av\u001b[0m \u001b[0;34m=\u001b[0m \u001b[0mcyclones_5day_mean\u001b[0m\u001b[0;34m.\u001b[0m\u001b[0mquantile\u001b[0m\u001b[0;34m(\u001b[0m\u001b[0;36m0.75\u001b[0m\u001b[0;34m,\u001b[0m\u001b[0mlevel\u001b[0m\u001b[0;34m=\u001b[0m\u001b[0;36m0\u001b[0m\u001b[0;34m)\u001b[0m\u001b[0;34m\u001b[0m\u001b[0;34m\u001b[0m\u001b[0m\n\u001b[0m\u001b[1;32m      6\u001b[0m \u001b[0mcyc_count_vs_SIE_min\u001b[0m \u001b[0;34m=\u001b[0m \u001b[0mpd\u001b[0m\u001b[0;34m.\u001b[0m\u001b[0mconcat\u001b[0m\u001b[0;34m(\u001b[0m\u001b[0;34m[\u001b[0m\u001b[0mobs_SIE_min\u001b[0m\u001b[0;34m[\u001b[0m\u001b[0;34m'SIE'\u001b[0m\u001b[0;34m]\u001b[0m\u001b[0;34m,\u001b[0m\u001b[0mcyclones_annual_av\u001b[0m\u001b[0;34m[\u001b[0m\u001b[0;34m'num_daily_sys'\u001b[0m\u001b[0;34m]\u001b[0m\u001b[0;34m]\u001b[0m\u001b[0;34m,\u001b[0m\u001b[0maxis\u001b[0m\u001b[0;34m=\u001b[0m\u001b[0;36m1\u001b[0m\u001b[0;34m)\u001b[0m\u001b[0;34m\u001b[0m\u001b[0;34m\u001b[0m\u001b[0m\n\u001b[1;32m      7\u001b[0m \u001b[0mcyc_count_vs_SIE_min\u001b[0m\u001b[0;34m.\u001b[0m\u001b[0mcolumns\u001b[0m \u001b[0;34m=\u001b[0m \u001b[0;34m[\u001b[0m\u001b[0;34m\"min SIE\"\u001b[0m\u001b[0;34m,\u001b[0m\u001b[0;34m\"cyclone count\"\u001b[0m\u001b[0;34m]\u001b[0m\u001b[0;34m\u001b[0m\u001b[0;34m\u001b[0m\u001b[0m\n",
      "\u001b[0;31mTypeError\u001b[0m: quantile() got an unexpected keyword argument 'level'"
     ]
    }
   ],
   "source": [
    "cyclones_5day_mean = cyclones_daily_mean.rolling(5).mean().dropna()\n",
    "#summer only\n",
    "sum_mon = [6,7,8,9]\n",
    "#cyclones_summer = cyclones_5day_mean.loc[6,('month')]\n",
    "cyclones_annual_av = cyclones_5day_mean.quantile(0.75,level=0)\n",
    "cyc_count_vs_SIE_min = pd.concat([obs_SIE_min['SIE'],cyclones_annual_av['num_daily_sys']],axis=1)\n",
    "cyc_count_vs_SIE_min.columns = [\"min SIE\",\"cyclone count\"]"
   ]
  },
  {
   "cell_type": "markdown",
   "metadata": {},
   "source": [
    "Make a scatter plot of annual cyclone count and minimum SIE"
   ]
  },
  {
   "cell_type": "code",
   "execution_count": 33,
   "metadata": {},
   "outputs": [
    {
     "data": {
      "text/html": [
       "<div>\n",
       "<style scoped>\n",
       "    .dataframe tbody tr th:only-of-type {\n",
       "        vertical-align: middle;\n",
       "    }\n",
       "\n",
       "    .dataframe tbody tr th {\n",
       "        vertical-align: top;\n",
       "    }\n",
       "\n",
       "    .dataframe thead th {\n",
       "        text-align: right;\n",
       "    }\n",
       "</style>\n",
       "<table border=\"1\" class=\"dataframe\">\n",
       "  <thead>\n",
       "    <tr style=\"text-align: right;\">\n",
       "      <th></th>\n",
       "      <th></th>\n",
       "      <th></th>\n",
       "      <th>dec_day</th>\n",
       "      <th>rec_num</th>\n",
       "      <th>hour</th>\n",
       "      <th>num_daily_sys</th>\n",
       "      <th>num_grid_pts</th>\n",
       "      <th>prev_day_skip_flag</th>\n",
       "      <th>cent_pressure</th>\n",
       "      <th>laplacian</th>\n",
       "      <th>distance</th>\n",
       "      <th>press_tend</th>\n",
       "      <th>...</th>\n",
       "      <th>cyclol_flag</th>\n",
       "      <th>sys_num</th>\n",
       "      <th>thetamin_TPV_A</th>\n",
       "      <th>amplitude_TPV_A</th>\n",
       "      <th>ciculation_TPV_A</th>\n",
       "      <th>radius_TPV_A</th>\n",
       "      <th>thetamin_TPV_B</th>\n",
       "      <th>amplitude_TPV_B</th>\n",
       "      <th>ciculation_TPV_B</th>\n",
       "      <th>radius_TPV_B</th>\n",
       "    </tr>\n",
       "    <tr>\n",
       "      <th>year</th>\n",
       "      <th>month</th>\n",
       "      <th>day</th>\n",
       "      <th></th>\n",
       "      <th></th>\n",
       "      <th></th>\n",
       "      <th></th>\n",
       "      <th></th>\n",
       "      <th></th>\n",
       "      <th></th>\n",
       "      <th></th>\n",
       "      <th></th>\n",
       "      <th></th>\n",
       "      <th></th>\n",
       "      <th></th>\n",
       "      <th></th>\n",
       "      <th></th>\n",
       "      <th></th>\n",
       "      <th></th>\n",
       "      <th></th>\n",
       "      <th></th>\n",
       "      <th></th>\n",
       "      <th></th>\n",
       "      <th></th>\n",
       "    </tr>\n",
       "  </thead>\n",
       "  <tbody>\n",
       "    <tr>\n",
       "      <th rowspan=\"5\" valign=\"top\">1989.0</th>\n",
       "      <th rowspan=\"5\" valign=\"top\">6.0</th>\n",
       "      <th>5.0</th>\n",
       "      <td>154.365079</td>\n",
       "      <td>614.460317</td>\n",
       "      <td>8.761905</td>\n",
       "      <td>21.073810</td>\n",
       "      <td>1.0</td>\n",
       "      <td>0.0</td>\n",
       "      <td>995.100409</td>\n",
       "      <td>14.992254</td>\n",
       "      <td>206.851377</td>\n",
       "      <td>0.465349</td>\n",
       "      <td>...</td>\n",
       "      <td>0.050794</td>\n",
       "      <td>2526.742857</td>\n",
       "      <td>29.181500</td>\n",
       "      <td>0.164972</td>\n",
       "      <td>1.459389</td>\n",
       "      <td>22.288611</td>\n",
       "      <td>0.0</td>\n",
       "      <td>0.0</td>\n",
       "      <td>0.0</td>\n",
       "      <td>0.0</td>\n",
       "    </tr>\n",
       "    <tr>\n",
       "      <th>6.0</th>\n",
       "      <td>155.354365</td>\n",
       "      <td>618.417460</td>\n",
       "      <td>8.504762</td>\n",
       "      <td>20.959524</td>\n",
       "      <td>1.0</td>\n",
       "      <td>0.0</td>\n",
       "      <td>995.923837</td>\n",
       "      <td>15.639468</td>\n",
       "      <td>196.835948</td>\n",
       "      <td>0.536921</td>\n",
       "      <td>...</td>\n",
       "      <td>0.050794</td>\n",
       "      <td>2549.085714</td>\n",
       "      <td>29.181500</td>\n",
       "      <td>0.164972</td>\n",
       "      <td>1.459389</td>\n",
       "      <td>22.288611</td>\n",
       "      <td>0.0</td>\n",
       "      <td>0.0</td>\n",
       "      <td>0.0</td>\n",
       "      <td>0.0</td>\n",
       "    </tr>\n",
       "    <tr>\n",
       "      <th>7.0</th>\n",
       "      <td>156.367143</td>\n",
       "      <td>622.468571</td>\n",
       "      <td>8.811429</td>\n",
       "      <td>21.892857</td>\n",
       "      <td>1.0</td>\n",
       "      <td>0.0</td>\n",
       "      <td>997.610593</td>\n",
       "      <td>14.758557</td>\n",
       "      <td>141.735393</td>\n",
       "      <td>-39.450257</td>\n",
       "      <td>...</td>\n",
       "      <td>0.028571</td>\n",
       "      <td>2577.125714</td>\n",
       "      <td>22.497500</td>\n",
       "      <td>0.156750</td>\n",
       "      <td>1.370500</td>\n",
       "      <td>19.403500</td>\n",
       "      <td>0.0</td>\n",
       "      <td>0.0</td>\n",
       "      <td>0.0</td>\n",
       "      <td>0.0</td>\n",
       "    </tr>\n",
       "    <tr>\n",
       "      <th>8.0</th>\n",
       "      <td>157.360000</td>\n",
       "      <td>626.440000</td>\n",
       "      <td>8.640000</td>\n",
       "      <td>22.371429</td>\n",
       "      <td>1.0</td>\n",
       "      <td>0.0</td>\n",
       "      <td>998.788986</td>\n",
       "      <td>14.715914</td>\n",
       "      <td>154.673929</td>\n",
       "      <td>-39.833257</td>\n",
       "      <td>...</td>\n",
       "      <td>0.042857</td>\n",
       "      <td>2604.068571</td>\n",
       "      <td>8.424286</td>\n",
       "      <td>0.217714</td>\n",
       "      <td>1.306143</td>\n",
       "      <td>13.113143</td>\n",
       "      <td>0.0</td>\n",
       "      <td>0.0</td>\n",
       "      <td>0.0</td>\n",
       "      <td>0.0</td>\n",
       "    </tr>\n",
       "    <tr>\n",
       "      <th>9.0</th>\n",
       "      <td>158.371039</td>\n",
       "      <td>630.484156</td>\n",
       "      <td>8.904935</td>\n",
       "      <td>21.864935</td>\n",
       "      <td>1.0</td>\n",
       "      <td>0.0</td>\n",
       "      <td>1000.140752</td>\n",
       "      <td>14.326148</td>\n",
       "      <td>138.744422</td>\n",
       "      <td>-39.760218</td>\n",
       "      <td>...</td>\n",
       "      <td>0.050649</td>\n",
       "      <td>2624.455584</td>\n",
       "      <td>19.237558</td>\n",
       "      <td>0.381351</td>\n",
       "      <td>2.483597</td>\n",
       "      <td>26.563870</td>\n",
       "      <td>0.0</td>\n",
       "      <td>0.0</td>\n",
       "      <td>0.0</td>\n",
       "      <td>0.0</td>\n",
       "    </tr>\n",
       "  </tbody>\n",
       "</table>\n",
       "<p>5 rows × 25 columns</p>\n",
       "</div>"
      ],
      "text/plain": [
       "                     dec_day     rec_num      hour  num_daily_sys  \\\n",
       "year   month day                                                    \n",
       "1989.0 6.0   5.0  154.365079  614.460317  8.761905      21.073810   \n",
       "             6.0  155.354365  618.417460  8.504762      20.959524   \n",
       "             7.0  156.367143  622.468571  8.811429      21.892857   \n",
       "             8.0  157.360000  626.440000  8.640000      22.371429   \n",
       "             9.0  158.371039  630.484156  8.904935      21.864935   \n",
       "\n",
       "                  num_grid_pts  prev_day_skip_flag  cent_pressure  laplacian  \\\n",
       "year   month day                                                               \n",
       "1989.0 6.0   5.0           1.0                 0.0     995.100409  14.992254   \n",
       "             6.0           1.0                 0.0     995.923837  15.639468   \n",
       "             7.0           1.0                 0.0     997.610593  14.758557   \n",
       "             8.0           1.0                 0.0     998.788986  14.715914   \n",
       "             9.0           1.0                 0.0    1000.140752  14.326148   \n",
       "\n",
       "                    distance  press_tend  ...  cyclol_flag      sys_num  \\\n",
       "year   month day                          ...                             \n",
       "1989.0 6.0   5.0  206.851377    0.465349  ...     0.050794  2526.742857   \n",
       "             6.0  196.835948    0.536921  ...     0.050794  2549.085714   \n",
       "             7.0  141.735393  -39.450257  ...     0.028571  2577.125714   \n",
       "             8.0  154.673929  -39.833257  ...     0.042857  2604.068571   \n",
       "             9.0  138.744422  -39.760218  ...     0.050649  2624.455584   \n",
       "\n",
       "                  thetamin_TPV_A  amplitude_TPV_A  ciculation_TPV_A  \\\n",
       "year   month day                                                      \n",
       "1989.0 6.0   5.0       29.181500         0.164972          1.459389   \n",
       "             6.0       29.181500         0.164972          1.459389   \n",
       "             7.0       22.497500         0.156750          1.370500   \n",
       "             8.0        8.424286         0.217714          1.306143   \n",
       "             9.0       19.237558         0.381351          2.483597   \n",
       "\n",
       "                  radius_TPV_A  thetamin_TPV_B  amplitude_TPV_B  \\\n",
       "year   month day                                                  \n",
       "1989.0 6.0   5.0     22.288611             0.0              0.0   \n",
       "             6.0     22.288611             0.0              0.0   \n",
       "             7.0     19.403500             0.0              0.0   \n",
       "             8.0     13.113143             0.0              0.0   \n",
       "             9.0     26.563870             0.0              0.0   \n",
       "\n",
       "                  ciculation_TPV_B  radius_TPV_B  \n",
       "year   month day                                  \n",
       "1989.0 6.0   5.0               0.0           0.0  \n",
       "             6.0               0.0           0.0  \n",
       "             7.0               0.0           0.0  \n",
       "             8.0               0.0           0.0  \n",
       "             9.0               0.0           0.0  \n",
       "\n",
       "[5 rows x 25 columns]"
      ]
     },
     "execution_count": 33,
     "metadata": {},
     "output_type": "execute_result"
    }
   ],
   "source": [
    "cyclones_5day_mean.head()"
   ]
  },
  {
   "cell_type": "markdown",
   "metadata": {},
   "source": [
    "Now, do leave one out cross validation.  Set it up and create standardized data"
   ]
  },
  {
   "cell_type": "code",
   "execution_count": 24,
   "metadata": {},
   "outputs": [],
   "source": [
    "loo = LeaveOneOut()\n",
    "loo.get_n_splits(cyc_count_vs_SIE_min)\n",
    "X = cyc_count_vs_SIE_min['cyclone count']\n",
    "X = X.fillna(0) #in case there are years with no cyclones\n",
    "Y = cyc_count_vs_SIE_min['min SIE']\n",
    "X_standard = (X - X.mean()).div(X.std())\n",
    "Y_standard = (Y - Y.mean()).div(Y.std())\n",
    "y_predicted = []\n",
    "y_test_vals = []\n",
    "y_predicted_st = []\n",
    "y_test_vals_st = []\n",
    "corr_coef = np.empty([])\n",
    "\n",
    "ones_ind = pd.Series(np.ones(len(X)-1))\n",
    "ones_ind_test = pd.Series(1)"
   ]
  },
  {
   "cell_type": "code",
   "execution_count": 25,
   "metadata": {},
   "outputs": [],
   "source": [
    "for train_index, test_index in loo.split(X):\n",
    "    #print('TRAIN:', train_index,'TEST:',test_index)\n",
    "    # Create training and test sets.  \n",
    "    X_train, X_test = X.iloc[train_index], X.iloc[test_index]\n",
    "    y_train, y_test = Y.iloc[train_index], Y.iloc[test_index]\n",
    "    # Standardized data sets (sanity check)\n",
    "    X_train_st, X_test_st = X_standard.iloc[train_index], X_standard.iloc[test_index]\n",
    "    y_train_st, y_test_st = Y_standard.iloc[train_index], Y_standard.iloc[test_index]\n",
    "    # Add a matrix of ones for our intercepts (y = mx + b)\n",
    "    ones_ind.index =  X_train.index\n",
    "    ones_ind_test.index = X_test.index\n",
    "    X_train = pd.concat([X_train,ones_ind],axis=1).dropna()\n",
    "    X_test = pd.concat([X_test,ones_ind_test],axis=1)\n",
    "    X_train_st = pd.concat([X_train_st,ones_ind],axis=1).dropna()\n",
    "    X_test_st = pd.concat([X_test_st,ones_ind_test],axis=1)\n",
    "    #print(X_train, X_test, y_train, y_test)\n",
    "    # Now fit a linear regression model\n",
    "    model = LinearRegression()\n",
    "    model.fit(X = X_train, y = y_train)\n",
    "    y_pred = model.predict(X_test)\n",
    "    # Standardized model\n",
    "    model_st = LinearRegression()\n",
    "    model_st.fit(X=X_train_st,y=y_train_st)\n",
    "    y_pred_st = model_st.predict(X_test_st)\n",
    "    # Keep track of predicted y and test y\n",
    "    y_predicted += list(y_pred)\n",
    "    y_test_vals += list(y_test)\n",
    "    y_predicted_st += list(y_pred_st)\n",
    "    y_test_vals_st += list(y_test_st)\n",
    "    # Calculate the correlation too (just a sanity check)\n",
    "    corr_vals = np.corrcoef(y_train,X_train.iloc[:,0])\n",
    "    corr_coef = np.append(corr_coef,corr_vals[0,1])"
   ]
  },
  {
   "cell_type": "code",
   "execution_count": 26,
   "metadata": {},
   "outputs": [
    {
     "name": "stdout",
     "output_type": "stream",
     "text": [
      "R^2:  -0.011311250165402686\n",
      "MSE:  1.1610453139848655\n",
      "straight corr:  0.06367167175143587\n"
     ]
    }
   ],
   "source": [
    "r2 = metrics.r2_score(y_test_vals, y_predicted)\n",
    "r2_st = metrics.r2_score(y_test_vals_st,y_predicted_st)\n",
    "ms_error = metrics.mean_squared_error(y_test_vals,y_predicted)\n",
    "print('R^2: ',r2)\n",
    "print('MSE: ',ms_error)\n",
    "print('straight corr: ',np.mean(corr_coef[1::]**2))"
   ]
  },
  {
   "cell_type": "code",
   "execution_count": 27,
   "metadata": {},
   "outputs": [
    {
     "data": {
      "image/png": "[encoded data removed]",
      "text/plain": [
       "<Figure size 432x288 with 2 Axes>"
      ]
     },
     "metadata": {
      "needs_background": "light"
     },
     "output_type": "display_data"
    }
   ],
   "source": [
    "fig1 = plt.figure(1)\n",
    "ax1 = fig1.add_axes([0,0,1,1])\n",
    "cyc_count_vs_SIE_min.plot.scatter(y='min SIE',x='cyclone count',ax=ax1,\n",
    "                                 linewidth=3,marker='o',c=cyc_count_vs_SIE_min.index,\n",
    "                                 cmap='inferno_r')\n",
    "ax1.grid()\n",
    "ax1.set_xlabel('Cyclone Count',fontsize=14)\n",
    "ax1.set_ylabel('Minimum Annual SIE (10$^6$ km$^2$)',fontsize=14)\n",
    "ax1.set_title('AC Count vs Minimum SIE, panArctic, obs',fontsize=14)\n",
    "cbar_ax = plt.gcf().get_axes()[1]\n",
    "cbar_ax.set_ylabel('Year',fontsize=13,rotation='horizontal',labelpad=-30,y=-0.05)\n",
    "fpath_save = '/home/disk/sipn/mcmcgraw/figures/synoptic_vs_seasonal_sea_ice_variability/'\n",
    "fname_1 = fpath_save+'scatter_plots/obs/min_SIE_vs_AC_count_panArctic_obs.png'\n",
    "#ax1.text(6600,5,'R$^2$ = {r2}'.format(r2=np.round(r2,3)))\n",
    "#fig1.savefig(fname_1,format='png',dpi=600,bbox_inches='tight')"
   ]
  },
  {
   "cell_type": "code",
   "execution_count": null,
   "metadata": {},
   "outputs": [],
   "source": []
  }
 ],
 "metadata": {
  "kernelspec": {
   "display_name": "Python 3",
   "language": "python",
   "name": "python3"
  },
  "language_info": {
   "codemirror_mode": {
    "name": "ipython",
    "version": 3
   },
   "file_extension": ".py",
   "mimetype": "text/x-python",
   "name": "python",
   "nbconvert_exporter": "python",
   "pygments_lexer": "ipython3",
   "version": "3.7.3"
  }
 },
 "nbformat": 4,
 "nbformat_minor": 2
}
